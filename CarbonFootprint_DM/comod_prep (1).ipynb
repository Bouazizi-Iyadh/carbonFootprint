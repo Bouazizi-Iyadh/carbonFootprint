{
 "cells": [
  {
   "cell_type": "code",
   "execution_count": null,
   "id": "b40dd334",
   "metadata": {},
   "outputs": [],
   "source": [
    "pip install plotly\n"
   ]
  },
  {
   "cell_type": "code",
   "execution_count": null,
   "id": "ba997334",
   "metadata": {},
   "outputs": [],
   "source": [
    "pip install dash"
   ]
  },
  {
   "cell_type": "code",
   "execution_count": null,
   "id": "f5196a89",
   "metadata": {},
   "outputs": [],
   "source": [
    "\n",
    "pip install pandas"
   ]
  },
  {
   "cell_type": "code",
   "execution_count": null,
   "id": "7e6eaeb9",
   "metadata": {},
   "outputs": [],
   "source": []
  },
  {
   "cell_type": "code",
   "execution_count": 1,
   "id": "1a3de6cd",
   "metadata": {},
   "outputs": [
    {
     "name": "stderr",
     "output_type": "stream",
     "text": [
      "<ipython-input-1-34ea50b5fc40>:7: UserWarning:\n",
      "\n",
      "\n",
      "The dash_core_components package is deprecated. Please replace\n",
      "`import dash_core_components as dcc` with `from dash import dcc`\n",
      "\n",
      "<ipython-input-1-34ea50b5fc40>:8: UserWarning:\n",
      "\n",
      "\n",
      "The dash_html_components package is deprecated. Please replace\n",
      "`import dash_html_components as html` with `from dash import html`\n",
      "\n"
     ]
    }
   ],
   "source": [
    "import numpy as np\n",
    "import pandas as pd\n",
    "import matplotlib.pyplot as plt\n",
    "import plotly.offline as pyo\n",
    "import plotly.graph_objs as go\n",
    "import dash\n",
    "import dash_core_components as dcc\n",
    "import dash_html_components as html\n",
    "import seaborn as sns\n",
    "from sklearn.cluster import KMeans\n",
    "from scipy.cluster.hierarchy import dendrogram, linkage,fcluster\n",
    "from sklearn.neighbors import KNeighborsClassifier\n",
    "from sklearn.metrics import confusion_matrix, classification_report\n",
    "from sklearn.tree import DecisionTreeClassifier\n",
    "from sklearn.ensemble import RandomForestClassifier\n",
    "from sklearn.model_selection import train_test_split\n",
    "from sklearn.impute import SimpleImputer\n",
    "from sklearn.compose import ColumnTransformer\n",
    "from sklearn.preprocessing import MinMaxScaler, StandardScaler, RobustScaler, OneHotEncoder\n",
    "from sklearn.pipeline import Pipeline\n",
    "from sklearn.metrics import roc_curve, auc, adjusted_rand_score\n",
    "from sklearn.decomposition import PCA, TruncatedSVD\n",
    "from sklearn import svm\n",
    "from scipy.stats import pearsonr, spearmanr\n",
    "import warnings\n",
    "warnings.simplefilter(action='ignore', category=FutureWarning)\n",
    "%matplotlib inline\n"
   ]
  },
  {
   "cell_type": "code",
   "execution_count": 2,
   "id": "8a880e53",
   "metadata": {},
   "outputs": [],
   "source": [
    "import pandas as pd\n",
    "\n",
    "# Read the CSV files\n",
    "country = pd.read_csv('countries.csv',sep = ',')\n",
    "\n",
    "commodity = pd.read_excel('commodity_trade_statistics_data-2016.xlsx')\n",
    "\n",
    "# Merge the dataframes\n",
    "merged_df = pd.merge(commodity, country, on='Country', how='left')\n",
    "\n",
    "\n"
   ]
  },
  {
   "cell_type": "code",
   "execution_count": null,
   "id": "f5901f7e",
   "metadata": {},
   "outputs": [],
   "source": [
    "\n"
   ]
  },
  {
   "cell_type": "code",
   "execution_count": 3,
   "id": "8a66e1be",
   "metadata": {},
   "outputs": [
    {
     "data": {
      "text/plain": [
       "(37408, 30)"
      ]
     },
     "execution_count": 3,
     "metadata": {},
     "output_type": "execute_result"
    }
   ],
   "source": [
    "\n",
    " merged_df.shape\n",
    "\n"
   ]
  },
  {
   "cell_type": "code",
   "execution_count": 4,
   "id": "9c720f37",
   "metadata": {},
   "outputs": [],
   "source": [
    "# Compréhension des données"
   ]
  },
  {
   "cell_type": "code",
   "execution_count": 5,
   "id": "9ad0b861",
   "metadata": {},
   "outputs": [
    {
     "data": {
      "text/plain": [
       "(37408, 30)"
      ]
     },
     "execution_count": 5,
     "metadata": {},
     "output_type": "execute_result"
    }
   ],
   "source": [
    "merged_df.shape"
   ]
  },
  {
   "cell_type": "code",
   "execution_count": 6,
   "id": "d9ebb0a4",
   "metadata": {},
   "outputs": [
    {
     "data": {
      "text/plain": [
       "Index(['Country', 'year', 'comm_code', 'commodity', 'flow', 'trade_usd',\n",
       "       'weight_kg', 'quantity_name', 'quantity', 'category', 'Region',\n",
       "       'Population (millions)', 'HDI', 'GDP per Capita', 'Cropland Footprint',\n",
       "       'Grazing Footprint', 'Forest Footprint', 'Carbon Footprint',\n",
       "       'Fish Footprint', 'Total Ecological Footprint', 'Cropland',\n",
       "       'Grazing Land', 'Forest Land', 'Fishing Water', 'Urban Land',\n",
       "       'Total Biocapacity', 'Biocapacity Deficit or Reserve',\n",
       "       'Earths Required', 'Countries Required', 'Data Quality'],\n",
       "      dtype='object')"
      ]
     },
     "execution_count": 6,
     "metadata": {},
     "output_type": "execute_result"
    }
   ],
   "source": [
    "merged_df.columns"
   ]
  },
  {
   "cell_type": "code",
   "execution_count": 7,
   "id": "0786825b",
   "metadata": {},
   "outputs": [],
   "source": [
    "merged_df= merged_df.drop(columns=['Region', 'year', 'comm_code',\n",
    "       'Population (millions)', 'HDI', 'GDP per Capita', 'Cropland Footprint',\n",
    "       'Grazing Footprint', 'Forest Footprint', \n",
    "       'Fish Footprint', 'Total Ecological Footprint', 'Cropland',\n",
    "       'Grazing Land', 'Forest Land', 'Fishing Water', 'Urban Land',\n",
    "       'Total Biocapacity', 'Biocapacity Deficit or Reserve',\n",
    "       'Earths Required', 'Countries Required', 'Data Quality'])"
   ]
  },
  {
   "cell_type": "code",
   "execution_count": 8,
   "id": "b9531bb2",
   "metadata": {},
   "outputs": [
    {
     "data": {
      "text/html": [
       "<div>\n",
       "<style scoped>\n",
       "    .dataframe tbody tr th:only-of-type {\n",
       "        vertical-align: middle;\n",
       "    }\n",
       "\n",
       "    .dataframe tbody tr th {\n",
       "        vertical-align: top;\n",
       "    }\n",
       "\n",
       "    .dataframe thead th {\n",
       "        text-align: right;\n",
       "    }\n",
       "</style>\n",
       "<table border=\"1\" class=\"dataframe\">\n",
       "  <thead>\n",
       "    <tr style=\"text-align: right;\">\n",
       "      <th></th>\n",
       "      <th>Country</th>\n",
       "      <th>commodity</th>\n",
       "      <th>flow</th>\n",
       "      <th>trade_usd</th>\n",
       "      <th>weight_kg</th>\n",
       "      <th>quantity_name</th>\n",
       "      <th>quantity</th>\n",
       "      <th>category</th>\n",
       "      <th>Carbon Footprint</th>\n",
       "    </tr>\n",
       "  </thead>\n",
       "  <tbody>\n",
       "    <tr>\n",
       "      <th>37403</th>\n",
       "      <td>Madagascar</td>\n",
       "      <td>Seaweeds and other algae,</td>\n",
       "      <td>Export</td>\n",
       "      <td>1014203</td>\n",
       "      <td>1687717.0</td>\n",
       "      <td>Weight in kilograms</td>\n",
       "      <td>1687717.0</td>\n",
       "      <td>12_oil_seed_oleagic_fruits_grain_seed_fruit_et...</td>\n",
       "      <td>0.07</td>\n",
       "    </tr>\n",
       "    <tr>\n",
       "      <th>37404</th>\n",
       "      <td>Madagascar</td>\n",
       "      <td>Vegetable products nes for human consumption</td>\n",
       "      <td>Import</td>\n",
       "      <td>4137</td>\n",
       "      <td>1369.0</td>\n",
       "      <td>Weight in kilograms</td>\n",
       "      <td>1369.0</td>\n",
       "      <td>12_oil_seed_oleagic_fruits_grain_seed_fruit_et...</td>\n",
       "      <td>0.07</td>\n",
       "    </tr>\n",
       "    <tr>\n",
       "      <th>37405</th>\n",
       "      <td>Madagascar</td>\n",
       "      <td>Cereal straw &amp; husks, unprepared</td>\n",
       "      <td>Export</td>\n",
       "      <td>11</td>\n",
       "      <td>4.0</td>\n",
       "      <td>Weight in kilograms</td>\n",
       "      <td>4.0</td>\n",
       "      <td>12_oil_seed_oleagic_fruits_grain_seed_fruit_et...</td>\n",
       "      <td>0.07</td>\n",
       "    </tr>\n",
       "    <tr>\n",
       "      <th>37406</th>\n",
       "      <td>Madagascar</td>\n",
       "      <td>Lucerne (alfalfa) meal and pellets</td>\n",
       "      <td>Import</td>\n",
       "      <td>1720</td>\n",
       "      <td>2000.0</td>\n",
       "      <td>Weight in kilograms</td>\n",
       "      <td>2000.0</td>\n",
       "      <td>12_oil_seed_oleagic_fruits_grain_seed_fruit_et...</td>\n",
       "      <td>0.07</td>\n",
       "    </tr>\n",
       "    <tr>\n",
       "      <th>37407</th>\n",
       "      <td>Madagascar</td>\n",
       "      <td>Other fodder and forage products, roots, etc.</td>\n",
       "      <td>Import</td>\n",
       "      <td>22021</td>\n",
       "      <td>66080.0</td>\n",
       "      <td>Weight in kilograms</td>\n",
       "      <td>66080.0</td>\n",
       "      <td>12_oil_seed_oleagic_fruits_grain_seed_fruit_et...</td>\n",
       "      <td>0.07</td>\n",
       "    </tr>\n",
       "  </tbody>\n",
       "</table>\n",
       "</div>"
      ],
      "text/plain": [
       "          Country                                      commodity    flow  \\\n",
       "37403  Madagascar                      Seaweeds and other algae,  Export   \n",
       "37404  Madagascar   Vegetable products nes for human consumption  Import   \n",
       "37405  Madagascar               Cereal straw & husks, unprepared  Export   \n",
       "37406  Madagascar             Lucerne (alfalfa) meal and pellets  Import   \n",
       "37407  Madagascar  Other fodder and forage products, roots, etc.  Import   \n",
       "\n",
       "       trade_usd  weight_kg        quantity_name   quantity  \\\n",
       "37403    1014203  1687717.0  Weight in kilograms  1687717.0   \n",
       "37404       4137     1369.0  Weight in kilograms     1369.0   \n",
       "37405         11        4.0  Weight in kilograms        4.0   \n",
       "37406       1720     2000.0  Weight in kilograms     2000.0   \n",
       "37407      22021    66080.0  Weight in kilograms    66080.0   \n",
       "\n",
       "                                                category  Carbon Footprint  \n",
       "37403  12_oil_seed_oleagic_fruits_grain_seed_fruit_et...              0.07  \n",
       "37404  12_oil_seed_oleagic_fruits_grain_seed_fruit_et...              0.07  \n",
       "37405  12_oil_seed_oleagic_fruits_grain_seed_fruit_et...              0.07  \n",
       "37406  12_oil_seed_oleagic_fruits_grain_seed_fruit_et...              0.07  \n",
       "37407  12_oil_seed_oleagic_fruits_grain_seed_fruit_et...              0.07  "
      ]
     },
     "execution_count": 8,
     "metadata": {},
     "output_type": "execute_result"
    }
   ],
   "source": [
    "merged_df.tail()"
   ]
  },
  {
   "cell_type": "code",
   "execution_count": 9,
   "id": "c38c0d3f",
   "metadata": {},
   "outputs": [
    {
     "name": "stdout",
     "output_type": "stream",
     "text": [
      "<class 'pandas.core.frame.DataFrame'>\n",
      "Int64Index: 37408 entries, 0 to 37407\n",
      "Data columns (total 9 columns):\n",
      " #   Column            Non-Null Count  Dtype  \n",
      "---  ------            --------------  -----  \n",
      " 0   Country           37408 non-null  object \n",
      " 1   commodity         37408 non-null  object \n",
      " 2   flow              37408 non-null  object \n",
      " 3   trade_usd         37408 non-null  int64  \n",
      " 4   weight_kg         36870 non-null  float64\n",
      " 5   quantity_name     37408 non-null  object \n",
      " 6   quantity          36415 non-null  float64\n",
      " 7   category          37408 non-null  object \n",
      " 8   Carbon Footprint  28686 non-null  float64\n",
      "dtypes: float64(3), int64(1), object(5)\n",
      "memory usage: 2.9+ MB\n"
     ]
    }
   ],
   "source": [
    "merged_df.info()"
   ]
  },
  {
   "cell_type": "code",
   "execution_count": 10,
   "id": "fb73dc3a",
   "metadata": {},
   "outputs": [
    {
     "data": {
      "text/plain": [
       "Country              object\n",
       "commodity            object\n",
       "flow                 object\n",
       "trade_usd             int64\n",
       "weight_kg           float64\n",
       "quantity_name        object\n",
       "quantity            float64\n",
       "category             object\n",
       "Carbon Footprint    float64\n",
       "dtype: object"
      ]
     },
     "execution_count": 10,
     "metadata": {},
     "output_type": "execute_result"
    }
   ],
   "source": [
    "merged_df.dtypes "
   ]
  },
  {
   "cell_type": "code",
   "execution_count": 14,
   "id": "b0bed3de",
   "metadata": {},
   "outputs": [
    {
     "data": {
      "text/html": [
       "<div>\n",
       "<style scoped>\n",
       "    .dataframe tbody tr th:only-of-type {\n",
       "        vertical-align: middle;\n",
       "    }\n",
       "\n",
       "    .dataframe tbody tr th {\n",
       "        vertical-align: top;\n",
       "    }\n",
       "\n",
       "    .dataframe thead th {\n",
       "        text-align: right;\n",
       "    }\n",
       "</style>\n",
       "<table border=\"1\" class=\"dataframe\">\n",
       "  <thead>\n",
       "    <tr style=\"text-align: right;\">\n",
       "      <th></th>\n",
       "      <th>trade_usd</th>\n",
       "      <th>weight_kg</th>\n",
       "      <th>quantity</th>\n",
       "      <th>Carbon Footprint</th>\n",
       "    </tr>\n",
       "  </thead>\n",
       "  <tbody>\n",
       "    <tr>\n",
       "      <th>count</th>\n",
       "      <td>3.740800e+04</td>\n",
       "      <td>3.687000e+04</td>\n",
       "      <td>3.641500e+04</td>\n",
       "      <td>28686.000000</td>\n",
       "    </tr>\n",
       "    <tr>\n",
       "      <th>mean</th>\n",
       "      <td>2.201496e+07</td>\n",
       "      <td>3.381471e+07</td>\n",
       "      <td>4.025141e+07</td>\n",
       "      <td>2.507078</td>\n",
       "    </tr>\n",
       "    <tr>\n",
       "      <th>std</th>\n",
       "      <td>2.495018e+08</td>\n",
       "      <td>7.108429e+08</td>\n",
       "      <td>1.174051e+09</td>\n",
       "      <td>2.035636</td>\n",
       "    </tr>\n",
       "    <tr>\n",
       "      <th>min</th>\n",
       "      <td>1.000000e+00</td>\n",
       "      <td>0.000000e+00</td>\n",
       "      <td>0.000000e+00</td>\n",
       "      <td>0.070000</td>\n",
       "    </tr>\n",
       "    <tr>\n",
       "      <th>25%</th>\n",
       "      <td>1.751450e+04</td>\n",
       "      <td>4.812250e+03</td>\n",
       "      <td>4.219500e+03</td>\n",
       "      <td>1.060000</td>\n",
       "    </tr>\n",
       "    <tr>\n",
       "      <th>50%</th>\n",
       "      <td>2.611290e+05</td>\n",
       "      <td>9.822800e+04</td>\n",
       "      <td>9.646300e+04</td>\n",
       "      <td>2.150000</td>\n",
       "    </tr>\n",
       "    <tr>\n",
       "      <th>75%</th>\n",
       "      <td>3.070000e+06</td>\n",
       "      <td>1.486965e+06</td>\n",
       "      <td>1.509268e+06</td>\n",
       "      <td>3.230000</td>\n",
       "    </tr>\n",
       "    <tr>\n",
       "      <th>max</th>\n",
       "      <td>3.398115e+10</td>\n",
       "      <td>8.391329e+10</td>\n",
       "      <td>1.758724e+11</td>\n",
       "      <td>12.650000</td>\n",
       "    </tr>\n",
       "  </tbody>\n",
       "</table>\n",
       "</div>"
      ],
      "text/plain": [
       "          trade_usd     weight_kg      quantity  Carbon Footprint\n",
       "count  3.740800e+04  3.687000e+04  3.641500e+04      28686.000000\n",
       "mean   2.201496e+07  3.381471e+07  4.025141e+07          2.507078\n",
       "std    2.495018e+08  7.108429e+08  1.174051e+09          2.035636\n",
       "min    1.000000e+00  0.000000e+00  0.000000e+00          0.070000\n",
       "25%    1.751450e+04  4.812250e+03  4.219500e+03          1.060000\n",
       "50%    2.611290e+05  9.822800e+04  9.646300e+04          2.150000\n",
       "75%    3.070000e+06  1.486965e+06  1.509268e+06          3.230000\n",
       "max    3.398115e+10  8.391329e+10  1.758724e+11         12.650000"
      ]
     },
     "execution_count": 14,
     "metadata": {},
     "output_type": "execute_result"
    }
   ],
   "source": [
    "merged_df.describe()"
   ]
  },
  {
   "cell_type": "code",
   "execution_count": 15,
   "id": "56c61061",
   "metadata": {},
   "outputs": [
    {
     "data": {
      "text/html": [
       "<div>\n",
       "<style scoped>\n",
       "    .dataframe tbody tr th:only-of-type {\n",
       "        vertical-align: middle;\n",
       "    }\n",
       "\n",
       "    .dataframe tbody tr th {\n",
       "        vertical-align: top;\n",
       "    }\n",
       "\n",
       "    .dataframe thead th {\n",
       "        text-align: right;\n",
       "    }\n",
       "</style>\n",
       "<table border=\"1\" class=\"dataframe\">\n",
       "  <thead>\n",
       "    <tr style=\"text-align: right;\">\n",
       "      <th></th>\n",
       "      <th>Country</th>\n",
       "      <th>commodity</th>\n",
       "      <th>flow</th>\n",
       "      <th>quantity_name</th>\n",
       "      <th>category</th>\n",
       "    </tr>\n",
       "  </thead>\n",
       "  <tbody>\n",
       "    <tr>\n",
       "      <th>count</th>\n",
       "      <td>37408</td>\n",
       "      <td>37408</td>\n",
       "      <td>37408</td>\n",
       "      <td>37408</td>\n",
       "      <td>37408</td>\n",
       "    </tr>\n",
       "    <tr>\n",
       "      <th>unique</th>\n",
       "      <td>122</td>\n",
       "      <td>426</td>\n",
       "      <td>4</td>\n",
       "      <td>3</td>\n",
       "      <td>12</td>\n",
       "    </tr>\n",
       "    <tr>\n",
       "      <th>top</th>\n",
       "      <td>Canada</td>\n",
       "      <td>Rice, semi-milled or wholly milled</td>\n",
       "      <td>Import</td>\n",
       "      <td>Weight in kilograms</td>\n",
       "      <td>08_edible_fruit_nuts_peel_of_citrus_fruit_melons</td>\n",
       "    </tr>\n",
       "    <tr>\n",
       "      <th>freq</th>\n",
       "      <td>1301</td>\n",
       "      <td>245</td>\n",
       "      <td>20636</td>\n",
       "      <td>33990</td>\n",
       "      <td>3725</td>\n",
       "    </tr>\n",
       "  </tbody>\n",
       "</table>\n",
       "</div>"
      ],
      "text/plain": [
       "       Country                           commodity    flow  \\\n",
       "count    37408                               37408   37408   \n",
       "unique     122                                 426       4   \n",
       "top     Canada  Rice, semi-milled or wholly milled  Import   \n",
       "freq      1301                                 245   20636   \n",
       "\n",
       "              quantity_name                                          category  \n",
       "count                 37408                                             37408  \n",
       "unique                    3                                                12  \n",
       "top     Weight in kilograms  08_edible_fruit_nuts_peel_of_citrus_fruit_melons  \n",
       "freq                  33990                                              3725  "
      ]
     },
     "execution_count": 15,
     "metadata": {},
     "output_type": "execute_result"
    }
   ],
   "source": [
    "merged_df.describe(include=['object'])"
   ]
  },
  {
   "cell_type": "code",
   "execution_count": 16,
   "id": "9edd1412",
   "metadata": {},
   "outputs": [
    {
     "data": {
      "image/png": "[encoded data removed]",
      "text/plain": [
       "<Figure size 1080x720 with 1 Axes>"
      ]
     },
     "metadata": {
      "needs_background": "light"
     },
     "output_type": "display_data"
    }
   ],
   "source": [
    "merged_df.iloc[:,1:].boxplot(figsize=(15,10));"
   ]
  },
  {
   "cell_type": "code",
   "execution_count": null,
   "id": "0027e942",
   "metadata": {},
   "outputs": [],
   "source": []
  },
  {
   "cell_type": "code",
   "execution_count": 17,
   "id": "1dcd5f53",
   "metadata": {},
   "outputs": [
    {
     "data": {
      "text/html": [
       "<div>\n",
       "<style scoped>\n",
       "    .dataframe tbody tr th:only-of-type {\n",
       "        vertical-align: middle;\n",
       "    }\n",
       "\n",
       "    .dataframe tbody tr th {\n",
       "        vertical-align: top;\n",
       "    }\n",
       "\n",
       "    .dataframe thead th {\n",
       "        text-align: right;\n",
       "    }\n",
       "</style>\n",
       "<table border=\"1\" class=\"dataframe\">\n",
       "  <thead>\n",
       "    <tr style=\"text-align: right;\">\n",
       "      <th></th>\n",
       "      <th>trade_usd</th>\n",
       "      <th>weight_kg</th>\n",
       "      <th>quantity</th>\n",
       "      <th>Carbon Footprint</th>\n",
       "    </tr>\n",
       "  </thead>\n",
       "  <tbody>\n",
       "    <tr>\n",
       "      <th>trade_usd</th>\n",
       "      <td>1.000000</td>\n",
       "      <td>0.877439</td>\n",
       "      <td>0.534227</td>\n",
       "      <td>0.008549</td>\n",
       "    </tr>\n",
       "    <tr>\n",
       "      <th>weight_kg</th>\n",
       "      <td>0.877439</td>\n",
       "      <td>1.000000</td>\n",
       "      <td>0.611267</td>\n",
       "      <td>-0.000508</td>\n",
       "    </tr>\n",
       "    <tr>\n",
       "      <th>quantity</th>\n",
       "      <td>0.534227</td>\n",
       "      <td>0.611267</td>\n",
       "      <td>1.000000</td>\n",
       "      <td>0.002934</td>\n",
       "    </tr>\n",
       "    <tr>\n",
       "      <th>Carbon Footprint</th>\n",
       "      <td>0.008549</td>\n",
       "      <td>-0.000508</td>\n",
       "      <td>0.002934</td>\n",
       "      <td>1.000000</td>\n",
       "    </tr>\n",
       "  </tbody>\n",
       "</table>\n",
       "</div>"
      ],
      "text/plain": [
       "                  trade_usd  weight_kg  quantity  Carbon Footprint\n",
       "trade_usd          1.000000   0.877439  0.534227          0.008549\n",
       "weight_kg          0.877439   1.000000  0.611267         -0.000508\n",
       "quantity           0.534227   0.611267  1.000000          0.002934\n",
       "Carbon Footprint   0.008549  -0.000508  0.002934          1.000000"
      ]
     },
     "execution_count": 17,
     "metadata": {},
     "output_type": "execute_result"
    }
   ],
   "source": [
    "merged_df.iloc[:,1:].corr()"
   ]
  },
  {
   "cell_type": "code",
   "execution_count": 18,
   "id": "2c80e9b3",
   "metadata": {},
   "outputs": [
    {
     "data": {
      "image/png": "[encoded data removed]",
      "text/plain": [
       "<Figure size 432x288 with 2 Axes>"
      ]
     },
     "metadata": {
      "needs_background": "light"
     },
     "output_type": "display_data"
    }
   ],
   "source": [
    "plt.imshow(merged_df.iloc[:,1:].corr());\n",
    "plt.colorbar();"
   ]
  },
  {
   "cell_type": "code",
   "execution_count": null,
   "id": "a3e475b7",
   "metadata": {},
   "outputs": [],
   "source": []
  },
  {
   "cell_type": "code",
   "execution_count": null,
   "id": "bdfba06d",
   "metadata": {},
   "outputs": [],
   "source": []
  },
  {
   "cell_type": "code",
   "execution_count": null,
   "id": "75a7b200",
   "metadata": {},
   "outputs": [],
   "source": []
  },
  {
   "cell_type": "code",
   "execution_count": 19,
   "id": "50220a52",
   "metadata": {},
   "outputs": [
    {
     "data": {
      "text/plain": [
       "Country                0\n",
       "commodity              0\n",
       "flow                   0\n",
       "trade_usd              0\n",
       "weight_kg            538\n",
       "quantity_name          0\n",
       "quantity             993\n",
       "category               0\n",
       "Carbon Footprint    8722\n",
       "dtype: int64"
      ]
     },
     "execution_count": 19,
     "metadata": {},
     "output_type": "execute_result"
    }
   ],
   "source": [
    "merged_df.isna().sum()\n"
   ]
  },
  {
   "cell_type": "code",
   "execution_count": null,
   "id": "abbfdae3",
   "metadata": {},
   "outputs": [],
   "source": []
  },
  {
   "cell_type": "code",
   "execution_count": null,
   "id": "1b505116",
   "metadata": {},
   "outputs": [],
   "source": [
    "\n"
   ]
  },
  {
   "cell_type": "code",
   "execution_count": null,
   "id": "5ca185bd",
   "metadata": {},
   "outputs": [],
   "source": []
  },
  {
   "cell_type": "code",
   "execution_count": null,
   "id": "e5d9d44c",
   "metadata": {},
   "outputs": [],
   "source": []
  },
  {
   "cell_type": "code",
   "execution_count": null,
   "id": "626806a6",
   "metadata": {},
   "outputs": [],
   "source": []
  },
  {
   "cell_type": "code",
   "execution_count": null,
   "id": "de7fc246",
   "metadata": {},
   "outputs": [],
   "source": []
  },
  {
   "cell_type": "code",
   "execution_count": null,
   "id": "1aa87789",
   "metadata": {},
   "outputs": [],
   "source": [
    "\n"
   ]
  },
  {
   "cell_type": "markdown",
   "id": "f70a3ffa",
   "metadata": {},
   "source": [
    "# Feature Engineering"
   ]
  },
  {
   "cell_type": "code",
   "execution_count": null,
   "id": "c8308fa3",
   "metadata": {},
   "outputs": [],
   "source": []
  },
  {
   "cell_type": "code",
   "execution_count": 20,
   "id": "3b083f22",
   "metadata": {},
   "outputs": [],
   "source": [
    "##val NA whith mean\n",
    "merged_df.fillna(merged_df.mean(), inplace=True)\n"
   ]
  },
  {
   "cell_type": "code",
   "execution_count": 21,
   "id": "e49aa87b",
   "metadata": {
    "scrolled": true
   },
   "outputs": [
    {
     "data": {
      "text/plain": [
       "Country             0\n",
       "commodity           0\n",
       "flow                0\n",
       "trade_usd           0\n",
       "weight_kg           0\n",
       "quantity_name       0\n",
       "quantity            0\n",
       "category            0\n",
       "Carbon Footprint    0\n",
       "dtype: int64"
      ]
     },
     "execution_count": 21,
     "metadata": {},
     "output_type": "execute_result"
    }
   ],
   "source": [
    "merged_df.isna().sum()"
   ]
  },
  {
   "cell_type": "code",
   "execution_count": 22,
   "id": "647671e7",
   "metadata": {},
   "outputs": [],
   "source": [
    "import seaborn as sb\n",
    "import numpy as np\n",
    "\n",
    "features =['trade_usd','weight_kg','quantity','Carbon Footprint']\n",
    "\n",
    "def impute(merged_df, feature):\n",
    "    q1 = np.percentile(merged_df[feature] , 25)\n",
    "    q3 = np.percentile(merged_df[feature] , 75)\n",
    "    iqr = q3 - q1 \n",
    "    lower = q1 - 1.5 * iqr\n",
    "    upper = q3 + 1.5 * iqr\n",
    "    merged_df.loc[merged_df[feature] < lower, feature] = lower\n",
    "    merged_df.loc[merged_df[feature] > upper, feature] = upper\n",
    "\n",
    "for feature in features:\n",
    "    impute(merged_df, feature)"
   ]
  },
  {
   "cell_type": "code",
   "execution_count": 23,
   "id": "b26642c0",
   "metadata": {},
   "outputs": [
    {
     "data": {
      "image/png": "[encoded data removed]",
      "text/plain": [
       "<Figure size 1080x720 with 1 Axes>"
      ]
     },
     "metadata": {
      "needs_background": "light"
     },
     "output_type": "display_data"
    }
   ],
   "source": [
    "merged_df.iloc[:,1:].boxplot(figsize=(15,10));"
   ]
  },
  {
   "cell_type": "code",
   "execution_count": 29,
   "id": "b106e232",
   "metadata": {},
   "outputs": [],
   "source": [
    "\n"
   ]
  },
  {
   "cell_type": "code",
   "execution_count": 31,
   "id": "2bed9cc7",
   "metadata": {},
   "outputs": [],
   "source": []
  },
  {
   "cell_type": "code",
   "execution_count": null,
   "id": "4cf1fcc6",
   "metadata": {},
   "outputs": [],
   "source": []
  },
  {
   "cell_type": "code",
   "execution_count": 25,
   "id": "09d1b8e0",
   "metadata": {},
   "outputs": [
    {
     "data": {
      "text/html": [
       "<div>\n",
       "<style scoped>\n",
       "    .dataframe tbody tr th:only-of-type {\n",
       "        vertical-align: middle;\n",
       "    }\n",
       "\n",
       "    .dataframe tbody tr th {\n",
       "        vertical-align: top;\n",
       "    }\n",
       "\n",
       "    .dataframe thead th {\n",
       "        text-align: right;\n",
       "    }\n",
       "</style>\n",
       "<table border=\"1\" class=\"dataframe\">\n",
       "  <thead>\n",
       "    <tr style=\"text-align: right;\">\n",
       "      <th></th>\n",
       "      <th>Country</th>\n",
       "      <th>commodity</th>\n",
       "      <th>flow</th>\n",
       "      <th>trade_usd</th>\n",
       "      <th>weight_kg</th>\n",
       "      <th>quantity_name</th>\n",
       "      <th>quantity</th>\n",
       "      <th>category</th>\n",
       "      <th>Carbon Footprint</th>\n",
       "    </tr>\n",
       "  </thead>\n",
       "  <tbody>\n",
       "    <tr>\n",
       "      <th>0</th>\n",
       "      <td>Afghanistan</td>\n",
       "      <td>Sheep, live</td>\n",
       "      <td>Export</td>\n",
       "      <td>6088.000</td>\n",
       "      <td>2339.0</td>\n",
       "      <td>Number of items</td>\n",
       "      <td>51.00</td>\n",
       "      <td>01_live_animals</td>\n",
       "      <td>0.18</td>\n",
       "    </tr>\n",
       "    <tr>\n",
       "      <th>1</th>\n",
       "      <td>Afghanistan</td>\n",
       "      <td>Goats, live</td>\n",
       "      <td>Export</td>\n",
       "      <td>3958.000</td>\n",
       "      <td>984.0</td>\n",
       "      <td>Number of items</td>\n",
       "      <td>53.00</td>\n",
       "      <td>01_live_animals</td>\n",
       "      <td>0.18</td>\n",
       "    </tr>\n",
       "    <tr>\n",
       "      <th>2</th>\n",
       "      <td>Albania</td>\n",
       "      <td>Bovine animals, live, except pure-bred breeding</td>\n",
       "      <td>Import</td>\n",
       "      <td>2414533.000</td>\n",
       "      <td>1114023.0</td>\n",
       "      <td>Number of items</td>\n",
       "      <td>6853.00</td>\n",
       "      <td>01_live_animals</td>\n",
       "      <td>0.87</td>\n",
       "    </tr>\n",
       "    <tr>\n",
       "      <th>3</th>\n",
       "      <td>Albania</td>\n",
       "      <td>Swine, live except pure-bred breeding &gt; 50 kg</td>\n",
       "      <td>Import</td>\n",
       "      <td>7648728.875</td>\n",
       "      <td>4270997.0</td>\n",
       "      <td>Number of items</td>\n",
       "      <td>96040.00</td>\n",
       "      <td>01_live_animals</td>\n",
       "      <td>0.87</td>\n",
       "    </tr>\n",
       "    <tr>\n",
       "      <th>4</th>\n",
       "      <td>Albania</td>\n",
       "      <td>Fowls, live domestic &lt; 185 grams</td>\n",
       "      <td>Import</td>\n",
       "      <td>2671732.000</td>\n",
       "      <td>254652.0</td>\n",
       "      <td>Number of items</td>\n",
       "      <td>4895775.75</td>\n",
       "      <td>01_live_animals</td>\n",
       "      <td>0.87</td>\n",
       "    </tr>\n",
       "    <tr>\n",
       "      <th>...</th>\n",
       "      <td>...</td>\n",
       "      <td>...</td>\n",
       "      <td>...</td>\n",
       "      <td>...</td>\n",
       "      <td>...</td>\n",
       "      <td>...</td>\n",
       "      <td>...</td>\n",
       "      <td>...</td>\n",
       "      <td>...</td>\n",
       "    </tr>\n",
       "    <tr>\n",
       "      <th>37403</th>\n",
       "      <td>Madagascar</td>\n",
       "      <td>Seaweeds and other algae,</td>\n",
       "      <td>Export</td>\n",
       "      <td>1014203.000</td>\n",
       "      <td>1687717.0</td>\n",
       "      <td>Weight in kilograms</td>\n",
       "      <td>1687717.00</td>\n",
       "      <td>12_oil_seed_oleagic_fruits_grain_seed_fruit_et...</td>\n",
       "      <td>0.07</td>\n",
       "    </tr>\n",
       "    <tr>\n",
       "      <th>37404</th>\n",
       "      <td>Madagascar</td>\n",
       "      <td>Vegetable products nes for human consumption</td>\n",
       "      <td>Import</td>\n",
       "      <td>4137.000</td>\n",
       "      <td>1369.0</td>\n",
       "      <td>Weight in kilograms</td>\n",
       "      <td>1369.00</td>\n",
       "      <td>12_oil_seed_oleagic_fruits_grain_seed_fruit_et...</td>\n",
       "      <td>0.07</td>\n",
       "    </tr>\n",
       "    <tr>\n",
       "      <th>37405</th>\n",
       "      <td>Madagascar</td>\n",
       "      <td>Cereal straw &amp; husks, unprepared</td>\n",
       "      <td>Export</td>\n",
       "      <td>11.000</td>\n",
       "      <td>4.0</td>\n",
       "      <td>Weight in kilograms</td>\n",
       "      <td>4.00</td>\n",
       "      <td>12_oil_seed_oleagic_fruits_grain_seed_fruit_et...</td>\n",
       "      <td>0.07</td>\n",
       "    </tr>\n",
       "    <tr>\n",
       "      <th>37406</th>\n",
       "      <td>Madagascar</td>\n",
       "      <td>Lucerne (alfalfa) meal and pellets</td>\n",
       "      <td>Import</td>\n",
       "      <td>1720.000</td>\n",
       "      <td>2000.0</td>\n",
       "      <td>Weight in kilograms</td>\n",
       "      <td>2000.00</td>\n",
       "      <td>12_oil_seed_oleagic_fruits_grain_seed_fruit_et...</td>\n",
       "      <td>0.07</td>\n",
       "    </tr>\n",
       "    <tr>\n",
       "      <th>37407</th>\n",
       "      <td>Madagascar</td>\n",
       "      <td>Other fodder and forage products, roots, etc.</td>\n",
       "      <td>Import</td>\n",
       "      <td>22021.000</td>\n",
       "      <td>66080.0</td>\n",
       "      <td>Weight in kilograms</td>\n",
       "      <td>66080.00</td>\n",
       "      <td>12_oil_seed_oleagic_fruits_grain_seed_fruit_et...</td>\n",
       "      <td>0.07</td>\n",
       "    </tr>\n",
       "  </tbody>\n",
       "</table>\n",
       "<p>37408 rows × 9 columns</p>\n",
       "</div>"
      ],
      "text/plain": [
       "           Country                                        commodity    flow  \\\n",
       "0      Afghanistan                                      Sheep, live  Export   \n",
       "1      Afghanistan                                      Goats, live  Export   \n",
       "2          Albania  Bovine animals, live, except pure-bred breeding  Import   \n",
       "3          Albania    Swine, live except pure-bred breeding > 50 kg  Import   \n",
       "4          Albania                 Fowls, live domestic < 185 grams  Import   \n",
       "...            ...                                              ...     ...   \n",
       "37403   Madagascar                        Seaweeds and other algae,  Export   \n",
       "37404   Madagascar     Vegetable products nes for human consumption  Import   \n",
       "37405   Madagascar                 Cereal straw & husks, unprepared  Export   \n",
       "37406   Madagascar               Lucerne (alfalfa) meal and pellets  Import   \n",
       "37407   Madagascar    Other fodder and forage products, roots, etc.  Import   \n",
       "\n",
       "         trade_usd  weight_kg        quantity_name    quantity  \\\n",
       "0         6088.000     2339.0      Number of items       51.00   \n",
       "1         3958.000      984.0      Number of items       53.00   \n",
       "2      2414533.000  1114023.0      Number of items     6853.00   \n",
       "3      7648728.875  4270997.0      Number of items    96040.00   \n",
       "4      2671732.000   254652.0      Number of items  4895775.75   \n",
       "...            ...        ...                  ...         ...   \n",
       "37403  1014203.000  1687717.0  Weight in kilograms  1687717.00   \n",
       "37404     4137.000     1369.0  Weight in kilograms     1369.00   \n",
       "37405       11.000        4.0  Weight in kilograms        4.00   \n",
       "37406     1720.000     2000.0  Weight in kilograms     2000.00   \n",
       "37407    22021.000    66080.0  Weight in kilograms    66080.00   \n",
       "\n",
       "                                                category  Carbon Footprint  \n",
       "0                                        01_live_animals              0.18  \n",
       "1                                        01_live_animals              0.18  \n",
       "2                                        01_live_animals              0.87  \n",
       "3                                        01_live_animals              0.87  \n",
       "4                                        01_live_animals              0.87  \n",
       "...                                                  ...               ...  \n",
       "37403  12_oil_seed_oleagic_fruits_grain_seed_fruit_et...              0.07  \n",
       "37404  12_oil_seed_oleagic_fruits_grain_seed_fruit_et...              0.07  \n",
       "37405  12_oil_seed_oleagic_fruits_grain_seed_fruit_et...              0.07  \n",
       "37406  12_oil_seed_oleagic_fruits_grain_seed_fruit_et...              0.07  \n",
       "37407  12_oil_seed_oleagic_fruits_grain_seed_fruit_et...              0.07  \n",
       "\n",
       "[37408 rows x 9 columns]"
      ]
     },
     "execution_count": 25,
     "metadata": {},
     "output_type": "execute_result"
    }
   ],
   "source": []
  },
  {
   "cell_type": "code",
   "execution_count": null,
   "id": "697e0de2",
   "metadata": {},
   "outputs": [],
   "source": [
    "commodity_final = commodity_final.drop(columns=['Country','Region', 'Population (millions)','HDI','Total Ecological Footprint','Data Quality','Countries Required','Earths Required','Biocapacity Deficit or Reserve','Total Biocapacity'])"
   ]
  },
  {
   "cell_type": "markdown",
   "id": "5dfd9b4c",
   "metadata": {},
   "source": [
    "### Gestion  Encoding + Rescaling "
   ]
  },
  {
   "cell_type": "raw",
   "id": "8b13e735",
   "metadata": {},
   "source": [
    "Le but d'utiliser les pipelines est de vérifier les meilleurs transformations pour avoir les meilleurs modèles. Les transformations qu'on va tester sont les imputers et les rescalers et on vérifie la qualité avec le score des modèles de classification."
   ]
  },
  {
   "cell_type": "code",
   "execution_count": null,
   "id": "ed5bb73b",
   "metadata": {},
   "outputs": [],
   "source": [
    "##encodage\n",
    "from sklearn.preprocessing import LabelEncoder\n",
    "\n",
    "encoder = LabelEncoder()\n",
    "merged_df['Country'] = encoder.fit_transform(merged_df['Country'])\n",
    "merged_df['commodity'] = encoder.fit_transform(merged_df['commodity'])\n",
    "merged_df['flow'] = encoder.fit_transform(merged_df['flow'])\n",
    "merged_df['quantity_name'] = encoder.fit_transform(merged_df['quantity_name'])\n",
    "merged_df['category'] = encoder.fit_transform(merged_df['category'])\n",
    "\n"
   ]
  },
  {
   "cell_type": "code",
   "execution_count": null,
   "id": "4054b595",
   "metadata": {},
   "outputs": [],
   "source": [
    "merged_df.dtypes "
   ]
  },
  {
   "cell_type": "code",
   "execution_count": null,
   "id": "2d558883",
   "metadata": {},
   "outputs": [],
   "source": []
  },
  {
   "cell_type": "code",
   "execution_count": null,
   "id": "6966da99",
   "metadata": {},
   "outputs": [],
   "source": [
    "merged_df.plot(kind='density',figsize=(13,5))\n",
    "plt.title('All variables with different scales', fontsize=20)\n",
    "plt.show()"
   ]
  },
  {
   "cell_type": "code",
   "execution_count": null,
   "id": "7c3fe7b4",
   "metadata": {},
   "outputs": [],
   "source": [
    "merged_df.columns"
   ]
  },
  {
   "cell_type": "code",
   "execution_count": null,
   "id": "6087ad53",
   "metadata": {},
   "outputs": [],
   "source": [
    "ss = StandardScaler()\n",
    "numerical_cols = ['Country', 'commodity', 'flow', 'trade_usd', 'weight_kg',\n",
    "       'quantity_name', 'quantity', 'category', 'Carbon Footprint'] # replace with actual numerical column names\n",
    "merged_df_cp = merged_df[numerical_cols]\n",
    "ssr = ss.fit_transform(merged_df_cp)\n",
    "merged_df_rescaled = pd.DataFrame(ssr, columns=numerical_cols)\n",
    "\n",
    "\n"
   ]
  },
  {
   "cell_type": "code",
   "execution_count": null,
   "id": "5d0ec623",
   "metadata": {},
   "outputs": [],
   "source": [
    "merged_df_rescaled.plot(kind='density',figsize=(13,5))\n",
    "plt.title('All variables with different scales', fontsize=20)\n",
    "plt.show()"
   ]
  },
  {
   "cell_type": "code",
   "execution_count": null,
   "id": "a7a5ee31",
   "metadata": {},
   "outputs": [],
   "source": [
    "merged_df_rescaled.tail()"
   ]
  },
  {
   "cell_type": "code",
   "execution_count": null,
   "id": "c290296a",
   "metadata": {},
   "outputs": [],
   "source": [
    "merged_df_rescaled.describe"
   ]
  },
  {
   "cell_type": "markdown",
   "id": "61b1e9f2",
   "metadata": {},
   "source": [
    "# Feature Selection / Dimension Reduction"
   ]
  },
  {
   "cell_type": "raw",
   "id": "485cf1a4",
   "metadata": {},
   "source": [
    "# On va maintenant diviser notre dataset en X (les données statistiques) et y (la variable cible)."
   ]
  },
  {
   "cell_type": "code",
   "execution_count": null,
   "id": "aacb7a50",
   "metadata": {},
   "outputs": [],
   "source": []
  },
  {
   "cell_type": "code",
   "execution_count": null,
   "id": "3c84d27f",
   "metadata": {},
   "outputs": [],
   "source": []
  },
  {
   "cell_type": "code",
   "execution_count": null,
   "id": "30836b2b",
   "metadata": {},
   "outputs": [],
   "source": [
    "X =merged_df_rescaled.drop('commodity', axis=1)\n",
    "y = merged_df_rescaled['commodity']\n",
    "numeric_features = X.select_dtypes(include=['int64', 'float64']).columns\n",
    "categorical_features = X.select_dtypes(include=['object']).columns"
   ]
  },
  {
   "cell_type": "code",
   "execution_count": null,
   "id": "138495c9",
   "metadata": {},
   "outputs": [],
   "source": [
    "#  principal component analysis (PCA) sont deux méthodes de valeurs propres utilisées pour réduire un ensemble de données de grande dimension en moins de dimensions tout en conservant des informations importantes."
   ]
  },
  {
   "cell_type": "markdown",
   "id": "a6a9dc77",
   "metadata": {},
   "source": [
    "# ACP"
   ]
  },
  {
   "cell_type": "code",
   "execution_count": null,
   "id": "27970ced",
   "metadata": {},
   "outputs": [],
   "source": [
    "# Calcul des composantes principales\n",
    "# Le nombre de composantes (K) n’étant pas spécifié, il est par défaut égal au nombre de variables (K = p)\n",
    "pca = PCA(svd_solver='full')\n",
    "coord = pca.fit_transform(X)\n",
    "coord"
   ]
  },
  {
   "cell_type": "code",
   "execution_count": null,
   "id": "df88ee33",
   "metadata": {},
   "outputs": [],
   "source": [
    "\n",
    "# Vérification des valeurs manquantes\n",
    "print(merged_df_rescaled.isna().sum())\n",
    "\n",
    "\n",
    "\n",
    "# Vérification des types de données\n",
    "print(merged_df_rescaled.dtypes)\n",
    "\n",
    "# Conversion des données en float64\n",
    "merged_df_rescaled = merged_df_rescaled.astype(float)\n",
    "\n",
    "# Création de X en excluant la colonne 'commodity'\n",
    "X = merged_df_rescaled.drop('commodity', axis=1)\n",
    "\n",
    "# Exécution de la PCA\n",
    "pca = PCA(svd_solver='full')\n",
    "coord = pca.fit_transform(X)\n",
    "coord"
   ]
  },
  {
   "cell_type": "code",
   "execution_count": null,
   "id": "abf5095c",
   "metadata": {},
   "outputs": [],
   "source": [
    "pca.n_components_"
   ]
  },
  {
   "cell_type": "code",
   "execution_count": null,
   "id": "ee0affaf",
   "metadata": {},
   "outputs": [],
   "source": [
    "pca.explained_variance_"
   ]
  },
  {
   "cell_type": "code",
   "execution_count": null,
   "id": "4187e2ec",
   "metadata": {},
   "outputs": [],
   "source": [
    "pca.explained_variance_ratio_"
   ]
  },
  {
   "cell_type": "code",
   "execution_count": null,
   "id": "8eeee6f2",
   "metadata": {},
   "outputs": [],
   "source": [
    "#nombre d'observations\n",
    "n = X.shape[0]\n",
    "#nombre de variables\n",
    "p = X.shape[1]\n",
    "eig = eigval = (n-1)/n*pca.explained_variance_\n",
    "eigval"
   ]
  },
  {
   "cell_type": "code",
   "execution_count": null,
   "id": "924126db",
   "metadata": {},
   "outputs": [],
   "source": [
    "# barplot des valeurs propres\n",
    "plt.bar(np.arange(1,p+1),eigval);\n",
    "plt.title(\"Barplot\")\n",
    "plt.ylabel(\"Eigen values\")\n",
    "plt.xlabel(\"Factor number\")\n",
    "plt.show()"
   ]
  },
  {
   "cell_type": "code",
   "execution_count": null,
   "id": "25c5d2c4",
   "metadata": {},
   "outputs": [],
   "source": [
    "#scree plot\n",
    "plt.plot(np.arange(1,p+1),eigval)\n",
    "plt.title(\"Scree plot\")\n",
    "plt.ylabel(\"Eigen values\")\n",
    "plt.xlabel(\"Factor number\")\n",
    "plt.show()"
   ]
  },
  {
   "cell_type": "code",
   "execution_count": null,
   "id": "564945a5",
   "metadata": {},
   "outputs": [],
   "source": [
    "#cumul de variance expliquée\n",
    "plt.plot(np.arange(1,p+1),np.cumsum(pca.explained_variance_ratio_))\n",
    "plt.title(\"Explained variance vs. # of factors\")\n",
    "plt.ylabel(\"Accumulative explained variance ratio\")\n",
    "plt.xlabel(\"Factor number\")\n",
    "plt.show()\n",
    "np.cumsum(pca.explained_variance_ratio_)"
   ]
  },
  {
   "cell_type": "raw",
   "id": "954de2e5",
   "metadata": {},
   "source": [
    "- D'après le critère de coude, on préserve 2 composantes principales (axes)\n",
    "    - Ensemble, ils expliquent \" 57%   \" de l'information"
   ]
  },
  {
   "cell_type": "markdown",
   "id": "da3065a6",
   "metadata": {},
   "source": [
    "### Analyse des individus"
   ]
  },
  {
   "cell_type": "code",
   "execution_count": null,
   "id": "4a5a83a5",
   "metadata": {},
   "outputs": [],
   "source": [
    "#contribution des individus dans l'inertie totale\n",
    "di = np.sum(X**2,axis=1)\n",
    "#qualité de représentation des individus - COS2\n",
    "cos2 = coord**2\n",
    "for j in range(p):\n",
    "    cos2[:,j] = cos2[:,j]/di\n",
    "#contributions aux axes\n",
    "ctr = coord**2\n",
    "for j in range(p):\n",
    "    ctr[:,j] = ctr[:,j]/(n*eigval[j])\n",
    "\n",
    "pd.DataFrame({'Inertie':di,'COS2_D1':cos2[:,0],'COS2_D2':cos2[:,1],'COS2_D3':cos2[:,2],'COS2_D4':cos2[:,3],\n",
    "              'Contrib_D1':ctr[:,0],'Contrib_D2':ctr[:,1],'Contrib_D3':ctr[:,2],'Contrib_D4':ctr[:,3]})"
   ]
  },
  {
   "cell_type": "code",
   "execution_count": null,
   "id": "626b8ab3",
   "metadata": {},
   "outputs": [],
   "source": [
    "#positionnement des individus dans le plan\n",
    "colors = ['blue','yellow']\n",
    "fig, axes = plt.subplots(figsize=(12,12))\n",
    "axes.set_xlim(-10,10) #même limites en abscisse\n",
    "axes.set_ylim(-10,10) #et en ordonnée\n",
    "#conversion de y en entiers\n",
    "y_int = y\n",
    "#placement des étiquettes des observations\n",
    "for i in range(n):\n",
    "    plt.annotate(X.index[i],(coord[i,0],coord[i,1]),color=colors[y_int[i]])\n",
    "#ajouter les axes\n",
    "plt.plot([-10,10],[0,0],color='black',linestyle='-',linewidth=1)\n",
    "plt.plot([0,0],[-10,10],color='black',linestyle='-',linewidth=1)\n",
    "#affichage\n",
    "plt.xlabel(\"Dim 1 (%0.2f %%)\"% (pca.explained_variance_ratio_[0]*100))\n",
    "plt.ylabel(\"Dim 2 (%0.2f %%)\"% (pca.explained_variance_ratio_[1]*100))\n",
    "plt.show()"
   ]
  },
  {
   "cell_type": "code",
   "execution_count": null,
   "id": "8a49cbec",
   "metadata": {},
   "outputs": [],
   "source": [
    "\n",
    "# Matrice de Corrélation\n",
    "sqrt_eigval = np.sqrt(eigval)\n",
    "corvar = np.zeros((p,p))\n",
    "for k in range(p):\n",
    "    corvar[:,k] = pca.components_[k,:] * sqrt_eigval[k]\n",
    "#cosinus carré des variables (qualité de représentation)\n",
    "cos2var = corvar**2\n",
    "#contributions\n",
    "ctrvar = cos2var\n",
    "for k in range(p):\n",
    "    ctrvar[:,k] = ctrvar[:,k]/eigval[k]\n",
    "\n",
    "    \n",
    "pd.DataFrame({'id':X.columns,'COR_D1':corvar[:,0],'COR_D2':corvar[:,1], 'COR_D3':corvar[:,2],'COR_D4':corvar[:,3],\n",
    "              'COS2_D1':cos2var[:,0],'COS2_D2':cos2var[:,1], 'COS2_D3':cos2var[:,2],'COS2_D4':cos2var[:,3],\n",
    "              'Contrib_D1':ctrvar[:,0],'Contrib_D2':ctrvar[:,1],'Contrib_D3':ctrvar[:,2],'Contrib_D4':ctrvar[:,3]})"
   ]
  },
  {
   "cell_type": "code",
   "execution_count": null,
   "id": "9cce235a",
   "metadata": {},
   "outputs": [],
   "source": [
    "#corrélation de la cible avec les axes factoriels\n",
    "corSupp = np.zeros((1,p))\n",
    "for k in range(p):\n",
    "    corSupp[0,k] = np.corrcoef(y,coord[:,k])[0,1]\n",
    "corSupp"
   ]
  },
  {
   "cell_type": "code",
   "execution_count": null,
   "id": "96fa936f",
   "metadata": {},
   "outputs": [],
   "source": [
    "#cercle des corrélations du plan\n",
    "fig, axes = plt.subplots(figsize=(10,10))\n",
    "axes.set_xlim(-1,1)\n",
    "axes.set_ylim(-1,1)\n",
    "#affichage des variables actives\n",
    "for j in range(p):\n",
    "    plt.annotate(X.columns[j],(corvar[j,0],corvar[j,1]),color='blue')\n",
    "    plt.annotate(\"\",\n",
    "              xy=(0, 0), xycoords='data',\n",
    "              xytext=(corvar[j,0],corvar[j,1]), textcoords='data',\n",
    "              arrowprops=dict(color='blue',arrowstyle='<|-',\n",
    "                              connectionstyle=\"arc3,rad=0.\"), \n",
    "              )\n",
    "#affiche des variables illustratives (y)\n",
    "plt.annotate('Country',(corSupp[0,0],corSupp[0,1]),color='red')\n",
    "plt.annotate(\"\",\n",
    "              xy=(0, 0), xycoords='data',\n",
    "              xytext=(corSupp[0,0],corSupp[0,1]), textcoords='data',\n",
    "              arrowprops=dict(color='red',arrowstyle='<|-',\n",
    "                              connectionstyle=\"arc3,rad=0.\"), \n",
    "              )\n",
    "#ajouter les axes\n",
    "plt.plot([-1,1],[0,0],color='black',linestyle='-',linewidth=1)\n",
    "plt.plot([0,0],[-1,1],color='black',linestyle='-',linewidth=1)\n",
    "#ajouter un cercle\n",
    "cercle = plt.Circle((0,0),1,color='black',fill=False)\n",
    "axes.add_artist(cercle)\n",
    "#affichage\n",
    "plt.xlabel(\"Dim 1 (%0.2f %%)\"% (pca.explained_variance_ratio_[0]*100))\n",
    "plt.ylabel(\"Dim 2 (%0.2f %%)\"% (pca.explained_variance_ratio_[1]*100))\n",
    "plt.show()"
   ]
  },
  {
   "cell_type": "code",
   "execution_count": null,
   "id": "dd8e10a3",
   "metadata": {},
   "outputs": [],
   "source": []
  },
  {
   "cell_type": "code",
   "execution_count": null,
   "id": "fbb4dbcf",
   "metadata": {},
   "outputs": [],
   "source": []
  },
  {
   "cell_type": "code",
   "execution_count": null,
   "id": "1d0ff3b4",
   "metadata": {},
   "outputs": [],
   "source": []
  },
  {
   "cell_type": "code",
   "execution_count": null,
   "id": "49700301",
   "metadata": {},
   "outputs": [],
   "source": []
  }
 ],
 "metadata": {
  "kernelspec": {
   "display_name": "Python 3",
   "language": "python",
   "name": "python3"
  },
  "language_info": {
   "codemirror_mode": {
    "name": "ipython",
    "version": 3
   },
   "file_extension": ".py",
   "mimetype": "text/x-python",
   "name": "python",
   "nbconvert_exporter": "python",
   "pygments_lexer": "ipython3",
   "version": "3.8.8"
  }
 },
 "nbformat": 4,
 "nbformat_minor": 5
}
