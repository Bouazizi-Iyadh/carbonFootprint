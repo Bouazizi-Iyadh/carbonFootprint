{
 "cells": [
  {
   "cell_type": "code",
   "execution_count": 1,
   "metadata": {},
   "outputs": [],
   "source": [
    "import pandas as pd\n",
    "import numpy as np\n",
    "import matplotlib.pyplot as plt"
   ]
  },
  {
   "cell_type": "code",
   "execution_count": 2,
   "metadata": {},
   "outputs": [
    {
     "name": "stderr",
     "output_type": "stream",
     "text": [
      "C:\\Users\\LENOVO\\Anaconda3\\lib\\site-packages\\IPython\\core\\interactiveshell.py:3057: DtypeWarning: Columns (16) have mixed types. Specify dtype option on import or set low_memory=False.\n",
      "  interactivity=interactivity, compiler=compiler, result=result)\n"
     ]
    }
   ],
   "source": [
    "classBonusMalus=pd.read_csv(\"C:/Users/LENOVO/PI_DATA_SCIENCE/DATA/classBonusMalus.csv\",sep=\";\")"
   ]
  },
  {
   "cell_type": "code",
   "execution_count": 3,
   "metadata": {},
   "outputs": [
    {
     "data": {
      "text/plain": [
       "(93142, 26)"
      ]
     },
     "execution_count": 3,
     "metadata": {},
     "output_type": "execute_result"
    }
   ],
   "source": [
    "classBonusMalus.shape"
   ]
  },
  {
   "cell_type": "code",
   "execution_count": 4,
   "metadata": {},
   "outputs": [
    {
     "data": {
      "text/plain": [
       "Index(['id', 'police_id', 'vehicule_id', 'assure_id', 'souscripteur_id',\n",
       "       'classeBonusMalus', 'classeBonusMalusCompagnie', 'classeBonusMalusCGA',\n",
       "       'coefBonusMalus', 'coefBonusMalusCompagnie', 'coefBonusMalusCGA',\n",
       "       'DATE_AFFECTATION', 'CONTRAT_EN_COURS', 'Etat_Donne', 'bonus',\n",
       "       'ETAT_VEHICULE', 'DATE_RETRAIT', 'date_Calcule', 'date_Occurence',\n",
       "       'date_changement_etat', 'dernierClassBonusMallus', 'consulter',\n",
       "       'codeUsage', 'codeGouvernorat', 'dateChangementVehicule', 'statut'],\n",
       "      dtype='object')"
      ]
     },
     "execution_count": 4,
     "metadata": {},
     "output_type": "execute_result"
    }
   ],
   "source": [
    "classBonusMalus.columns"
   ]
  },
  {
   "cell_type": "code",
   "execution_count": 5,
   "metadata": {},
   "outputs": [
    {
     "data": {
      "text/plain": [
       "id                               0\n",
       "police_id                        0\n",
       "vehicule_id                      0\n",
       "assure_id                        0\n",
       "souscripteur_id                  0\n",
       "classeBonusMalus                 0\n",
       "classeBonusMalusCompagnie        0\n",
       "classeBonusMalusCGA              0\n",
       "coefBonusMalus                   0\n",
       "coefBonusMalusCompagnie          1\n",
       "coefBonusMalusCGA                0\n",
       "DATE_AFFECTATION                 0\n",
       "CONTRAT_EN_COURS                 0\n",
       "Etat_Donne                   92489\n",
       "bonus                            0\n",
       "ETAT_VEHICULE                    0\n",
       "DATE_RETRAIT                 93034\n",
       "date_Calcule                     0\n",
       "date_Occurence               12461\n",
       "date_changement_etat         91103\n",
       "dernierClassBonusMallus          0\n",
       "consulter                    93142\n",
       "codeUsage                        0\n",
       "codeGouvernorat              93142\n",
       "dateChangementVehicule       89965\n",
       "statut                       93142\n",
       "dtype: int64"
      ]
     },
     "execution_count": 5,
     "metadata": {},
     "output_type": "execute_result"
    }
   ],
   "source": [
    "classBonusMalus.isna().sum()"
   ]
  },
  {
   "cell_type": "code",
   "execution_count": 6,
   "metadata": {},
   "outputs": [],
   "source": [
    "# les colonnes Etat_Donne,DATE_RETRAIT,date_changement_etat,consulter,codeGourvernorat,dateChangementVehicule,statut contiennent\n",
    "# beaucoup de valeurs manquantes on va donc les supprimer"
   ]
  },
  {
   "cell_type": "code",
   "execution_count": 7,
   "metadata": {},
   "outputs": [],
   "source": [
    "classBonusMalus.drop(columns=[\"Etat_Donne\",\"DATE_RETRAIT\",\"date_changement_etat\",\"consulter\",\"codeGouvernorat\",\"dateChangementVehicule\",\"statut\"],inplace=True)"
   ]
  },
  {
   "cell_type": "code",
   "execution_count": 8,
   "metadata": {},
   "outputs": [
    {
     "data": {
      "text/plain": [
       "id                               0\n",
       "police_id                        0\n",
       "vehicule_id                      0\n",
       "assure_id                        0\n",
       "souscripteur_id                  0\n",
       "classeBonusMalus                 0\n",
       "classeBonusMalusCompagnie        0\n",
       "classeBonusMalusCGA              0\n",
       "coefBonusMalus                   0\n",
       "coefBonusMalusCompagnie          1\n",
       "coefBonusMalusCGA                0\n",
       "DATE_AFFECTATION                 0\n",
       "CONTRAT_EN_COURS                 0\n",
       "bonus                            0\n",
       "ETAT_VEHICULE                    0\n",
       "date_Calcule                     0\n",
       "date_Occurence               12461\n",
       "dernierClassBonusMallus          0\n",
       "codeUsage                        0\n",
       "dtype: int64"
      ]
     },
     "execution_count": 8,
     "metadata": {},
     "output_type": "execute_result"
    }
   ],
   "source": [
    "classBonusMalus.isna().sum()"
   ]
  },
  {
   "cell_type": "code",
   "execution_count": 9,
   "metadata": {},
   "outputs": [],
   "source": [
    "classBonusMalus.drop(columns=[\"classeBonusMalusCompagnie\",\"classeBonusMalusCGA\",\"coefBonusMalusCompagnie\",\"coefBonusMalusCGA\",\"date_Occurence\"],inplace=True)"
   ]
  },
  {
   "cell_type": "code",
   "execution_count": 10,
   "metadata": {},
   "outputs": [
    {
     "data": {
      "text/plain": [
       "(93142, 14)"
      ]
     },
     "execution_count": 10,
     "metadata": {},
     "output_type": "execute_result"
    }
   ],
   "source": [
    "classBonusMalus.shape"
   ]
  },
  {
   "cell_type": "code",
   "execution_count": 11,
   "metadata": {},
   "outputs": [],
   "source": [
    "police=pd.read_csv(\"C:/Users/LENOVO/PI_DATA_SCIENCE/DATA/Police.csv\",sep=\";\")"
   ]
  },
  {
   "cell_type": "code",
   "execution_count": 12,
   "metadata": {},
   "outputs": [
    {
     "data": {
      "text/plain": [
       "(94620, 17)"
      ]
     },
     "execution_count": 12,
     "metadata": {},
     "output_type": "execute_result"
    }
   ],
   "source": [
    "police.shape"
   ]
  },
  {
   "cell_type": "code",
   "execution_count": 13,
   "metadata": {},
   "outputs": [
    {
     "data": {
      "text/plain": [
       "id                            0\n",
       "codeCompagnie                 0\n",
       "codeAgence                    0\n",
       "typeIntermediaire             0\n",
       "code_Courtier_CGA         94620\n",
       "numPolice                     0\n",
       "naturePolice                  0\n",
       "typePolice                    0\n",
       "dateEffetPolice               0\n",
       "dateEcheancePolice         2922\n",
       "dateExpirationPolice      91698\n",
       "verouillageModifPolice        0\n",
       "Etat_Police                   0\n",
       "RESILIATION_ECHEANCE      94620\n",
       "DATE_RESILIATION          82570\n",
       "Date_Suspenssion          93358\n",
       "dateRemiseEnVigueure      94620\n",
       "dtype: int64"
      ]
     },
     "execution_count": 13,
     "metadata": {},
     "output_type": "execute_result"
    }
   ],
   "source": [
    "police.isna().sum()"
   ]
  },
  {
   "cell_type": "code",
   "execution_count": 14,
   "metadata": {},
   "outputs": [],
   "source": [
    "police.drop(columns=[\"code_Courtier_CGA\",\"dateExpirationPolice\",\"RESILIATION_ECHEANCE\",\"DATE_RESILIATION\",\"Date_Suspenssion\",\"dateRemiseEnVigueure\"],inplace=True)"
   ]
  },
  {
   "cell_type": "code",
   "execution_count": 15,
   "metadata": {},
   "outputs": [],
   "source": [
    "police.fillna({\"dateEcheancePolice\":0},inplace=True)"
   ]
  },
  {
   "cell_type": "code",
   "execution_count": 16,
   "metadata": {},
   "outputs": [
    {
     "data": {
      "text/plain": [
       "(94620, 11)"
      ]
     },
     "execution_count": 16,
     "metadata": {},
     "output_type": "execute_result"
    }
   ],
   "source": [
    "police.shape"
   ]
  },
  {
   "cell_type": "code",
   "execution_count": 17,
   "metadata": {},
   "outputs": [],
   "source": [
    "police.rename(columns={\"id\":\"police_id\"},inplace=True)"
   ]
  },
  {
   "cell_type": "code",
   "execution_count": 18,
   "metadata": {},
   "outputs": [],
   "source": [
    "df1=pd.merge(police,classBonusMalus)"
   ]
  },
  {
   "cell_type": "code",
   "execution_count": 19,
   "metadata": {},
   "outputs": [
    {
     "data": {
      "text/plain": [
       "(93142, 24)"
      ]
     },
     "execution_count": 19,
     "metadata": {},
     "output_type": "execute_result"
    }
   ],
   "source": [
    "df1.shape"
   ]
  },
  {
   "cell_type": "code",
   "execution_count": 20,
   "metadata": {},
   "outputs": [
    {
     "name": "stderr",
     "output_type": "stream",
     "text": [
      "C:\\Users\\LENOVO\\Anaconda3\\lib\\site-packages\\IPython\\core\\interactiveshell.py:3057: DtypeWarning: Columns (13) have mixed types. Specify dtype option on import or set low_memory=False.\n",
      "  interactivity=interactivity, compiler=compiler, result=result)\n"
     ]
    }
   ],
   "source": [
    "vehicule=pd.read_csv(\"C:/Users/LENOVO/PI_DATA_SCIENCE/DATA/vehicule.csv\",sep=\";\")"
   ]
  },
  {
   "cell_type": "code",
   "execution_count": 21,
   "metadata": {},
   "outputs": [
    {
     "data": {
      "text/plain": [
       "(92480, 15)"
      ]
     },
     "execution_count": 21,
     "metadata": {},
     "output_type": "execute_result"
    }
   ],
   "source": [
    "vehicule.shape"
   ]
  },
  {
   "cell_type": "code",
   "execution_count": 22,
   "metadata": {},
   "outputs": [
    {
     "data": {
      "text/plain": [
       "id                           0\n",
       "numChassis                   0\n",
       "codeMarque                   0\n",
       "puissanceFiscal              7\n",
       "numImmatriculation           0\n",
       "typeImmatriculation          0\n",
       "energie                     34\n",
       "dateInsertion                0\n",
       "dateDerniereVisite       91887\n",
       "dateAjout                    0\n",
       "etatVehicule                 0\n",
       "dateMiseEpave            92387\n",
       "DATE_RETRAIT             92480\n",
       "dateMiseCirculation      91984\n",
       "dateMiseAjourVehicule    91897\n",
       "dtype: int64"
      ]
     },
     "execution_count": 22,
     "metadata": {},
     "output_type": "execute_result"
    }
   ],
   "source": [
    "vehicule.isna().sum()"
   ]
  },
  {
   "cell_type": "code",
   "execution_count": 23,
   "metadata": {},
   "outputs": [],
   "source": [
    "vehicule.drop(columns=[\"dateDerniereVisite\",\"dateMiseEpave\",\"DATE_RETRAIT\",\"dateMiseCirculation\",\"dateMiseAjourVehicule\"],inplace=True)"
   ]
  },
  {
   "cell_type": "code",
   "execution_count": 24,
   "metadata": {},
   "outputs": [
    {
     "data": {
      "text/plain": [
       "id                      0\n",
       "numChassis              0\n",
       "codeMarque              0\n",
       "puissanceFiscal         7\n",
       "numImmatriculation      0\n",
       "typeImmatriculation     0\n",
       "energie                34\n",
       "dateInsertion           0\n",
       "dateAjout               0\n",
       "etatVehicule            0\n",
       "dtype: int64"
      ]
     },
     "execution_count": 24,
     "metadata": {},
     "output_type": "execute_result"
    }
   ],
   "source": [
    "vehicule.isna().sum()"
   ]
  },
  {
   "cell_type": "code",
   "execution_count": 25,
   "metadata": {},
   "outputs": [],
   "source": [
    "vehicule.dropna(inplace=True)"
   ]
  },
  {
   "cell_type": "code",
   "execution_count": 26,
   "metadata": {},
   "outputs": [
    {
     "data": {
      "text/plain": [
       "(92446, 10)"
      ]
     },
     "execution_count": 26,
     "metadata": {},
     "output_type": "execute_result"
    }
   ],
   "source": [
    "vehicule.shape"
   ]
  },
  {
   "cell_type": "code",
   "execution_count": 27,
   "metadata": {},
   "outputs": [],
   "source": [
    "vehicule.rename(columns={\"id\":\"vehicule_id\"},inplace=True)"
   ]
  },
  {
   "cell_type": "code",
   "execution_count": 28,
   "metadata": {},
   "outputs": [],
   "source": [
    "vehicule.drop(vehicule[vehicule.energie == 'Essence'].index, inplace=True)"
   ]
  },
  {
   "cell_type": "code",
   "execution_count": 29,
   "metadata": {},
   "outputs": [],
   "source": [
    "vehicule.drop(vehicule[vehicule.energie == '0'].index, inplace=True)"
   ]
  },
  {
   "cell_type": "code",
   "execution_count": 30,
   "metadata": {},
   "outputs": [],
   "source": [
    "df2=pd.merge(df1,vehicule,how=\"left\")"
   ]
  },
  {
   "cell_type": "code",
   "execution_count": 31,
   "metadata": {},
   "outputs": [
    {
     "data": {
      "text/plain": [
       "police_id                    0\n",
       "codeCompagnie                0\n",
       "codeAgence                   0\n",
       "typeIntermediaire            0\n",
       "numPolice                    0\n",
       "naturePolice                 0\n",
       "typePolice                   0\n",
       "dateEffetPolice              0\n",
       "dateEcheancePolice           0\n",
       "verouillageModifPolice       0\n",
       "Etat_Police                  0\n",
       "id                           0\n",
       "vehicule_id                  0\n",
       "assure_id                    0\n",
       "souscripteur_id              0\n",
       "classeBonusMalus             0\n",
       "coefBonusMalus               0\n",
       "DATE_AFFECTATION             0\n",
       "CONTRAT_EN_COURS             0\n",
       "bonus                        0\n",
       "ETAT_VEHICULE                0\n",
       "date_Calcule                 0\n",
       "dernierClassBonusMallus      0\n",
       "codeUsage                    0\n",
       "numChassis                 301\n",
       "codeMarque                 301\n",
       "puissanceFiscal            301\n",
       "numImmatriculation         301\n",
       "typeImmatriculation        301\n",
       "energie                    301\n",
       "dateInsertion              301\n",
       "dateAjout                  301\n",
       "etatVehicule               301\n",
       "dtype: int64"
      ]
     },
     "execution_count": 31,
     "metadata": {},
     "output_type": "execute_result"
    }
   ],
   "source": [
    "df2.isna().sum()"
   ]
  },
  {
   "cell_type": "code",
   "execution_count": 32,
   "metadata": {},
   "outputs": [],
   "source": [
    "df2.drop(columns=[\"numChassis\",\"numImmatriculation\",\"typeImmatriculation\",\"dateInsertion\",\"dateAjout\",\"codeMarque\"],inplace=True)"
   ]
  },
  {
   "cell_type": "code",
   "execution_count": 33,
   "metadata": {},
   "outputs": [],
   "source": [
    "df2.fillna({\"puissanceFiscal\":0,\"energie\":'-',\"etatVehicule\":\"-\"},inplace=True)"
   ]
  },
  {
   "cell_type": "code",
   "execution_count": 34,
   "metadata": {},
   "outputs": [
    {
     "data": {
      "text/plain": [
       "(93142, 27)"
      ]
     },
     "execution_count": 34,
     "metadata": {},
     "output_type": "execute_result"
    }
   ],
   "source": [
    "df2.shape"
   ]
  },
  {
   "cell_type": "code",
   "execution_count": 35,
   "metadata": {},
   "outputs": [],
   "source": [
    "usage=pd.read_csv(\"C:/Users/LENOVO/PI_DATA_SCIENCE/DATA/usageCga.csv\",sep=\";\")"
   ]
  },
  {
   "cell_type": "code",
   "execution_count": 36,
   "metadata": {},
   "outputs": [
    {
     "data": {
      "text/plain": [
       "id            0\n",
       "code Usage    0\n",
       "lib Usage     0\n",
       "ENABLED       0\n",
       "CODE_STR      0\n",
       "dtype: int64"
      ]
     },
     "execution_count": 36,
     "metadata": {},
     "output_type": "execute_result"
    }
   ],
   "source": [
    "usage.isna().sum()"
   ]
  },
  {
   "cell_type": "code",
   "execution_count": 37,
   "metadata": {},
   "outputs": [],
   "source": [
    "usage.drop(columns=[\"ENABLED\",\"CODE_STR\",\"id\"],inplace=True)"
   ]
  },
  {
   "cell_type": "code",
   "execution_count": 38,
   "metadata": {},
   "outputs": [],
   "source": [
    "usage.rename(columns={\"code Usage\":\"codeUsage\",\"lib Usage\":\"libUsage\"},inplace=True)"
   ]
  },
  {
   "cell_type": "code",
   "execution_count": 39,
   "metadata": {},
   "outputs": [],
   "source": [
    "df3=pd.merge(df2,usage,how=\"left\")"
   ]
  },
  {
   "cell_type": "code",
   "execution_count": 40,
   "metadata": {},
   "outputs": [
    {
     "data": {
      "text/plain": [
       "(93142, 28)"
      ]
     },
     "execution_count": 40,
     "metadata": {},
     "output_type": "execute_result"
    }
   ],
   "source": [
    "df3.shape"
   ]
  },
  {
   "cell_type": "code",
   "execution_count": 41,
   "metadata": {},
   "outputs": [
    {
     "data": {
      "text/plain": [
       "police_id                  0\n",
       "codeCompagnie              0\n",
       "codeAgence                 0\n",
       "typeIntermediaire          0\n",
       "numPolice                  0\n",
       "naturePolice               0\n",
       "typePolice                 0\n",
       "dateEffetPolice            0\n",
       "dateEcheancePolice         0\n",
       "verouillageModifPolice     0\n",
       "Etat_Police                0\n",
       "id                         0\n",
       "vehicule_id                0\n",
       "assure_id                  0\n",
       "souscripteur_id            0\n",
       "classeBonusMalus           0\n",
       "coefBonusMalus             0\n",
       "DATE_AFFECTATION           0\n",
       "CONTRAT_EN_COURS           0\n",
       "bonus                      0\n",
       "ETAT_VEHICULE              0\n",
       "date_Calcule               0\n",
       "dernierClassBonusMallus    0\n",
       "codeUsage                  0\n",
       "puissanceFiscal            0\n",
       "energie                    0\n",
       "etatVehicule               0\n",
       "libUsage                   2\n",
       "dtype: int64"
      ]
     },
     "execution_count": 41,
     "metadata": {},
     "output_type": "execute_result"
    }
   ],
   "source": [
    "df3.isna().sum()"
   ]
  },
  {
   "cell_type": "code",
   "execution_count": 42,
   "metadata": {},
   "outputs": [],
   "source": [
    "df3.fillna({\"libUsage\":\"-\"},inplace=True)"
   ]
  },
  {
   "cell_type": "code",
   "execution_count": 43,
   "metadata": {},
   "outputs": [
    {
     "data": {
      "text/plain": [
       "(93142, 28)"
      ]
     },
     "execution_count": 43,
     "metadata": {},
     "output_type": "execute_result"
    }
   ],
   "source": [
    "df3.shape"
   ]
  },
  {
   "cell_type": "code",
   "execution_count": 44,
   "metadata": {},
   "outputs": [
    {
     "data": {
      "text/plain": [
       "array(['2016-04-17', '2016-04-21', '2016-04-26', ..., '1998-04-10',\n",
       "       '2003-06-12', '2000-04-07'], dtype=object)"
      ]
     },
     "execution_count": 44,
     "metadata": {},
     "output_type": "execute_result"
    }
   ],
   "source": [
    "df3[\"dateEffetPolice\"].unique()"
   ]
  },
  {
   "cell_type": "code",
   "execution_count": 45,
   "metadata": {},
   "outputs": [],
   "source": [
    "sinistre=pd.read_csv(\"C:/Users/LENOVO/PI_DATA_SCIENCE/DATA/Sinistre.csv\",sep=\";\")"
   ]
  },
  {
   "cell_type": "code",
   "execution_count": 46,
   "metadata": {},
   "outputs": [
    {
     "data": {
      "text/plain": [
       "id                                          0\n",
       "sinistre_id                                 0\n",
       "cga_police_id                               0\n",
       "cga_vehicule_id                             0\n",
       "cga_assure_id                               0\n",
       "date                                    30000\n",
       "numeroDuSinistre                            0\n",
       "dateDeSurvenanceDuSinistre                  0\n",
       "heureSurvanceDusinistre                     0\n",
       "dateOuvertureDuSinistre                     0\n",
       "lieuDuSinistre                          13320\n",
       "identificationTiers                     18707\n",
       "pourcentadeDeResponsabilite                 0\n",
       "numeroDePoliceCompagnieAdverse              0\n",
       "codeCompagnieAdverse                      120\n",
       "porcentageCompagnieAdverse                  0\n",
       "numeroImmatriculationVehiculeAdverse     3178\n",
       "typeImmatriculationVehiculeAdverse       2712\n",
       "mouvementDusinistre                         0\n",
       "natureDuSinistre                            0\n",
       "Calculer_Sinistre                           0\n",
       "dtype: int64"
      ]
     },
     "execution_count": 46,
     "metadata": {},
     "output_type": "execute_result"
    }
   ],
   "source": [
    "sinistre.isna().sum()"
   ]
  },
  {
   "cell_type": "code",
   "execution_count": 47,
   "metadata": {},
   "outputs": [],
   "source": [
    "sinistre.drop(columns=[\"id\",\"date\",\"dateDeSurvenanceDuSinistre\",\"heureSurvanceDusinistre\",\"numeroDuSinistre\",\"numeroDePoliceCompagnieAdverse\",\"codeCompagnieAdverse\",\"typeImmatriculationVehiculeAdverse\",\"numeroImmatriculationVehiculeAdverse\",\"mouvementDusinistre\"],inplace=True)"
   ]
  },
  {
   "cell_type": "code",
   "execution_count": 48,
   "metadata": {},
   "outputs": [
    {
     "data": {
      "text/plain": [
       "array(['M', 'C'], dtype=object)"
      ]
     },
     "execution_count": 48,
     "metadata": {},
     "output_type": "execute_result"
    }
   ],
   "source": [
    "sinistre['natureDuSinistre'].unique()"
   ]
  },
  {
   "cell_type": "code",
   "execution_count": 49,
   "metadata": {},
   "outputs": [],
   "source": [
    "sinistre.rename(columns={\"cga_police_id\":\"police_id\"},inplace=True)"
   ]
  },
  {
   "cell_type": "code",
   "execution_count": 50,
   "metadata": {},
   "outputs": [],
   "source": [
    "sinistre.fillna({\"lieuDuSinistre\":\"Non mentionné\",\"identificationTiers\":\"Autres\"},inplace=True)"
   ]
  },
  {
   "cell_type": "code",
   "execution_count": 51,
   "metadata": {},
   "outputs": [],
   "source": [
    "df4=pd.merge(df3,sinistre,how=\"left\")"
   ]
  },
  {
   "cell_type": "code",
   "execution_count": 52,
   "metadata": {},
   "outputs": [
    {
     "data": {
      "text/plain": [
       "(96671, 38)"
      ]
     },
     "execution_count": 52,
     "metadata": {},
     "output_type": "execute_result"
    }
   ],
   "source": [
    "df4.shape"
   ]
  },
  {
   "cell_type": "code",
   "execution_count": 53,
   "metadata": {},
   "outputs": [
    {
     "data": {
      "text/plain": [
       "police_id                          0\n",
       "codeCompagnie                      0\n",
       "codeAgence                         0\n",
       "typeIntermediaire                  0\n",
       "numPolice                          0\n",
       "naturePolice                       0\n",
       "typePolice                         0\n",
       "dateEffetPolice                    0\n",
       "dateEcheancePolice                 0\n",
       "verouillageModifPolice             0\n",
       "Etat_Police                        0\n",
       "id                                 0\n",
       "vehicule_id                        0\n",
       "assure_id                          0\n",
       "souscripteur_id                    0\n",
       "classeBonusMalus                   0\n",
       "coefBonusMalus                     0\n",
       "DATE_AFFECTATION                   0\n",
       "CONTRAT_EN_COURS                   0\n",
       "bonus                              0\n",
       "ETAT_VEHICULE                      0\n",
       "date_Calcule                       0\n",
       "dernierClassBonusMallus            0\n",
       "codeUsage                          0\n",
       "puissanceFiscal                    0\n",
       "energie                            0\n",
       "etatVehicule                       0\n",
       "libUsage                           0\n",
       "sinistre_id                    67404\n",
       "cga_vehicule_id                67404\n",
       "cga_assure_id                  67404\n",
       "dateOuvertureDuSinistre        67404\n",
       "lieuDuSinistre                 67404\n",
       "identificationTiers            67404\n",
       "pourcentadeDeResponsabilite    67404\n",
       "porcentageCompagnieAdverse     67404\n",
       "natureDuSinistre               67404\n",
       "Calculer_Sinistre              67404\n",
       "dtype: int64"
      ]
     },
     "execution_count": 53,
     "metadata": {},
     "output_type": "execute_result"
    }
   ],
   "source": [
    "df4.isna().sum()"
   ]
  },
  {
   "cell_type": "code",
   "execution_count": 54,
   "metadata": {},
   "outputs": [],
   "source": [
    "df4.drop(columns=[\"cga_vehicule_id\",\"cga_assure_id\"],inplace=True)"
   ]
  },
  {
   "cell_type": "code",
   "execution_count": 55,
   "metadata": {},
   "outputs": [],
   "source": [
    "df4.fillna({\"sinistre_id\":0,\"dateOuvertureDuSinistre\":\"-\",\"lieuDuSinistre\":\"-\",\"identificationTiers\":\"-\",\"pourcentadeDeResponsabilite\":-1,\"porcentageCompagnieAdverse\":-1,\"natureDuSinistre\":\"-\",\"Calculer_Sinistre\":-1},inplace=True)"
   ]
  },
  {
   "cell_type": "code",
   "execution_count": 56,
   "metadata": {},
   "outputs": [],
   "source": [
    "dfFinal=df4"
   ]
  },
  {
   "cell_type": "code",
   "execution_count": 57,
   "metadata": {},
   "outputs": [
    {
     "name": "stdout",
     "output_type": "stream",
     "text": [
      "<class 'pandas.core.frame.DataFrame'>\n",
      "Int64Index: 96671 entries, 0 to 96670\n",
      "Data columns (total 36 columns):\n",
      "police_id                      96671 non-null int64\n",
      "codeCompagnie                  96671 non-null int64\n",
      "codeAgence                     96671 non-null int64\n",
      "typeIntermediaire              96671 non-null int64\n",
      "numPolice                      96671 non-null object\n",
      "naturePolice                   96671 non-null object\n",
      "typePolice                     96671 non-null object\n",
      "dateEffetPolice                96671 non-null object\n",
      "dateEcheancePolice             96671 non-null float64\n",
      "verouillageModifPolice         96671 non-null int64\n",
      "Etat_Police                    96671 non-null object\n",
      "id                             96671 non-null int64\n",
      "vehicule_id                    96671 non-null int64\n",
      "assure_id                      96671 non-null int64\n",
      "souscripteur_id                96671 non-null int64\n",
      "classeBonusMalus               96671 non-null int64\n",
      "coefBonusMalus                 96671 non-null int64\n",
      "DATE_AFFECTATION               96671 non-null object\n",
      "CONTRAT_EN_COURS               96671 non-null int64\n",
      "bonus                          96671 non-null int64\n",
      "ETAT_VEHICULE                  96671 non-null object\n",
      "date_Calcule                   96671 non-null object\n",
      "dernierClassBonusMallus        96671 non-null int64\n",
      "codeUsage                      96671 non-null int64\n",
      "puissanceFiscal                96671 non-null float64\n",
      "energie                        96671 non-null object\n",
      "etatVehicule                   96671 non-null object\n",
      "libUsage                       96671 non-null object\n",
      "sinistre_id                    96671 non-null float64\n",
      "dateOuvertureDuSinistre        96671 non-null object\n",
      "lieuDuSinistre                 96671 non-null object\n",
      "identificationTiers            96671 non-null object\n",
      "pourcentadeDeResponsabilite    96671 non-null float64\n",
      "porcentageCompagnieAdverse     96671 non-null float64\n",
      "natureDuSinistre               96671 non-null object\n",
      "Calculer_Sinistre              96671 non-null float64\n",
      "dtypes: float64(6), int64(15), object(15)\n",
      "memory usage: 27.3+ MB\n"
     ]
    }
   ],
   "source": [
    "dfFinal.info()"
   ]
  },
  {
   "cell_type": "code",
   "execution_count": 58,
   "metadata": {},
   "outputs": [
    {
     "data": {
      "text/html": [
       "<div>\n",
       "<style scoped>\n",
       "    .dataframe tbody tr th:only-of-type {\n",
       "        vertical-align: middle;\n",
       "    }\n",
       "\n",
       "    .dataframe tbody tr th {\n",
       "        vertical-align: top;\n",
       "    }\n",
       "\n",
       "    .dataframe thead th {\n",
       "        text-align: right;\n",
       "    }\n",
       "</style>\n",
       "<table border=\"1\" class=\"dataframe\">\n",
       "  <thead>\n",
       "    <tr style=\"text-align: right;\">\n",
       "      <th></th>\n",
       "      <th>police_id</th>\n",
       "      <th>codeCompagnie</th>\n",
       "      <th>codeAgence</th>\n",
       "      <th>typeIntermediaire</th>\n",
       "      <th>numPolice</th>\n",
       "      <th>naturePolice</th>\n",
       "      <th>typePolice</th>\n",
       "      <th>dateEffetPolice</th>\n",
       "      <th>dateEcheancePolice</th>\n",
       "      <th>verouillageModifPolice</th>\n",
       "      <th>...</th>\n",
       "      <th>etatVehicule</th>\n",
       "      <th>libUsage</th>\n",
       "      <th>sinistre_id</th>\n",
       "      <th>dateOuvertureDuSinistre</th>\n",
       "      <th>lieuDuSinistre</th>\n",
       "      <th>identificationTiers</th>\n",
       "      <th>pourcentadeDeResponsabilite</th>\n",
       "      <th>porcentageCompagnieAdverse</th>\n",
       "      <th>natureDuSinistre</th>\n",
       "      <th>Calculer_Sinistre</th>\n",
       "    </tr>\n",
       "  </thead>\n",
       "  <tbody>\n",
       "    <tr>\n",
       "      <th>0</th>\n",
       "      <td>61519</td>\n",
       "      <td>8</td>\n",
       "      <td>19</td>\n",
       "      <td>1</td>\n",
       "      <td>10030000605</td>\n",
       "      <td>T</td>\n",
       "      <td>I</td>\n",
       "      <td>2016-04-17</td>\n",
       "      <td>0.0</td>\n",
       "      <td>0</td>\n",
       "      <td>...</td>\n",
       "      <td>V</td>\n",
       "      <td>Agricole1 véhicule dont le PTC &lt; 3500 kg</td>\n",
       "      <td>0.0</td>\n",
       "      <td>-</td>\n",
       "      <td>-</td>\n",
       "      <td>-</td>\n",
       "      <td>-1.0</td>\n",
       "      <td>-1.0</td>\n",
       "      <td>-</td>\n",
       "      <td>-1.0</td>\n",
       "    </tr>\n",
       "    <tr>\n",
       "      <th>1</th>\n",
       "      <td>61553</td>\n",
       "      <td>8</td>\n",
       "      <td>90</td>\n",
       "      <td>1</td>\n",
       "      <td>10080000042</td>\n",
       "      <td>R</td>\n",
       "      <td>I</td>\n",
       "      <td>2016-04-21</td>\n",
       "      <td>421.0</td>\n",
       "      <td>0</td>\n",
       "      <td>...</td>\n",
       "      <td>V</td>\n",
       "      <td>Auto-Ecole</td>\n",
       "      <td>0.0</td>\n",
       "      <td>-</td>\n",
       "      <td>-</td>\n",
       "      <td>-</td>\n",
       "      <td>-1.0</td>\n",
       "      <td>-1.0</td>\n",
       "      <td>-</td>\n",
       "      <td>-1.0</td>\n",
       "    </tr>\n",
       "    <tr>\n",
       "      <th>2</th>\n",
       "      <td>61587</td>\n",
       "      <td>8</td>\n",
       "      <td>71</td>\n",
       "      <td>3</td>\n",
       "      <td>10050000959</td>\n",
       "      <td>R</td>\n",
       "      <td>I</td>\n",
       "      <td>2016-04-26</td>\n",
       "      <td>426.0</td>\n",
       "      <td>0</td>\n",
       "      <td>...</td>\n",
       "      <td>V</td>\n",
       "      <td>Taxi</td>\n",
       "      <td>0.0</td>\n",
       "      <td>-</td>\n",
       "      <td>-</td>\n",
       "      <td>-</td>\n",
       "      <td>-1.0</td>\n",
       "      <td>-1.0</td>\n",
       "      <td>-</td>\n",
       "      <td>-1.0</td>\n",
       "    </tr>\n",
       "    <tr>\n",
       "      <th>3</th>\n",
       "      <td>61787</td>\n",
       "      <td>8</td>\n",
       "      <td>13</td>\n",
       "      <td>1</td>\n",
       "      <td>10010005016</td>\n",
       "      <td>R</td>\n",
       "      <td>I</td>\n",
       "      <td>2016-05-27</td>\n",
       "      <td>527.0</td>\n",
       "      <td>0</td>\n",
       "      <td>...</td>\n",
       "      <td>V</td>\n",
       "      <td>Privé et professionnel</td>\n",
       "      <td>0.0</td>\n",
       "      <td>-</td>\n",
       "      <td>-</td>\n",
       "      <td>-</td>\n",
       "      <td>-1.0</td>\n",
       "      <td>-1.0</td>\n",
       "      <td>-</td>\n",
       "      <td>-1.0</td>\n",
       "    </tr>\n",
       "    <tr>\n",
       "      <th>4</th>\n",
       "      <td>61796</td>\n",
       "      <td>8</td>\n",
       "      <td>36</td>\n",
       "      <td>1</td>\n",
       "      <td>10020003342</td>\n",
       "      <td>R</td>\n",
       "      <td>I</td>\n",
       "      <td>2016-05-27</td>\n",
       "      <td>527.0</td>\n",
       "      <td>0</td>\n",
       "      <td>...</td>\n",
       "      <td>V</td>\n",
       "      <td>Utilitaire 1 véhicule dont le PTC &lt; 3500 kg (y...</td>\n",
       "      <td>0.0</td>\n",
       "      <td>-</td>\n",
       "      <td>-</td>\n",
       "      <td>-</td>\n",
       "      <td>-1.0</td>\n",
       "      <td>-1.0</td>\n",
       "      <td>-</td>\n",
       "      <td>-1.0</td>\n",
       "    </tr>\n",
       "  </tbody>\n",
       "</table>\n",
       "<p>5 rows × 36 columns</p>\n",
       "</div>"
      ],
      "text/plain": [
       "   police_id  codeCompagnie  codeAgence  typeIntermediaire    numPolice  \\\n",
       "0      61519              8          19                  1  10030000605   \n",
       "1      61553              8          90                  1  10080000042   \n",
       "2      61587              8          71                  3  10050000959   \n",
       "3      61787              8          13                  1  10010005016   \n",
       "4      61796              8          36                  1  10020003342   \n",
       "\n",
       "  naturePolice typePolice dateEffetPolice  dateEcheancePolice  \\\n",
       "0            T          I      2016-04-17                 0.0   \n",
       "1            R          I      2016-04-21               421.0   \n",
       "2            R          I      2016-04-26               426.0   \n",
       "3            R          I      2016-05-27               527.0   \n",
       "4            R          I      2016-05-27               527.0   \n",
       "\n",
       "   verouillageModifPolice  ... etatVehicule  \\\n",
       "0                       0  ...            V   \n",
       "1                       0  ...            V   \n",
       "2                       0  ...            V   \n",
       "3                       0  ...            V   \n",
       "4                       0  ...            V   \n",
       "\n",
       "                                            libUsage  sinistre_id  \\\n",
       "0           Agricole1 véhicule dont le PTC < 3500 kg          0.0   \n",
       "1                                         Auto-Ecole          0.0   \n",
       "2                                               Taxi          0.0   \n",
       "3                             Privé et professionnel          0.0   \n",
       "4  Utilitaire 1 véhicule dont le PTC < 3500 kg (y...          0.0   \n",
       "\n",
       "   dateOuvertureDuSinistre  lieuDuSinistre  identificationTiers  \\\n",
       "0                        -               -                    -   \n",
       "1                        -               -                    -   \n",
       "2                        -               -                    -   \n",
       "3                        -               -                    -   \n",
       "4                        -               -                    -   \n",
       "\n",
       "   pourcentadeDeResponsabilite porcentageCompagnieAdverse  natureDuSinistre  \\\n",
       "0                         -1.0                       -1.0                 -   \n",
       "1                         -1.0                       -1.0                 -   \n",
       "2                         -1.0                       -1.0                 -   \n",
       "3                         -1.0                       -1.0                 -   \n",
       "4                         -1.0                       -1.0                 -   \n",
       "\n",
       "   Calculer_Sinistre  \n",
       "0               -1.0  \n",
       "1               -1.0  \n",
       "2               -1.0  \n",
       "3               -1.0  \n",
       "4               -1.0  \n",
       "\n",
       "[5 rows x 36 columns]"
      ]
     },
     "execution_count": 58,
     "metadata": {},
     "output_type": "execute_result"
    }
   ],
   "source": [
    "dfFinal.head()"
   ]
  },
  {
   "cell_type": "code",
   "execution_count": 59,
   "metadata": {},
   "outputs": [],
   "source": [
    "pd.set_option('display.max_columns', 1000)\n",
    "pd.set_option('display.max_rows', 100000)"
   ]
  },
  {
   "cell_type": "code",
   "execution_count": 60,
   "metadata": {},
   "outputs": [
    {
     "data": {
      "text/html": [
       "<div>\n",
       "<style scoped>\n",
       "    .dataframe tbody tr th:only-of-type {\n",
       "        vertical-align: middle;\n",
       "    }\n",
       "\n",
       "    .dataframe tbody tr th {\n",
       "        vertical-align: top;\n",
       "    }\n",
       "\n",
       "    .dataframe thead th {\n",
       "        text-align: right;\n",
       "    }\n",
       "</style>\n",
       "<table border=\"1\" class=\"dataframe\">\n",
       "  <thead>\n",
       "    <tr style=\"text-align: right;\">\n",
       "      <th></th>\n",
       "      <th>police_id</th>\n",
       "      <th>codeCompagnie</th>\n",
       "      <th>codeAgence</th>\n",
       "      <th>typeIntermediaire</th>\n",
       "      <th>dateEcheancePolice</th>\n",
       "      <th>verouillageModifPolice</th>\n",
       "      <th>id</th>\n",
       "      <th>vehicule_id</th>\n",
       "      <th>assure_id</th>\n",
       "      <th>souscripteur_id</th>\n",
       "      <th>classeBonusMalus</th>\n",
       "      <th>coefBonusMalus</th>\n",
       "      <th>CONTRAT_EN_COURS</th>\n",
       "      <th>bonus</th>\n",
       "      <th>dernierClassBonusMallus</th>\n",
       "      <th>codeUsage</th>\n",
       "      <th>puissanceFiscal</th>\n",
       "      <th>sinistre_id</th>\n",
       "      <th>pourcentadeDeResponsabilite</th>\n",
       "      <th>porcentageCompagnieAdverse</th>\n",
       "      <th>Calculer_Sinistre</th>\n",
       "    </tr>\n",
       "  </thead>\n",
       "  <tbody>\n",
       "    <tr>\n",
       "      <th>police_id</th>\n",
       "      <td>1.000000</td>\n",
       "      <td>0.674446</td>\n",
       "      <td>-0.167928</td>\n",
       "      <td>0.248413</td>\n",
       "      <td>-0.018524</td>\n",
       "      <td>NaN</td>\n",
       "      <td>0.223280</td>\n",
       "      <td>0.683017</td>\n",
       "      <td>0.721283</td>\n",
       "      <td>0.750113</td>\n",
       "      <td>-0.021514</td>\n",
       "      <td>-0.023546</td>\n",
       "      <td>-0.020738</td>\n",
       "      <td>0.034912</td>\n",
       "      <td>0.014280</td>\n",
       "      <td>-0.154793</td>\n",
       "      <td>-0.043822</td>\n",
       "      <td>-0.110419</td>\n",
       "      <td>-0.335273</td>\n",
       "      <td>0.055685</td>\n",
       "      <td>-0.350493</td>\n",
       "    </tr>\n",
       "    <tr>\n",
       "      <th>codeCompagnie</th>\n",
       "      <td>0.674446</td>\n",
       "      <td>1.000000</td>\n",
       "      <td>-0.195420</td>\n",
       "      <td>0.318143</td>\n",
       "      <td>-0.030252</td>\n",
       "      <td>NaN</td>\n",
       "      <td>0.233005</td>\n",
       "      <td>0.311760</td>\n",
       "      <td>0.371700</td>\n",
       "      <td>0.366467</td>\n",
       "      <td>0.026383</td>\n",
       "      <td>0.025508</td>\n",
       "      <td>-0.002935</td>\n",
       "      <td>0.055709</td>\n",
       "      <td>-0.016184</td>\n",
       "      <td>-0.149761</td>\n",
       "      <td>-0.091423</td>\n",
       "      <td>-0.152826</td>\n",
       "      <td>-0.345925</td>\n",
       "      <td>-0.020426</td>\n",
       "      <td>-0.334747</td>\n",
       "    </tr>\n",
       "    <tr>\n",
       "      <th>codeAgence</th>\n",
       "      <td>-0.167928</td>\n",
       "      <td>-0.195420</td>\n",
       "      <td>1.000000</td>\n",
       "      <td>-0.059129</td>\n",
       "      <td>0.012004</td>\n",
       "      <td>NaN</td>\n",
       "      <td>-0.068140</td>\n",
       "      <td>-0.122360</td>\n",
       "      <td>-0.131558</td>\n",
       "      <td>-0.142161</td>\n",
       "      <td>0.006882</td>\n",
       "      <td>0.007923</td>\n",
       "      <td>0.009714</td>\n",
       "      <td>-0.018445</td>\n",
       "      <td>-0.001003</td>\n",
       "      <td>0.046131</td>\n",
       "      <td>0.037721</td>\n",
       "      <td>0.010519</td>\n",
       "      <td>0.088808</td>\n",
       "      <td>-0.050039</td>\n",
       "      <td>0.071885</td>\n",
       "    </tr>\n",
       "    <tr>\n",
       "      <th>typeIntermediaire</th>\n",
       "      <td>0.248413</td>\n",
       "      <td>0.318143</td>\n",
       "      <td>-0.059129</td>\n",
       "      <td>1.000000</td>\n",
       "      <td>0.005944</td>\n",
       "      <td>NaN</td>\n",
       "      <td>0.088379</td>\n",
       "      <td>0.137761</td>\n",
       "      <td>0.131692</td>\n",
       "      <td>0.114321</td>\n",
       "      <td>-0.033681</td>\n",
       "      <td>-0.036616</td>\n",
       "      <td>0.007872</td>\n",
       "      <td>0.006965</td>\n",
       "      <td>-0.005099</td>\n",
       "      <td>-0.063221</td>\n",
       "      <td>-0.062453</td>\n",
       "      <td>-0.141036</td>\n",
       "      <td>-0.147788</td>\n",
       "      <td>-0.147707</td>\n",
       "      <td>-0.177960</td>\n",
       "    </tr>\n",
       "    <tr>\n",
       "      <th>dateEcheancePolice</th>\n",
       "      <td>-0.018524</td>\n",
       "      <td>-0.030252</td>\n",
       "      <td>0.012004</td>\n",
       "      <td>0.005944</td>\n",
       "      <td>1.000000</td>\n",
       "      <td>NaN</td>\n",
       "      <td>0.142993</td>\n",
       "      <td>-0.034274</td>\n",
       "      <td>0.007559</td>\n",
       "      <td>-0.001192</td>\n",
       "      <td>0.005137</td>\n",
       "      <td>0.008797</td>\n",
       "      <td>0.024582</td>\n",
       "      <td>0.057244</td>\n",
       "      <td>0.075401</td>\n",
       "      <td>-0.044911</td>\n",
       "      <td>-0.051715</td>\n",
       "      <td>0.037465</td>\n",
       "      <td>0.034039</td>\n",
       "      <td>0.010974</td>\n",
       "      <td>0.027721</td>\n",
       "    </tr>\n",
       "    <tr>\n",
       "      <th>verouillageModifPolice</th>\n",
       "      <td>NaN</td>\n",
       "      <td>NaN</td>\n",
       "      <td>NaN</td>\n",
       "      <td>NaN</td>\n",
       "      <td>NaN</td>\n",
       "      <td>NaN</td>\n",
       "      <td>NaN</td>\n",
       "      <td>NaN</td>\n",
       "      <td>NaN</td>\n",
       "      <td>NaN</td>\n",
       "      <td>NaN</td>\n",
       "      <td>NaN</td>\n",
       "      <td>NaN</td>\n",
       "      <td>NaN</td>\n",
       "      <td>NaN</td>\n",
       "      <td>NaN</td>\n",
       "      <td>NaN</td>\n",
       "      <td>NaN</td>\n",
       "      <td>NaN</td>\n",
       "      <td>NaN</td>\n",
       "      <td>NaN</td>\n",
       "    </tr>\n",
       "    <tr>\n",
       "      <th>id</th>\n",
       "      <td>0.223280</td>\n",
       "      <td>0.233005</td>\n",
       "      <td>-0.068140</td>\n",
       "      <td>0.088379</td>\n",
       "      <td>0.142993</td>\n",
       "      <td>NaN</td>\n",
       "      <td>1.000000</td>\n",
       "      <td>0.239009</td>\n",
       "      <td>0.236104</td>\n",
       "      <td>0.224171</td>\n",
       "      <td>-0.168116</td>\n",
       "      <td>-0.151509</td>\n",
       "      <td>-0.225383</td>\n",
       "      <td>0.350658</td>\n",
       "      <td>0.120498</td>\n",
       "      <td>-0.096209</td>\n",
       "      <td>-0.088596</td>\n",
       "      <td>-0.019686</td>\n",
       "      <td>-0.083477</td>\n",
       "      <td>0.059296</td>\n",
       "      <td>-0.019946</td>\n",
       "    </tr>\n",
       "    <tr>\n",
       "      <th>vehicule_id</th>\n",
       "      <td>0.683017</td>\n",
       "      <td>0.311760</td>\n",
       "      <td>-0.122360</td>\n",
       "      <td>0.137761</td>\n",
       "      <td>-0.034274</td>\n",
       "      <td>NaN</td>\n",
       "      <td>0.239009</td>\n",
       "      <td>1.000000</td>\n",
       "      <td>0.764334</td>\n",
       "      <td>0.760996</td>\n",
       "      <td>-0.072504</td>\n",
       "      <td>-0.075490</td>\n",
       "      <td>-0.061240</td>\n",
       "      <td>0.062695</td>\n",
       "      <td>-0.009673</td>\n",
       "      <td>-0.112377</td>\n",
       "      <td>-0.006073</td>\n",
       "      <td>0.042367</td>\n",
       "      <td>-0.170937</td>\n",
       "      <td>0.176021</td>\n",
       "      <td>-0.123924</td>\n",
       "    </tr>\n",
       "    <tr>\n",
       "      <th>assure_id</th>\n",
       "      <td>0.721283</td>\n",
       "      <td>0.371700</td>\n",
       "      <td>-0.131558</td>\n",
       "      <td>0.131692</td>\n",
       "      <td>0.007559</td>\n",
       "      <td>NaN</td>\n",
       "      <td>0.236104</td>\n",
       "      <td>0.764334</td>\n",
       "      <td>1.000000</td>\n",
       "      <td>0.912398</td>\n",
       "      <td>-0.028023</td>\n",
       "      <td>-0.037075</td>\n",
       "      <td>-0.050572</td>\n",
       "      <td>0.057752</td>\n",
       "      <td>-0.004015</td>\n",
       "      <td>-0.164887</td>\n",
       "      <td>-0.060163</td>\n",
       "      <td>0.037140</td>\n",
       "      <td>-0.170311</td>\n",
       "      <td>0.190305</td>\n",
       "      <td>-0.119189</td>\n",
       "    </tr>\n",
       "    <tr>\n",
       "      <th>souscripteur_id</th>\n",
       "      <td>0.750113</td>\n",
       "      <td>0.366467</td>\n",
       "      <td>-0.142161</td>\n",
       "      <td>0.114321</td>\n",
       "      <td>-0.001192</td>\n",
       "      <td>NaN</td>\n",
       "      <td>0.224171</td>\n",
       "      <td>0.760996</td>\n",
       "      <td>0.912398</td>\n",
       "      <td>1.000000</td>\n",
       "      <td>-0.025474</td>\n",
       "      <td>-0.033097</td>\n",
       "      <td>-0.053501</td>\n",
       "      <td>0.059963</td>\n",
       "      <td>0.024872</td>\n",
       "      <td>-0.187078</td>\n",
       "      <td>-0.068771</td>\n",
       "      <td>0.062779</td>\n",
       "      <td>-0.198003</td>\n",
       "      <td>0.220506</td>\n",
       "      <td>-0.130351</td>\n",
       "    </tr>\n",
       "    <tr>\n",
       "      <th>classeBonusMalus</th>\n",
       "      <td>-0.021514</td>\n",
       "      <td>0.026383</td>\n",
       "      <td>0.006882</td>\n",
       "      <td>-0.033681</td>\n",
       "      <td>0.005137</td>\n",
       "      <td>NaN</td>\n",
       "      <td>-0.168116</td>\n",
       "      <td>-0.072504</td>\n",
       "      <td>-0.028023</td>\n",
       "      <td>-0.025474</td>\n",
       "      <td>1.000000</td>\n",
       "      <td>0.933805</td>\n",
       "      <td>0.033138</td>\n",
       "      <td>-0.081494</td>\n",
       "      <td>-0.026741</td>\n",
       "      <td>-0.107183</td>\n",
       "      <td>0.004286</td>\n",
       "      <td>0.022762</td>\n",
       "      <td>0.150431</td>\n",
       "      <td>-0.039951</td>\n",
       "      <td>0.078777</td>\n",
       "    </tr>\n",
       "    <tr>\n",
       "      <th>coefBonusMalus</th>\n",
       "      <td>-0.023546</td>\n",
       "      <td>0.025508</td>\n",
       "      <td>0.007923</td>\n",
       "      <td>-0.036616</td>\n",
       "      <td>0.008797</td>\n",
       "      <td>NaN</td>\n",
       "      <td>-0.151509</td>\n",
       "      <td>-0.075490</td>\n",
       "      <td>-0.037075</td>\n",
       "      <td>-0.033097</td>\n",
       "      <td>0.933805</td>\n",
       "      <td>1.000000</td>\n",
       "      <td>0.035630</td>\n",
       "      <td>-0.095518</td>\n",
       "      <td>-0.027552</td>\n",
       "      <td>0.012145</td>\n",
       "      <td>0.053783</td>\n",
       "      <td>0.019907</td>\n",
       "      <td>0.148706</td>\n",
       "      <td>-0.044286</td>\n",
       "      <td>0.073869</td>\n",
       "    </tr>\n",
       "    <tr>\n",
       "      <th>CONTRAT_EN_COURS</th>\n",
       "      <td>-0.020738</td>\n",
       "      <td>-0.002935</td>\n",
       "      <td>0.009714</td>\n",
       "      <td>0.007872</td>\n",
       "      <td>0.024582</td>\n",
       "      <td>NaN</td>\n",
       "      <td>-0.225383</td>\n",
       "      <td>-0.061240</td>\n",
       "      <td>-0.050572</td>\n",
       "      <td>-0.053501</td>\n",
       "      <td>0.033138</td>\n",
       "      <td>0.035630</td>\n",
       "      <td>1.000000</td>\n",
       "      <td>-0.284746</td>\n",
       "      <td>0.182418</td>\n",
       "      <td>0.026145</td>\n",
       "      <td>0.024495</td>\n",
       "      <td>0.007175</td>\n",
       "      <td>-0.036821</td>\n",
       "      <td>-0.034343</td>\n",
       "      <td>-0.050841</td>\n",
       "    </tr>\n",
       "    <tr>\n",
       "      <th>bonus</th>\n",
       "      <td>0.034912</td>\n",
       "      <td>0.055709</td>\n",
       "      <td>-0.018445</td>\n",
       "      <td>0.006965</td>\n",
       "      <td>0.057244</td>\n",
       "      <td>NaN</td>\n",
       "      <td>0.350658</td>\n",
       "      <td>0.062695</td>\n",
       "      <td>0.057752</td>\n",
       "      <td>0.059963</td>\n",
       "      <td>-0.081494</td>\n",
       "      <td>-0.095518</td>\n",
       "      <td>-0.284746</td>\n",
       "      <td>1.000000</td>\n",
       "      <td>0.052484</td>\n",
       "      <td>-0.067442</td>\n",
       "      <td>-0.037101</td>\n",
       "      <td>0.066638</td>\n",
       "      <td>0.052633</td>\n",
       "      <td>0.053771</td>\n",
       "      <td>0.070121</td>\n",
       "    </tr>\n",
       "    <tr>\n",
       "      <th>dernierClassBonusMallus</th>\n",
       "      <td>0.014280</td>\n",
       "      <td>-0.016184</td>\n",
       "      <td>-0.001003</td>\n",
       "      <td>-0.005099</td>\n",
       "      <td>0.075401</td>\n",
       "      <td>NaN</td>\n",
       "      <td>0.120498</td>\n",
       "      <td>-0.009673</td>\n",
       "      <td>-0.004015</td>\n",
       "      <td>0.024872</td>\n",
       "      <td>-0.026741</td>\n",
       "      <td>-0.027552</td>\n",
       "      <td>0.182418</td>\n",
       "      <td>0.052484</td>\n",
       "      <td>1.000000</td>\n",
       "      <td>-0.015227</td>\n",
       "      <td>-0.022816</td>\n",
       "      <td>0.024026</td>\n",
       "      <td>-0.030235</td>\n",
       "      <td>0.017358</td>\n",
       "      <td>-0.021735</td>\n",
       "    </tr>\n",
       "    <tr>\n",
       "      <th>codeUsage</th>\n",
       "      <td>-0.154793</td>\n",
       "      <td>-0.149761</td>\n",
       "      <td>0.046131</td>\n",
       "      <td>-0.063221</td>\n",
       "      <td>-0.044911</td>\n",
       "      <td>NaN</td>\n",
       "      <td>-0.096209</td>\n",
       "      <td>-0.112377</td>\n",
       "      <td>-0.164887</td>\n",
       "      <td>-0.187078</td>\n",
       "      <td>-0.107183</td>\n",
       "      <td>0.012145</td>\n",
       "      <td>0.026145</td>\n",
       "      <td>-0.067442</td>\n",
       "      <td>-0.015227</td>\n",
       "      <td>1.000000</td>\n",
       "      <td>0.309983</td>\n",
       "      <td>-0.015919</td>\n",
       "      <td>0.064285</td>\n",
       "      <td>-0.084828</td>\n",
       "      <td>-0.001413</td>\n",
       "    </tr>\n",
       "    <tr>\n",
       "      <th>puissanceFiscal</th>\n",
       "      <td>-0.043822</td>\n",
       "      <td>-0.091423</td>\n",
       "      <td>0.037721</td>\n",
       "      <td>-0.062453</td>\n",
       "      <td>-0.051715</td>\n",
       "      <td>NaN</td>\n",
       "      <td>-0.088596</td>\n",
       "      <td>-0.006073</td>\n",
       "      <td>-0.060163</td>\n",
       "      <td>-0.068771</td>\n",
       "      <td>0.004286</td>\n",
       "      <td>0.053783</td>\n",
       "      <td>0.024495</td>\n",
       "      <td>-0.037101</td>\n",
       "      <td>-0.022816</td>\n",
       "      <td>0.309983</td>\n",
       "      <td>1.000000</td>\n",
       "      <td>0.025282</td>\n",
       "      <td>0.097566</td>\n",
       "      <td>-0.034662</td>\n",
       "      <td>0.043425</td>\n",
       "    </tr>\n",
       "    <tr>\n",
       "      <th>sinistre_id</th>\n",
       "      <td>-0.110419</td>\n",
       "      <td>-0.152826</td>\n",
       "      <td>0.010519</td>\n",
       "      <td>-0.141036</td>\n",
       "      <td>0.037465</td>\n",
       "      <td>NaN</td>\n",
       "      <td>-0.019686</td>\n",
       "      <td>0.042367</td>\n",
       "      <td>0.037140</td>\n",
       "      <td>0.062779</td>\n",
       "      <td>0.022762</td>\n",
       "      <td>0.019907</td>\n",
       "      <td>0.007175</td>\n",
       "      <td>0.066638</td>\n",
       "      <td>0.024026</td>\n",
       "      <td>-0.015919</td>\n",
       "      <td>0.025282</td>\n",
       "      <td>1.000000</td>\n",
       "      <td>0.481363</td>\n",
       "      <td>0.377445</td>\n",
       "      <td>0.685367</td>\n",
       "    </tr>\n",
       "    <tr>\n",
       "      <th>pourcentadeDeResponsabilite</th>\n",
       "      <td>-0.335273</td>\n",
       "      <td>-0.345925</td>\n",
       "      <td>0.088808</td>\n",
       "      <td>-0.147788</td>\n",
       "      <td>0.034039</td>\n",
       "      <td>NaN</td>\n",
       "      <td>-0.083477</td>\n",
       "      <td>-0.170937</td>\n",
       "      <td>-0.170311</td>\n",
       "      <td>-0.198003</td>\n",
       "      <td>0.150431</td>\n",
       "      <td>0.148706</td>\n",
       "      <td>-0.036821</td>\n",
       "      <td>0.052633</td>\n",
       "      <td>-0.030235</td>\n",
       "      <td>0.064285</td>\n",
       "      <td>0.097566</td>\n",
       "      <td>0.481363</td>\n",
       "      <td>1.000000</td>\n",
       "      <td>-0.090495</td>\n",
       "      <td>0.731631</td>\n",
       "    </tr>\n",
       "    <tr>\n",
       "      <th>porcentageCompagnieAdverse</th>\n",
       "      <td>0.055685</td>\n",
       "      <td>-0.020426</td>\n",
       "      <td>-0.050039</td>\n",
       "      <td>-0.147707</td>\n",
       "      <td>0.010974</td>\n",
       "      <td>NaN</td>\n",
       "      <td>0.059296</td>\n",
       "      <td>0.176021</td>\n",
       "      <td>0.190305</td>\n",
       "      <td>0.220506</td>\n",
       "      <td>-0.039951</td>\n",
       "      <td>-0.044286</td>\n",
       "      <td>-0.034343</td>\n",
       "      <td>0.053771</td>\n",
       "      <td>0.017358</td>\n",
       "      <td>-0.084828</td>\n",
       "      <td>-0.034662</td>\n",
       "      <td>0.377445</td>\n",
       "      <td>-0.090495</td>\n",
       "      <td>1.000000</td>\n",
       "      <td>0.406190</td>\n",
       "    </tr>\n",
       "    <tr>\n",
       "      <th>Calculer_Sinistre</th>\n",
       "      <td>-0.350493</td>\n",
       "      <td>-0.334747</td>\n",
       "      <td>0.071885</td>\n",
       "      <td>-0.177960</td>\n",
       "      <td>0.027721</td>\n",
       "      <td>NaN</td>\n",
       "      <td>-0.019946</td>\n",
       "      <td>-0.123924</td>\n",
       "      <td>-0.119189</td>\n",
       "      <td>-0.130351</td>\n",
       "      <td>0.078777</td>\n",
       "      <td>0.073869</td>\n",
       "      <td>-0.050841</td>\n",
       "      <td>0.070121</td>\n",
       "      <td>-0.021735</td>\n",
       "      <td>-0.001413</td>\n",
       "      <td>0.043425</td>\n",
       "      <td>0.685367</td>\n",
       "      <td>0.731631</td>\n",
       "      <td>0.406190</td>\n",
       "      <td>1.000000</td>\n",
       "    </tr>\n",
       "  </tbody>\n",
       "</table>\n",
       "</div>"
      ],
      "text/plain": [
       "                             police_id  codeCompagnie  codeAgence  \\\n",
       "police_id                     1.000000       0.674446   -0.167928   \n",
       "codeCompagnie                 0.674446       1.000000   -0.195420   \n",
       "codeAgence                   -0.167928      -0.195420    1.000000   \n",
       "typeIntermediaire             0.248413       0.318143   -0.059129   \n",
       "dateEcheancePolice           -0.018524      -0.030252    0.012004   \n",
       "verouillageModifPolice             NaN            NaN         NaN   \n",
       "id                            0.223280       0.233005   -0.068140   \n",
       "vehicule_id                   0.683017       0.311760   -0.122360   \n",
       "assure_id                     0.721283       0.371700   -0.131558   \n",
       "souscripteur_id               0.750113       0.366467   -0.142161   \n",
       "classeBonusMalus             -0.021514       0.026383    0.006882   \n",
       "coefBonusMalus               -0.023546       0.025508    0.007923   \n",
       "CONTRAT_EN_COURS             -0.020738      -0.002935    0.009714   \n",
       "bonus                         0.034912       0.055709   -0.018445   \n",
       "dernierClassBonusMallus       0.014280      -0.016184   -0.001003   \n",
       "codeUsage                    -0.154793      -0.149761    0.046131   \n",
       "puissanceFiscal              -0.043822      -0.091423    0.037721   \n",
       "sinistre_id                  -0.110419      -0.152826    0.010519   \n",
       "pourcentadeDeResponsabilite  -0.335273      -0.345925    0.088808   \n",
       "porcentageCompagnieAdverse    0.055685      -0.020426   -0.050039   \n",
       "Calculer_Sinistre            -0.350493      -0.334747    0.071885   \n",
       "\n",
       "                             typeIntermediaire  dateEcheancePolice  \\\n",
       "police_id                             0.248413           -0.018524   \n",
       "codeCompagnie                         0.318143           -0.030252   \n",
       "codeAgence                           -0.059129            0.012004   \n",
       "typeIntermediaire                     1.000000            0.005944   \n",
       "dateEcheancePolice                    0.005944            1.000000   \n",
       "verouillageModifPolice                     NaN                 NaN   \n",
       "id                                    0.088379            0.142993   \n",
       "vehicule_id                           0.137761           -0.034274   \n",
       "assure_id                             0.131692            0.007559   \n",
       "souscripteur_id                       0.114321           -0.001192   \n",
       "classeBonusMalus                     -0.033681            0.005137   \n",
       "coefBonusMalus                       -0.036616            0.008797   \n",
       "CONTRAT_EN_COURS                      0.007872            0.024582   \n",
       "bonus                                 0.006965            0.057244   \n",
       "dernierClassBonusMallus              -0.005099            0.075401   \n",
       "codeUsage                            -0.063221           -0.044911   \n",
       "puissanceFiscal                      -0.062453           -0.051715   \n",
       "sinistre_id                          -0.141036            0.037465   \n",
       "pourcentadeDeResponsabilite          -0.147788            0.034039   \n",
       "porcentageCompagnieAdverse           -0.147707            0.010974   \n",
       "Calculer_Sinistre                    -0.177960            0.027721   \n",
       "\n",
       "                             verouillageModifPolice        id  vehicule_id  \\\n",
       "police_id                                       NaN  0.223280     0.683017   \n",
       "codeCompagnie                                   NaN  0.233005     0.311760   \n",
       "codeAgence                                      NaN -0.068140    -0.122360   \n",
       "typeIntermediaire                               NaN  0.088379     0.137761   \n",
       "dateEcheancePolice                              NaN  0.142993    -0.034274   \n",
       "verouillageModifPolice                          NaN       NaN          NaN   \n",
       "id                                              NaN  1.000000     0.239009   \n",
       "vehicule_id                                     NaN  0.239009     1.000000   \n",
       "assure_id                                       NaN  0.236104     0.764334   \n",
       "souscripteur_id                                 NaN  0.224171     0.760996   \n",
       "classeBonusMalus                                NaN -0.168116    -0.072504   \n",
       "coefBonusMalus                                  NaN -0.151509    -0.075490   \n",
       "CONTRAT_EN_COURS                                NaN -0.225383    -0.061240   \n",
       "bonus                                           NaN  0.350658     0.062695   \n",
       "dernierClassBonusMallus                         NaN  0.120498    -0.009673   \n",
       "codeUsage                                       NaN -0.096209    -0.112377   \n",
       "puissanceFiscal                                 NaN -0.088596    -0.006073   \n",
       "sinistre_id                                     NaN -0.019686     0.042367   \n",
       "pourcentadeDeResponsabilite                     NaN -0.083477    -0.170937   \n",
       "porcentageCompagnieAdverse                      NaN  0.059296     0.176021   \n",
       "Calculer_Sinistre                               NaN -0.019946    -0.123924   \n",
       "\n",
       "                             assure_id  souscripteur_id  classeBonusMalus  \\\n",
       "police_id                     0.721283         0.750113         -0.021514   \n",
       "codeCompagnie                 0.371700         0.366467          0.026383   \n",
       "codeAgence                   -0.131558        -0.142161          0.006882   \n",
       "typeIntermediaire             0.131692         0.114321         -0.033681   \n",
       "dateEcheancePolice            0.007559        -0.001192          0.005137   \n",
       "verouillageModifPolice             NaN              NaN               NaN   \n",
       "id                            0.236104         0.224171         -0.168116   \n",
       "vehicule_id                   0.764334         0.760996         -0.072504   \n",
       "assure_id                     1.000000         0.912398         -0.028023   \n",
       "souscripteur_id               0.912398         1.000000         -0.025474   \n",
       "classeBonusMalus             -0.028023        -0.025474          1.000000   \n",
       "coefBonusMalus               -0.037075        -0.033097          0.933805   \n",
       "CONTRAT_EN_COURS             -0.050572        -0.053501          0.033138   \n",
       "bonus                         0.057752         0.059963         -0.081494   \n",
       "dernierClassBonusMallus      -0.004015         0.024872         -0.026741   \n",
       "codeUsage                    -0.164887        -0.187078         -0.107183   \n",
       "puissanceFiscal              -0.060163        -0.068771          0.004286   \n",
       "sinistre_id                   0.037140         0.062779          0.022762   \n",
       "pourcentadeDeResponsabilite  -0.170311        -0.198003          0.150431   \n",
       "porcentageCompagnieAdverse    0.190305         0.220506         -0.039951   \n",
       "Calculer_Sinistre            -0.119189        -0.130351          0.078777   \n",
       "\n",
       "                             coefBonusMalus  CONTRAT_EN_COURS     bonus  \\\n",
       "police_id                         -0.023546         -0.020738  0.034912   \n",
       "codeCompagnie                      0.025508         -0.002935  0.055709   \n",
       "codeAgence                         0.007923          0.009714 -0.018445   \n",
       "typeIntermediaire                 -0.036616          0.007872  0.006965   \n",
       "dateEcheancePolice                 0.008797          0.024582  0.057244   \n",
       "verouillageModifPolice                  NaN               NaN       NaN   \n",
       "id                                -0.151509         -0.225383  0.350658   \n",
       "vehicule_id                       -0.075490         -0.061240  0.062695   \n",
       "assure_id                         -0.037075         -0.050572  0.057752   \n",
       "souscripteur_id                   -0.033097         -0.053501  0.059963   \n",
       "classeBonusMalus                   0.933805          0.033138 -0.081494   \n",
       "coefBonusMalus                     1.000000          0.035630 -0.095518   \n",
       "CONTRAT_EN_COURS                   0.035630          1.000000 -0.284746   \n",
       "bonus                             -0.095518         -0.284746  1.000000   \n",
       "dernierClassBonusMallus           -0.027552          0.182418  0.052484   \n",
       "codeUsage                          0.012145          0.026145 -0.067442   \n",
       "puissanceFiscal                    0.053783          0.024495 -0.037101   \n",
       "sinistre_id                        0.019907          0.007175  0.066638   \n",
       "pourcentadeDeResponsabilite        0.148706         -0.036821  0.052633   \n",
       "porcentageCompagnieAdverse        -0.044286         -0.034343  0.053771   \n",
       "Calculer_Sinistre                  0.073869         -0.050841  0.070121   \n",
       "\n",
       "                             dernierClassBonusMallus  codeUsage  \\\n",
       "police_id                                   0.014280  -0.154793   \n",
       "codeCompagnie                              -0.016184  -0.149761   \n",
       "codeAgence                                 -0.001003   0.046131   \n",
       "typeIntermediaire                          -0.005099  -0.063221   \n",
       "dateEcheancePolice                          0.075401  -0.044911   \n",
       "verouillageModifPolice                           NaN        NaN   \n",
       "id                                          0.120498  -0.096209   \n",
       "vehicule_id                                -0.009673  -0.112377   \n",
       "assure_id                                  -0.004015  -0.164887   \n",
       "souscripteur_id                             0.024872  -0.187078   \n",
       "classeBonusMalus                           -0.026741  -0.107183   \n",
       "coefBonusMalus                             -0.027552   0.012145   \n",
       "CONTRAT_EN_COURS                            0.182418   0.026145   \n",
       "bonus                                       0.052484  -0.067442   \n",
       "dernierClassBonusMallus                     1.000000  -0.015227   \n",
       "codeUsage                                  -0.015227   1.000000   \n",
       "puissanceFiscal                            -0.022816   0.309983   \n",
       "sinistre_id                                 0.024026  -0.015919   \n",
       "pourcentadeDeResponsabilite                -0.030235   0.064285   \n",
       "porcentageCompagnieAdverse                  0.017358  -0.084828   \n",
       "Calculer_Sinistre                          -0.021735  -0.001413   \n",
       "\n",
       "                             puissanceFiscal  sinistre_id  \\\n",
       "police_id                          -0.043822    -0.110419   \n",
       "codeCompagnie                      -0.091423    -0.152826   \n",
       "codeAgence                          0.037721     0.010519   \n",
       "typeIntermediaire                  -0.062453    -0.141036   \n",
       "dateEcheancePolice                 -0.051715     0.037465   \n",
       "verouillageModifPolice                   NaN          NaN   \n",
       "id                                 -0.088596    -0.019686   \n",
       "vehicule_id                        -0.006073     0.042367   \n",
       "assure_id                          -0.060163     0.037140   \n",
       "souscripteur_id                    -0.068771     0.062779   \n",
       "classeBonusMalus                    0.004286     0.022762   \n",
       "coefBonusMalus                      0.053783     0.019907   \n",
       "CONTRAT_EN_COURS                    0.024495     0.007175   \n",
       "bonus                              -0.037101     0.066638   \n",
       "dernierClassBonusMallus            -0.022816     0.024026   \n",
       "codeUsage                           0.309983    -0.015919   \n",
       "puissanceFiscal                     1.000000     0.025282   \n",
       "sinistre_id                         0.025282     1.000000   \n",
       "pourcentadeDeResponsabilite         0.097566     0.481363   \n",
       "porcentageCompagnieAdverse         -0.034662     0.377445   \n",
       "Calculer_Sinistre                   0.043425     0.685367   \n",
       "\n",
       "                             pourcentadeDeResponsabilite  \\\n",
       "police_id                                      -0.335273   \n",
       "codeCompagnie                                  -0.345925   \n",
       "codeAgence                                      0.088808   \n",
       "typeIntermediaire                              -0.147788   \n",
       "dateEcheancePolice                              0.034039   \n",
       "verouillageModifPolice                               NaN   \n",
       "id                                             -0.083477   \n",
       "vehicule_id                                    -0.170937   \n",
       "assure_id                                      -0.170311   \n",
       "souscripteur_id                                -0.198003   \n",
       "classeBonusMalus                                0.150431   \n",
       "coefBonusMalus                                  0.148706   \n",
       "CONTRAT_EN_COURS                               -0.036821   \n",
       "bonus                                           0.052633   \n",
       "dernierClassBonusMallus                        -0.030235   \n",
       "codeUsage                                       0.064285   \n",
       "puissanceFiscal                                 0.097566   \n",
       "sinistre_id                                     0.481363   \n",
       "pourcentadeDeResponsabilite                     1.000000   \n",
       "porcentageCompagnieAdverse                     -0.090495   \n",
       "Calculer_Sinistre                               0.731631   \n",
       "\n",
       "                             porcentageCompagnieAdverse  Calculer_Sinistre  \n",
       "police_id                                      0.055685          -0.350493  \n",
       "codeCompagnie                                 -0.020426          -0.334747  \n",
       "codeAgence                                    -0.050039           0.071885  \n",
       "typeIntermediaire                             -0.147707          -0.177960  \n",
       "dateEcheancePolice                             0.010974           0.027721  \n",
       "verouillageModifPolice                              NaN                NaN  \n",
       "id                                             0.059296          -0.019946  \n",
       "vehicule_id                                    0.176021          -0.123924  \n",
       "assure_id                                      0.190305          -0.119189  \n",
       "souscripteur_id                                0.220506          -0.130351  \n",
       "classeBonusMalus                              -0.039951           0.078777  \n",
       "coefBonusMalus                                -0.044286           0.073869  \n",
       "CONTRAT_EN_COURS                              -0.034343          -0.050841  \n",
       "bonus                                          0.053771           0.070121  \n",
       "dernierClassBonusMallus                        0.017358          -0.021735  \n",
       "codeUsage                                     -0.084828          -0.001413  \n",
       "puissanceFiscal                               -0.034662           0.043425  \n",
       "sinistre_id                                    0.377445           0.685367  \n",
       "pourcentadeDeResponsabilite                   -0.090495           0.731631  \n",
       "porcentageCompagnieAdverse                     1.000000           0.406190  \n",
       "Calculer_Sinistre                              0.406190           1.000000  "
      ]
     },
     "execution_count": 60,
     "metadata": {},
     "output_type": "execute_result"
    }
   ],
   "source": [
    "dfFinal.corr()"
   ]
  },
  {
   "cell_type": "code",
   "execution_count": 61,
   "metadata": {},
   "outputs": [],
   "source": [
    "dfFinal.drop(columns=[\"codeCompagnie\",\"codeAgence\",\"id\",\"souscripteur_id\",\"numPolice\",\"codeUsage\"],inplace=True)"
   ]
  },
  {
   "cell_type": "code",
   "execution_count": 62,
   "metadata": {},
   "outputs": [
    {
     "data": {
      "text/plain": [
       "(96671, 30)"
      ]
     },
     "execution_count": 62,
     "metadata": {},
     "output_type": "execute_result"
    }
   ],
   "source": [
    "dfFinal.shape"
   ]
  },
  {
   "cell_type": "code",
   "execution_count": 63,
   "metadata": {},
   "outputs": [],
   "source": [
    "# ETAT_VEHICULE et etatVehicule sont la même colonne sauf que ETAT_VEHICULE ne contient que la modalité V , on va donc la supprimer"
   ]
  },
  {
   "cell_type": "code",
   "execution_count": 64,
   "metadata": {},
   "outputs": [],
   "source": [
    "dfFinal.drop(columns=[\"ETAT_VEHICULE\"],inplace=True)"
   ]
  },
  {
   "cell_type": "markdown",
   "metadata": {},
   "source": [
    "#### Variable nb sinitre:"
   ]
  },
  {
   "cell_type": "code",
   "execution_count": 65,
   "metadata": {},
   "outputs": [],
   "source": [
    "def calculerNbSinistre(dfFinal):\n",
    "    dfFinal.sort_values([\"dateOuvertureDuSinistre\"],inplace=True)\n",
    "    countSinistre=dfFinal[(dfFinal[\"sinistre_id\"]!=0) & (dfFinal.pourcentadeDeResponsabilite!=0)].groupby(['assure_id','vehicule_id']).cumcount()+1\n",
    "    dfFinal.insert(2,\"NbrSinistre\",countSinistre,True)\n",
    "    dfFinal[\"NbrSinistre\"].fillna(0,inplace=True)\n",
    "    dfFinal.sort_index(inplace=True)\n",
    "    return dfFinal\n",
    "dfFinal=calculerNbSinistre(dfFinal)"
   ]
  },
  {
   "cell_type": "code",
   "execution_count": 66,
   "metadata": {},
   "outputs": [],
   "source": [
    "def calculerNbSinistreM(dfFinal):\n",
    "    dfFinal.sort_values([\"dateOuvertureDuSinistre\"],inplace=True)\n",
    "    countSinistre=dfFinal[(dfFinal[\"sinistre_id\"]!=0) & (dfFinal.pourcentadeDeResponsabilite!=0) & (dfFinal.natureDuSinistre==\"M\")].groupby(['assure_id','vehicule_id']).cumcount()+1\n",
    "    dfFinal.insert(3,\"NbrSinistreM\",countSinistre,True)\n",
    "    dfFinal[\"NbrSinistreM\"].fillna(0,inplace=True)\n",
    "    dfFinal.sort_index(inplace=True)\n",
    "    return dfFinal\n",
    "dfFinal=calculerNbSinistreM(dfFinal)"
   ]
  },
  {
   "cell_type": "code",
   "execution_count": 67,
   "metadata": {},
   "outputs": [],
   "source": [
    "def calculerNbSinistreC(dfFinal):\n",
    "    dfFinal.sort_values([\"dateOuvertureDuSinistre\"],inplace=True)\n",
    "    countSinistre=dfFinal[(dfFinal[\"sinistre_id\"]!=0) & (dfFinal.pourcentadeDeResponsabilite!=0) & (dfFinal.natureDuSinistre==\"C\")].groupby(['assure_id','vehicule_id']).cumcount()+1\n",
    "    dfFinal.insert(4,\"NbrSinistreC\",countSinistre,True)\n",
    "    dfFinal[\"NbrSinistreC\"].fillna(0,inplace=True)\n",
    "    dfFinal.sort_index(inplace=True)\n",
    "    return dfFinal\n",
    "dfFinal=calculerNbSinistreC(dfFinal)"
   ]
  },
  {
   "cell_type": "raw",
   "metadata": {},
   "source": [
    "dfFinal[(dfFinal.NbrSinistre!=dfFinal.NbrSinistreM)][[\"assure_id\",\"police_id\",\"vehicule_id\",\"classeBonusMalus\",\"NbrSinistre\",\"NbrSinistreM\",\"natureDuSinistre\",\"pourcentadeDeResponsabilite\"]].sort_values(\"assure_id\").head(100)"
   ]
  },
  {
   "cell_type": "raw",
   "metadata": {},
   "source": [
    "#94700\t358596\t1159989\t\n",
    "dfFinal[(dfFinal.assure_id==94700) & (dfFinal.police_id==358596) & (dfFinal.vehicule_id==1159989)][[\"assure_id\",\"police_id\",\"vehicule_id\",\"classeBonusMalus\",\"NbrSinistre\",\"NbrSinistreM\",\"NbrSinistreC\",\"natureDuSinistre\",\"pourcentadeDeResponsabilite\",\"date_Calcule\",\"dateEffetPolice\"]]"
   ]
  },
  {
   "cell_type": "raw",
   "metadata": {},
   "source": [
    "dfFinal[dfFinal.NbrSinistre>3 & (dfFinal.classeBonusMalus!=11)]"
   ]
  },
  {
   "cell_type": "code",
   "execution_count": 68,
   "metadata": {},
   "outputs": [],
   "source": [
    "from datetime import datetime\n",
    "def dureeDatePoliceCalcul(df):\n",
    "    dE=dfFinal[\"dateEffetPolice\"].tolist()\n",
    "    dC=dfFinal[\"date_Calcule\"].tolist()\n",
    "    duree=[]\n",
    "    for i in range(len(dE)):\n",
    "        duree.append((datetime.strptime(dC[i], '%Y-%m-%d %H:%M:%S.%f').date()-datetime.strptime(dE[i], '%Y-%m-%d').date()).days)\n",
    "    df[\"Duree\"]=duree\n",
    "    return df"
   ]
  },
  {
   "cell_type": "code",
   "execution_count": 69,
   "metadata": {},
   "outputs": [],
   "source": [
    "dfFinal=dureeDatePoliceCalcul(dfFinal)"
   ]
  },
  {
   "cell_type": "raw",
   "metadata": {},
   "source": [
    "# Il y a des duree <0\n",
    "dfFinal[dfFinal.Duree<0].shape"
   ]
  },
  {
   "cell_type": "code",
   "execution_count": 70,
   "metadata": {},
   "outputs": [],
   "source": [
    "def minVariable(df):\n",
    "    assure=df.assure_id.tolist()\n",
    "    police=df.police_id.tolist()\n",
    "    vehicule=df.vehicule_id.tolist()\n",
    "    dE=df.dateEffetPolice.tolist()\n",
    "    dictEffet=(df.groupby([\"assure_id\",\"vehicule_id\"])[\"dateEffetPolice\"].apply(min)).to_dict()\n",
    "    minE=[]\n",
    "    for i in range(len(dE)):\n",
    "        if dictEffet[(assure[i],vehicule[i])]==dE[i]:\n",
    "            minE.append(1)\n",
    "        else:\n",
    "            minE.append(0)\n",
    "    df[\"minE\"]=minE\n",
    "    return df      "
   ]
  },
  {
   "cell_type": "raw",
   "metadata": {
    "jupyter": {
     "outputs_hidden": true
    }
   },
   "source": [
    "dfFinal[dfFinal.NbrSinistre>4][[\"assure_id\",\"vehicule_id\",\"police_id\",\"dateEffetPolice\",\"NbrSinistre\"]].sort_values(\"assure_id\").tail(100)"
   ]
  },
  {
   "cell_type": "code",
   "execution_count": 71,
   "metadata": {},
   "outputs": [],
   "source": [
    "dfFinal=minVariable(dfFinal)"
   ]
  },
  {
   "cell_type": "raw",
   "metadata": {},
   "source": [
    "27276\t29610\n",
    "dfFinal[(dfFinal.assure_id==27276) &(dfFinal.vehicule_id==29610)][[\"assure_id\",\"vehicule_id\",\"police_id\",\"dateEffetPolice\",\"NbrSinistre\",\"minE\"]]"
   ]
  },
  {
   "cell_type": "code",
   "execution_count": 72,
   "metadata": {},
   "outputs": [],
   "source": [
    "def PairImpair(duree):\n",
    "    if (duree % 2) == 0:\n",
    "        return 1\n",
    "    else:\n",
    "        return 0"
   ]
  },
  {
   "cell_type": "markdown",
   "metadata": {},
   "source": [
    "###### Les déplacements sur l’échelle des classes s’opèrent selon le mécanisme suivant:\n",
    "- L’assuré bénéficie d’un passage à la classe inférieure s’il passe deux ans sans avoir\n",
    "d’accident responsable (le système ne prend en compte que les accidents dans\n",
    "lesquels l’assuré est responsable)\n",
    "- L’assuré a une pénalité d’une augmentation de deux classes si sa responsabilité est\n",
    "impliquée dans un accident corporel, et une pénalité supplémentaire d’une\n",
    "augmentation de trois classes pour chaque accident corporel ayant eu lieu au cours\n",
    "de la même année\n",
    "- L’assuré a une pénalité d’une augmentation d’une classe s’il est impliqué dans un\n",
    "accident matériel."
   ]
  },
  {
   "cell_type": "code",
   "execution_count": 73,
   "metadata": {},
   "outputs": [],
   "source": [
    "def fraude(df):\n",
    "    duree=df.Duree.tolist()\n",
    "    minE=df.minE.tolist()\n",
    "    classBM=df.classeBonusMalus.tolist()\n",
    "    nbrSinistre=df.NbrSinistre.tolist()\n",
    "    nbrSinistreM=df.NbrSinistreM.tolist()\n",
    "    nbrSinistreC=df.NbrSinistreC.tolist()\n",
    "    natureSinistre=df.natureDuSinistre.tolist()\n",
    "    Fraud=[]\n",
    "    for i in range(len(classBM)):\n",
    "        if(minE[i]==1):\n",
    "            if nbrSinistre[i]==0:\n",
    "                dureeY=round(duree[i]/365)\n",
    "                if PairImpair(dureeY)==1:       \n",
    "                    if (8-classBM[i]!=dureeY/2):\n",
    "                        Fraud.append(1)\n",
    "                    else:\n",
    "                        Fraud.append(0)\n",
    "                else:\n",
    "                    if (8-classBM[i]!=(dureeY/2-1)):\n",
    "                        Fraud.append(1)\n",
    "                    else:\n",
    "                        Fraud.append(0)\n",
    "            else:\n",
    "                if natureSinistre[i]==\"M\":\n",
    "                    nbSinistreC=nbrSinistre[i]-nbrSinistreM[i]\n",
    "                    if (classBM[i]!=8+nbrSinistreM[i]+(2*nbSinistreC)):\n",
    "                        Fraud.append(1)\n",
    "                    else:\n",
    "                        Fraud.append(0)\n",
    "                else:\n",
    "                    nbSinistreM=nbrSinistre[i]-nbrSinistreC[i]\n",
    "                    if (classBM[i]!=8+(nbrSinistreC[i]*2)+nbSinistreM):\n",
    "                        Fraud.append(1)\n",
    "                    else:\n",
    "                        Fraud.append(0)\n",
    "        else:\n",
    "            Fraud.append(0)\n",
    "    df[\"Fraud\"]=Fraud\n",
    "    return df"
   ]
  },
  {
   "cell_type": "code",
   "execution_count": 74,
   "metadata": {},
   "outputs": [],
   "source": [
    "dfFinal=fraude(dfFinal)"
   ]
  },
  {
   "cell_type": "code",
   "execution_count": 75,
   "metadata": {},
   "outputs": [
    {
     "data": {
      "text/plain": [
       "(11093, 35)"
      ]
     },
     "execution_count": 75,
     "metadata": {},
     "output_type": "execute_result"
    }
   ],
   "source": [
    "dfFinal[dfFinal.pourcentadeDeResponsabilite==0].shape"
   ]
  },
  {
   "cell_type": "code",
   "execution_count": 76,
   "metadata": {},
   "outputs": [
    {
     "data": {
      "text/plain": [
       "(4413, 35)"
      ]
     },
     "execution_count": 76,
     "metadata": {},
     "output_type": "execute_result"
    }
   ],
   "source": [
    "dfFinal[dfFinal.Fraud==0].shape"
   ]
  },
  {
   "cell_type": "raw",
   "metadata": {},
   "source": [
    "dfFinal[[\"assure_id\",\"classeBonusMalus\",\"NbrSinistre\",\"Duree\",\"minE\",\"Fraud\"]].sort_values(\"assure_id\").head(100)"
   ]
  },
  {
   "cell_type": "code",
   "execution_count": 77,
   "metadata": {},
   "outputs": [
    {
     "data": {
      "text/plain": [
       "1    92258\n",
       "0     4413\n",
       "Name: Fraud, dtype: int64"
      ]
     },
     "execution_count": 77,
     "metadata": {},
     "output_type": "execute_result"
    }
   ],
   "source": [
    "dfFinal.Fraud.value_counts()"
   ]
  },
  {
   "cell_type": "markdown",
   "metadata": {},
   "source": [
    "### Encodage:"
   ]
  },
  {
   "cell_type": "code",
   "execution_count": 78,
   "metadata": {},
   "outputs": [],
   "source": [
    "import category_encoders as ce"
   ]
  },
  {
   "cell_type": "code",
   "execution_count": 79,
   "metadata": {},
   "outputs": [],
   "source": [
    "\n",
    "\n",
    "\n",
    "# Define function\n",
    "def target_encoder(df, column, target, index=None, method='mean'):\n",
    "    \"\"\"\n",
    "    Target-based encoding is numerization of a categorical variables via the target variable. Main purpose is to deal\n",
    "    with high cardinality categorical features without exploding dimensionality. This replaces the categorical variable\n",
    "    with just one new numerical variable. Each category or level of the categorical variable is represented by a\n",
    "    summary statistic of the target for that level.\n",
    "\n",
    "    Args:\n",
    "        df (pandas df): Pandas DataFrame containing the categorical column and target.\n",
    "        column (str): Categorical variable column to be encoded.\n",
    "        target (str): Target on which to encode.\n",
    "        index (arr): Can be supplied to use targets only from the train index. Avoids data leakage from the test fold\n",
    "        method (str): Summary statistic of the target. Mean, median or std. deviation.\n",
    "\n",
    "    Returns:\n",
    "        arr: Encoded categorical column.\n",
    "\n",
    "    \"\"\"\n",
    "\n",
    "    index = df.index if index is None else index # Encode the entire input df if no specific indices is supplied\n",
    "\n",
    "    if method == 'mean':\n",
    "        encoded_column = df[column].map(df.loc[index].groupby(column)[target].mean())\n",
    "    elif method == 'median':\n",
    "        encoded_column = df[column].map(df.loc[index].groupby(column)[target].median())\n",
    "    elif method == 'std':\n",
    "        encoded_column = df[column].map(df.loc[index].groupby(column)[target].std())\n",
    "    else:\n",
    "        raise ValueError(\"Incorrect method supplied: '{}'. Must be one of 'mean', 'median', 'std'\".format(method))\n",
    "\n",
    "    return encoded_column"
   ]
  },
  {
   "cell_type": "code",
   "execution_count": 80,
   "metadata": {},
   "outputs": [
    {
     "name": "stdout",
     "output_type": "stream",
     "text": [
      "<class 'pandas.core.frame.DataFrame'>\n",
      "Int64Index: 96671 entries, 0 to 96670\n",
      "Data columns (total 35 columns):\n",
      "police_id                      96671 non-null int64\n",
      "typeIntermediaire              96671 non-null int64\n",
      "NbrSinistre                    96671 non-null float64\n",
      "NbrSinistreM                   96671 non-null float64\n",
      "NbrSinistreC                   96671 non-null float64\n",
      "naturePolice                   96671 non-null object\n",
      "typePolice                     96671 non-null object\n",
      "dateEffetPolice                96671 non-null object\n",
      "dateEcheancePolice             96671 non-null float64\n",
      "verouillageModifPolice         96671 non-null int64\n",
      "Etat_Police                    96671 non-null object\n",
      "vehicule_id                    96671 non-null int64\n",
      "assure_id                      96671 non-null int64\n",
      "classeBonusMalus               96671 non-null int64\n",
      "coefBonusMalus                 96671 non-null int64\n",
      "DATE_AFFECTATION               96671 non-null object\n",
      "CONTRAT_EN_COURS               96671 non-null int64\n",
      "bonus                          96671 non-null int64\n",
      "date_Calcule                   96671 non-null object\n",
      "dernierClassBonusMallus        96671 non-null int64\n",
      "puissanceFiscal                96671 non-null float64\n",
      "energie                        96671 non-null object\n",
      "etatVehicule                   96671 non-null object\n",
      "libUsage                       96671 non-null object\n",
      "sinistre_id                    96671 non-null float64\n",
      "dateOuvertureDuSinistre        96671 non-null object\n",
      "lieuDuSinistre                 96671 non-null object\n",
      "identificationTiers            96671 non-null object\n",
      "pourcentadeDeResponsabilite    96671 non-null float64\n",
      "porcentageCompagnieAdverse     96671 non-null float64\n",
      "natureDuSinistre               96671 non-null object\n",
      "Calculer_Sinistre              96671 non-null float64\n",
      "Duree                          96671 non-null int64\n",
      "minE                           96671 non-null int64\n",
      "Fraud                          96671 non-null int64\n",
      "dtypes: float64(9), int64(13), object(13)\n",
      "memory usage: 26.6+ MB\n"
     ]
    }
   ],
   "source": [
    "dfFinal.info()"
   ]
  },
  {
   "cell_type": "code",
   "execution_count": 81,
   "metadata": {},
   "outputs": [
    {
     "data": {
      "text/plain": [
       "array(['Agricole1 véhicule dont le PTC < 3500 kg', 'Auto-Ecole', 'Taxi',\n",
       "       'Privé et professionnel',\n",
       "       'Utilitaire 1 véhicule dont le PTC < 3500 kg (y compris usage voirie)',\n",
       "       'Utilitaire 2 véhicule dont le PTC > 3500 kg (y compris voirie)',\n",
       "       'Louage', 'Transport Rural',\n",
       "       'Transport public de marchandise (avec matière dangereuse et inflammable)',\n",
       "       'Location', 'Engin de Chantiers',\n",
       "       'autres usages (Ambulance / Corbillard / RC Garagiste / RC Trajet etc)',\n",
       "       'Agricole 2 véhicule dont le PTC > 3500 kg',\n",
       "       'Transport privé de personnes (personnel / enfants /membre d’association)',\n",
       "       'Agences de Voyage et Hôtels',\n",
       "       'Agricole Tracteur et Moissonneuse Batteuse',\n",
       "       'Transport public de voyageurs', '-'], dtype=object)"
      ]
     },
     "execution_count": 81,
     "metadata": {},
     "output_type": "execute_result"
    }
   ],
   "source": [
    "dfFinal[\"libUsage\"].unique()"
   ]
  },
  {
   "cell_type": "code",
   "execution_count": 82,
   "metadata": {},
   "outputs": [
    {
     "data": {
      "text/html": [
       "<div>\n",
       "<style scoped>\n",
       "    .dataframe tbody tr th:only-of-type {\n",
       "        vertical-align: middle;\n",
       "    }\n",
       "\n",
       "    .dataframe tbody tr th {\n",
       "        vertical-align: top;\n",
       "    }\n",
       "\n",
       "    .dataframe thead th {\n",
       "        text-align: right;\n",
       "    }\n",
       "</style>\n",
       "<table border=\"1\" class=\"dataframe\">\n",
       "  <thead>\n",
       "    <tr style=\"text-align: right;\">\n",
       "      <th></th>\n",
       "      <th>police_id</th>\n",
       "      <th>typeIntermediaire</th>\n",
       "      <th>NbrSinistre</th>\n",
       "      <th>NbrSinistreM</th>\n",
       "      <th>NbrSinistreC</th>\n",
       "      <th>naturePolice</th>\n",
       "      <th>typePolice</th>\n",
       "      <th>dateEffetPolice</th>\n",
       "      <th>dateEcheancePolice</th>\n",
       "      <th>verouillageModifPolice</th>\n",
       "      <th>Etat_Police</th>\n",
       "      <th>vehicule_id</th>\n",
       "      <th>assure_id</th>\n",
       "      <th>classeBonusMalus</th>\n",
       "      <th>coefBonusMalus</th>\n",
       "      <th>DATE_AFFECTATION</th>\n",
       "      <th>CONTRAT_EN_COURS</th>\n",
       "      <th>bonus</th>\n",
       "      <th>date_Calcule</th>\n",
       "      <th>dernierClassBonusMallus</th>\n",
       "      <th>puissanceFiscal</th>\n",
       "      <th>energie</th>\n",
       "      <th>etatVehicule</th>\n",
       "      <th>libUsage</th>\n",
       "      <th>sinistre_id</th>\n",
       "      <th>dateOuvertureDuSinistre</th>\n",
       "      <th>lieuDuSinistre</th>\n",
       "      <th>identificationTiers</th>\n",
       "      <th>pourcentadeDeResponsabilite</th>\n",
       "      <th>porcentageCompagnieAdverse</th>\n",
       "      <th>natureDuSinistre</th>\n",
       "      <th>Calculer_Sinistre</th>\n",
       "      <th>Duree</th>\n",
       "      <th>minE</th>\n",
       "      <th>Fraud</th>\n",
       "      <th>naturePolice_mean</th>\n",
       "      <th>typePolice_mean</th>\n",
       "      <th>Etat_Police_mean</th>\n",
       "      <th>libUsage_mean</th>\n",
       "      <th>etatVehicule_mean</th>\n",
       "      <th>energie_mean</th>\n",
       "      <th>natureDuSinistre_mean</th>\n",
       "      <th>lieuDuSinistre_mean</th>\n",
       "      <th>identificationTiers_mean</th>\n",
       "    </tr>\n",
       "  </thead>\n",
       "  <tbody>\n",
       "    <tr>\n",
       "      <th>0</th>\n",
       "      <td>61519</td>\n",
       "      <td>1</td>\n",
       "      <td>0.0</td>\n",
       "      <td>0.0</td>\n",
       "      <td>0.0</td>\n",
       "      <td>T</td>\n",
       "      <td>I</td>\n",
       "      <td>2016-04-17</td>\n",
       "      <td>0.0</td>\n",
       "      <td>0</td>\n",
       "      <td>V</td>\n",
       "      <td>57288</td>\n",
       "      <td>54006</td>\n",
       "      <td>3</td>\n",
       "      <td>100</td>\n",
       "      <td>2016-04-17 00:00:00.000000</td>\n",
       "      <td>1</td>\n",
       "      <td>0</td>\n",
       "      <td>2016-04-17 00:00:00.000000</td>\n",
       "      <td>1</td>\n",
       "      <td>9.0</td>\n",
       "      <td>GASOIL</td>\n",
       "      <td>V</td>\n",
       "      <td>Agricole1 véhicule dont le PTC &lt; 3500 kg</td>\n",
       "      <td>0.0</td>\n",
       "      <td>-</td>\n",
       "      <td>-</td>\n",
       "      <td>-</td>\n",
       "      <td>-1.0</td>\n",
       "      <td>-1.0</td>\n",
       "      <td>-</td>\n",
       "      <td>-1.0</td>\n",
       "      <td>0</td>\n",
       "      <td>1</td>\n",
       "      <td>1</td>\n",
       "      <td>3.378710</td>\n",
       "      <td>3.524364</td>\n",
       "      <td>3.409326</td>\n",
       "      <td>3.017411</td>\n",
       "      <td>3.519147</td>\n",
       "      <td>3.397941</td>\n",
       "      <td>3.403581</td>\n",
       "      <td>3.403614</td>\n",
       "      <td>3.403581</td>\n",
       "    </tr>\n",
       "    <tr>\n",
       "      <th>1</th>\n",
       "      <td>61553</td>\n",
       "      <td>1</td>\n",
       "      <td>0.0</td>\n",
       "      <td>0.0</td>\n",
       "      <td>0.0</td>\n",
       "      <td>R</td>\n",
       "      <td>I</td>\n",
       "      <td>2016-04-21</td>\n",
       "      <td>421.0</td>\n",
       "      <td>0</td>\n",
       "      <td>V</td>\n",
       "      <td>57321</td>\n",
       "      <td>54038</td>\n",
       "      <td>3</td>\n",
       "      <td>100</td>\n",
       "      <td>2018-04-21 00:00:00.000000</td>\n",
       "      <td>1</td>\n",
       "      <td>0</td>\n",
       "      <td>2019-04-01 00:00:00.000000</td>\n",
       "      <td>1</td>\n",
       "      <td>5.0</td>\n",
       "      <td>ESSENCE</td>\n",
       "      <td>V</td>\n",
       "      <td>Auto-Ecole</td>\n",
       "      <td>0.0</td>\n",
       "      <td>-</td>\n",
       "      <td>-</td>\n",
       "      <td>-</td>\n",
       "      <td>-1.0</td>\n",
       "      <td>-1.0</td>\n",
       "      <td>-</td>\n",
       "      <td>-1.0</td>\n",
       "      <td>1075</td>\n",
       "      <td>1</td>\n",
       "      <td>1</td>\n",
       "      <td>3.521368</td>\n",
       "      <td>3.524364</td>\n",
       "      <td>3.409326</td>\n",
       "      <td>2.370460</td>\n",
       "      <td>3.519147</td>\n",
       "      <td>3.623369</td>\n",
       "      <td>3.403581</td>\n",
       "      <td>3.403614</td>\n",
       "      <td>3.403581</td>\n",
       "    </tr>\n",
       "    <tr>\n",
       "      <th>2</th>\n",
       "      <td>61587</td>\n",
       "      <td>3</td>\n",
       "      <td>0.0</td>\n",
       "      <td>0.0</td>\n",
       "      <td>0.0</td>\n",
       "      <td>R</td>\n",
       "      <td>I</td>\n",
       "      <td>2016-04-26</td>\n",
       "      <td>426.0</td>\n",
       "      <td>0</td>\n",
       "      <td>V</td>\n",
       "      <td>57355</td>\n",
       "      <td>54071</td>\n",
       "      <td>3</td>\n",
       "      <td>100</td>\n",
       "      <td>2016-04-26 00:00:00.000000</td>\n",
       "      <td>1</td>\n",
       "      <td>1</td>\n",
       "      <td>2019-04-01 00:00:00.000000</td>\n",
       "      <td>1</td>\n",
       "      <td>5.0</td>\n",
       "      <td>GASOIL</td>\n",
       "      <td>V</td>\n",
       "      <td>Taxi</td>\n",
       "      <td>0.0</td>\n",
       "      <td>-</td>\n",
       "      <td>-</td>\n",
       "      <td>-</td>\n",
       "      <td>-1.0</td>\n",
       "      <td>-1.0</td>\n",
       "      <td>-</td>\n",
       "      <td>-1.0</td>\n",
       "      <td>1070</td>\n",
       "      <td>1</td>\n",
       "      <td>1</td>\n",
       "      <td>3.521368</td>\n",
       "      <td>3.524364</td>\n",
       "      <td>3.409326</td>\n",
       "      <td>2.593621</td>\n",
       "      <td>3.519147</td>\n",
       "      <td>3.397941</td>\n",
       "      <td>3.403581</td>\n",
       "      <td>3.403614</td>\n",
       "      <td>3.403581</td>\n",
       "    </tr>\n",
       "    <tr>\n",
       "      <th>3</th>\n",
       "      <td>61787</td>\n",
       "      <td>1</td>\n",
       "      <td>0.0</td>\n",
       "      <td>0.0</td>\n",
       "      <td>0.0</td>\n",
       "      <td>R</td>\n",
       "      <td>I</td>\n",
       "      <td>2016-05-27</td>\n",
       "      <td>527.0</td>\n",
       "      <td>0</td>\n",
       "      <td>V</td>\n",
       "      <td>57553</td>\n",
       "      <td>54249</td>\n",
       "      <td>2</td>\n",
       "      <td>80</td>\n",
       "      <td>2018-05-27 00:00:00.000000</td>\n",
       "      <td>1</td>\n",
       "      <td>0</td>\n",
       "      <td>2019-05-01 00:00:00.000000</td>\n",
       "      <td>1</td>\n",
       "      <td>6.0</td>\n",
       "      <td>ESSENCE</td>\n",
       "      <td>V</td>\n",
       "      <td>Privé et professionnel</td>\n",
       "      <td>0.0</td>\n",
       "      <td>-</td>\n",
       "      <td>-</td>\n",
       "      <td>-</td>\n",
       "      <td>-1.0</td>\n",
       "      <td>-1.0</td>\n",
       "      <td>-</td>\n",
       "      <td>-1.0</td>\n",
       "      <td>1069</td>\n",
       "      <td>1</td>\n",
       "      <td>1</td>\n",
       "      <td>3.521368</td>\n",
       "      <td>3.524364</td>\n",
       "      <td>3.409326</td>\n",
       "      <td>3.660317</td>\n",
       "      <td>3.519147</td>\n",
       "      <td>3.623369</td>\n",
       "      <td>3.403581</td>\n",
       "      <td>3.403614</td>\n",
       "      <td>3.403581</td>\n",
       "    </tr>\n",
       "    <tr>\n",
       "      <th>4</th>\n",
       "      <td>61796</td>\n",
       "      <td>1</td>\n",
       "      <td>0.0</td>\n",
       "      <td>0.0</td>\n",
       "      <td>0.0</td>\n",
       "      <td>R</td>\n",
       "      <td>I</td>\n",
       "      <td>2016-05-27</td>\n",
       "      <td>527.0</td>\n",
       "      <td>0</td>\n",
       "      <td>V</td>\n",
       "      <td>57562</td>\n",
       "      <td>54258</td>\n",
       "      <td>7</td>\n",
       "      <td>200</td>\n",
       "      <td>2018-05-27 00:00:00.000000</td>\n",
       "      <td>1</td>\n",
       "      <td>0</td>\n",
       "      <td>2019-05-01 00:00:00.000000</td>\n",
       "      <td>1</td>\n",
       "      <td>5.0</td>\n",
       "      <td>GASOIL</td>\n",
       "      <td>V</td>\n",
       "      <td>Utilitaire 1 véhicule dont le PTC &lt; 3500 kg (y...</td>\n",
       "      <td>0.0</td>\n",
       "      <td>-</td>\n",
       "      <td>-</td>\n",
       "      <td>-</td>\n",
       "      <td>-1.0</td>\n",
       "      <td>-1.0</td>\n",
       "      <td>-</td>\n",
       "      <td>-1.0</td>\n",
       "      <td>1069</td>\n",
       "      <td>1</td>\n",
       "      <td>1</td>\n",
       "      <td>3.521368</td>\n",
       "      <td>3.524364</td>\n",
       "      <td>3.409326</td>\n",
       "      <td>3.431990</td>\n",
       "      <td>3.519147</td>\n",
       "      <td>3.397941</td>\n",
       "      <td>3.403581</td>\n",
       "      <td>3.403614</td>\n",
       "      <td>3.403581</td>\n",
       "    </tr>\n",
       "  </tbody>\n",
       "</table>\n",
       "</div>"
      ],
      "text/plain": [
       "   police_id  typeIntermediaire  NbrSinistre  NbrSinistreM  NbrSinistreC  \\\n",
       "0      61519                  1          0.0           0.0           0.0   \n",
       "1      61553                  1          0.0           0.0           0.0   \n",
       "2      61587                  3          0.0           0.0           0.0   \n",
       "3      61787                  1          0.0           0.0           0.0   \n",
       "4      61796                  1          0.0           0.0           0.0   \n",
       "\n",
       "  naturePolice typePolice dateEffetPolice  dateEcheancePolice  \\\n",
       "0            T          I      2016-04-17                 0.0   \n",
       "1            R          I      2016-04-21               421.0   \n",
       "2            R          I      2016-04-26               426.0   \n",
       "3            R          I      2016-05-27               527.0   \n",
       "4            R          I      2016-05-27               527.0   \n",
       "\n",
       "   verouillageModifPolice Etat_Police  vehicule_id  assure_id  \\\n",
       "0                       0           V        57288      54006   \n",
       "1                       0           V        57321      54038   \n",
       "2                       0           V        57355      54071   \n",
       "3                       0           V        57553      54249   \n",
       "4                       0           V        57562      54258   \n",
       "\n",
       "   classeBonusMalus  coefBonusMalus            DATE_AFFECTATION  \\\n",
       "0                 3             100  2016-04-17 00:00:00.000000   \n",
       "1                 3             100  2018-04-21 00:00:00.000000   \n",
       "2                 3             100  2016-04-26 00:00:00.000000   \n",
       "3                 2              80  2018-05-27 00:00:00.000000   \n",
       "4                 7             200  2018-05-27 00:00:00.000000   \n",
       "\n",
       "   CONTRAT_EN_COURS  bonus                date_Calcule  \\\n",
       "0                 1      0  2016-04-17 00:00:00.000000   \n",
       "1                 1      0  2019-04-01 00:00:00.000000   \n",
       "2                 1      1  2019-04-01 00:00:00.000000   \n",
       "3                 1      0  2019-05-01 00:00:00.000000   \n",
       "4                 1      0  2019-05-01 00:00:00.000000   \n",
       "\n",
       "   dernierClassBonusMallus  puissanceFiscal  energie etatVehicule  \\\n",
       "0                        1              9.0   GASOIL            V   \n",
       "1                        1              5.0  ESSENCE            V   \n",
       "2                        1              5.0   GASOIL            V   \n",
       "3                        1              6.0  ESSENCE            V   \n",
       "4                        1              5.0   GASOIL            V   \n",
       "\n",
       "                                            libUsage  sinistre_id  \\\n",
       "0           Agricole1 véhicule dont le PTC < 3500 kg          0.0   \n",
       "1                                         Auto-Ecole          0.0   \n",
       "2                                               Taxi          0.0   \n",
       "3                             Privé et professionnel          0.0   \n",
       "4  Utilitaire 1 véhicule dont le PTC < 3500 kg (y...          0.0   \n",
       "\n",
       "  dateOuvertureDuSinistre lieuDuSinistre identificationTiers  \\\n",
       "0                       -              -                   -   \n",
       "1                       -              -                   -   \n",
       "2                       -              -                   -   \n",
       "3                       -              -                   -   \n",
       "4                       -              -                   -   \n",
       "\n",
       "   pourcentadeDeResponsabilite  porcentageCompagnieAdverse natureDuSinistre  \\\n",
       "0                         -1.0                        -1.0                -   \n",
       "1                         -1.0                        -1.0                -   \n",
       "2                         -1.0                        -1.0                -   \n",
       "3                         -1.0                        -1.0                -   \n",
       "4                         -1.0                        -1.0                -   \n",
       "\n",
       "   Calculer_Sinistre  Duree  minE  Fraud  naturePolice_mean  typePolice_mean  \\\n",
       "0               -1.0      0     1      1           3.378710         3.524364   \n",
       "1               -1.0   1075     1      1           3.521368         3.524364   \n",
       "2               -1.0   1070     1      1           3.521368         3.524364   \n",
       "3               -1.0   1069     1      1           3.521368         3.524364   \n",
       "4               -1.0   1069     1      1           3.521368         3.524364   \n",
       "\n",
       "   Etat_Police_mean  libUsage_mean  etatVehicule_mean  energie_mean  \\\n",
       "0          3.409326       3.017411           3.519147      3.397941   \n",
       "1          3.409326       2.370460           3.519147      3.623369   \n",
       "2          3.409326       2.593621           3.519147      3.397941   \n",
       "3          3.409326       3.660317           3.519147      3.623369   \n",
       "4          3.409326       3.431990           3.519147      3.397941   \n",
       "\n",
       "   natureDuSinistre_mean  lieuDuSinistre_mean  identificationTiers_mean  \n",
       "0               3.403581             3.403614                  3.403581  \n",
       "1               3.403581             3.403614                  3.403581  \n",
       "2               3.403581             3.403614                  3.403581  \n",
       "3               3.403581             3.403614                  3.403581  \n",
       "4               3.403581             3.403614                  3.403581  "
      ]
     },
     "execution_count": 82,
     "metadata": {},
     "output_type": "execute_result"
    }
   ],
   "source": [
    "dfFinal['naturePolice_mean'] = target_encoder(dfFinal, column='naturePolice', target='classeBonusMalus', method='mean')\n",
    "dfFinal['typePolice_mean'] = target_encoder(dfFinal, column='typePolice', target='classeBonusMalus', method='mean')\n",
    "dfFinal['Etat_Police_mean'] = target_encoder(dfFinal, column='Etat_Police', target='classeBonusMalus', method='mean')\n",
    "dfFinal['libUsage_mean'] = target_encoder(dfFinal, column='libUsage', target='classeBonusMalus', method='mean')\n",
    "dfFinal['etatVehicule_mean'] = target_encoder(dfFinal, column='etatVehicule', target='classeBonusMalus', method='mean')\n",
    "dfFinal['energie_mean'] = target_encoder(dfFinal, column='energie', target='classeBonusMalus', method='mean')\n",
    "dfFinal['natureDuSinistre_mean'] = target_encoder(dfFinal, column='natureDuSinistre', target='classeBonusMalus', method='mean')\n",
    "dfFinal['lieuDuSinistre_mean'] = target_encoder(dfFinal, column='lieuDuSinistre', target='classeBonusMalus', method='mean')\n",
    "dfFinal['identificationTiers_mean'] = target_encoder(dfFinal, column='identificationTiers', target='classeBonusMalus', method='mean')\n",
    "DD = dfFinal\n",
    "DD.head()"
   ]
  },
  {
   "cell_type": "code",
   "execution_count": 83,
   "metadata": {},
   "outputs": [],
   "source": [
    "means0=DD.groupby('naturePolice')['classeBonusMalus'].mean().to_dict()\n",
    "means1=DD.groupby('typePolice')['classeBonusMalus'].mean().to_dict()\n",
    "means2=DD.groupby('Etat_Police')['classeBonusMalus'].mean().to_dict()\n",
    "means3=DD.groupby('libUsage')['classeBonusMalus'].mean().to_dict()\n",
    "means4=DD.groupby('etatVehicule')['classeBonusMalus'].mean().to_dict()\n",
    "means5=DD.groupby('energie')['classeBonusMalus'].mean().to_dict()\n",
    "means6=DD.groupby('natureDuSinistre')['classeBonusMalus'].mean().to_dict()\n",
    "means7=DD.groupby('lieuDuSinistre')['classeBonusMalus'].mean().to_dict()\n",
    "means8=DD.groupby('identificationTiers')['classeBonusMalus'].mean().to_dict()\n"
   ]
  },
  {
   "cell_type": "code",
   "execution_count": 84,
   "metadata": {},
   "outputs": [],
   "source": [
    "dfFinal.drop(columns=['energie','etatVehicule','naturePolice','typePolice','Etat_Police','libUsage','lieuDuSinistre','identificationTiers','natureDuSinistre'],inplace=True)"
   ]
  },
  {
   "cell_type": "code",
   "execution_count": 85,
   "metadata": {},
   "outputs": [
    {
     "data": {
      "text/plain": [
       "police_id                      0\n",
       "typeIntermediaire              0\n",
       "NbrSinistre                    0\n",
       "NbrSinistreM                   0\n",
       "NbrSinistreC                   0\n",
       "dateEffetPolice                0\n",
       "dateEcheancePolice             0\n",
       "verouillageModifPolice         0\n",
       "vehicule_id                    0\n",
       "assure_id                      0\n",
       "classeBonusMalus               0\n",
       "coefBonusMalus                 0\n",
       "DATE_AFFECTATION               0\n",
       "CONTRAT_EN_COURS               0\n",
       "bonus                          0\n",
       "date_Calcule                   0\n",
       "dernierClassBonusMallus        0\n",
       "puissanceFiscal                0\n",
       "sinistre_id                    0\n",
       "dateOuvertureDuSinistre        0\n",
       "pourcentadeDeResponsabilite    0\n",
       "porcentageCompagnieAdverse     0\n",
       "Calculer_Sinistre              0\n",
       "Duree                          0\n",
       "minE                           0\n",
       "Fraud                          0\n",
       "naturePolice_mean              0\n",
       "typePolice_mean                0\n",
       "Etat_Police_mean               0\n",
       "libUsage_mean                  0\n",
       "etatVehicule_mean              0\n",
       "energie_mean                   0\n",
       "natureDuSinistre_mean          0\n",
       "lieuDuSinistre_mean            0\n",
       "identificationTiers_mean       0\n",
       "dtype: int64"
      ]
     },
     "execution_count": 85,
     "metadata": {},
     "output_type": "execute_result"
    }
   ],
   "source": [
    "dfFinal.isna().sum()"
   ]
  },
  {
   "cell_type": "code",
   "execution_count": 86,
   "metadata": {},
   "outputs": [],
   "source": [
    "def splitting(liste,sep):\n",
    "    L1=[]\n",
    "    L2=[]\n",
    "    L3=[]\n",
    "    for i in range(len(liste)):\n",
    "        if liste[i]==\"-\":\n",
    "            L1.append(int(0))\n",
    "            L2.append(int(0))\n",
    "            L3.append(int(0))\n",
    "        else:\n",
    "            L1.append(int(liste[i].split(sep)[0]))\n",
    "            L2.append(int(liste[i].split(sep)[1]))\n",
    "            L3.append(int(liste[i].split(sep)[2]))\n",
    "    return (L1,L2,L3)\n",
    "\n",
    "#dateEffetPolice\n",
    "d=dfFinal['dateEffetPolice']\n",
    "d=d.tolist()\n",
    "L_annee,L_mois,L_jour=splitting(d,'-')\n",
    "dfFinal[\"annee_effet_police\"]=L_annee\n",
    "dfFinal[\"mois_effet_police\"]=L_mois\n",
    "dfFinal[\"jour_effet_police\"]=L_jour\n",
    "\n",
    "\n",
    "#DATE_AFFECTATION\n",
    "d=dfFinal['DATE_AFFECTATION']\n",
    "d=d.tolist()\n",
    "L1=[]\n",
    "L2=[]\n",
    "L3=[]\n",
    "\n",
    "for i in range(len(d)):\n",
    "    if d[i]==\"-\":\n",
    "        L1.append(int(0))\n",
    "        L2.append(int(0))\n",
    "        L3.append(int(0))\n",
    "    else:\n",
    "        l=d[i].split(' ')[0]\n",
    "        L1.append(int(l.split('-')[0]))\n",
    "        L2.append(int(l.split('-')[1]))\n",
    "        L3.append(int(l.split('-')[2]))\n",
    "    \n",
    "dfFinal[\"annee_DATE_AFFECTATION\"]=L1\n",
    "dfFinal[\"mois_DATE_AFFECTATION\"]=L2\n",
    "dfFinal[\"jour_DATE_AFFECTATION\"]=L3   \n",
    "\n",
    "#date_Calcule\n",
    "d=dfFinal['date_Calcule']\n",
    "d=d.tolist()\n",
    "L1=[]\n",
    "L2=[]\n",
    "L3=[]\n",
    "\n",
    "for i in range(len(d)):\n",
    "    if d[i]==\"-\":\n",
    "        L1.append(int(0))\n",
    "        L2.append(int(0))\n",
    "        L3.append(int(0))\n",
    "    else:\n",
    "        l=d[i].split(' ')[0]\n",
    "        L1.append(int(l.split('-')[0]))\n",
    "        L2.append(int(l.split('-')[1]))\n",
    "        L3.append(int(l.split('-')[2]))\n",
    "    \n",
    "dfFinal[\"annee_date_Calcule\"]=L1\n",
    "dfFinal[\"mois_date_Calcule\"]=L2\n",
    "dfFinal[\"jour_date_Calcule\"]=L3   \n",
    "\n",
    "#dateOuvertureDuSinistre\n",
    "d=dfFinal['dateOuvertureDuSinistre']\n",
    "d=d.tolist()\n",
    "L_annee,L_mois,L_jour=splitting(d,'-')\n",
    "dfFinal[\"annee_dateOuvertureDuSinistre\"]=L_annee\n",
    "dfFinal[\"mois_dateOuvertureDuSinistre\"]=L_mois\n",
    "dfFinal[\"jour_dateOuvertureDuSinistre\"]=L_jour\n",
    "\n",
    "#dateEcheancePolice\n",
    "dfFinal=dfFinal.astype({'dateEcheancePolice': 'int32'})\n",
    "d=dfFinal['dateEcheancePolice']\n",
    "d=d.tolist()\n",
    "L1=[]\n",
    "L2=[]\n",
    "\n",
    "for i in range(len(d)):\n",
    "    ch=str(d[i])\n",
    "    if len(ch)== 4:\n",
    "        L1.append(int(ch[0:2]))\n",
    "        L2.append(int(ch[2:4]))\n",
    "    elif len(ch)== 3:\n",
    "        L1.append(int(ch[0]))\n",
    "        L2.append(int(ch[1:]))\n",
    "    elif len(ch)==1:\n",
    "        L1.append(int(ch[0]))\n",
    "        L2.append(int(ch[0]))\n",
    "dfFinal[\"mois_dateEcheancePolice\"]=L1\n",
    "dfFinal[\"jour_dateEcheancePolice\"]=L2\n"
   ]
  },
  {
   "cell_type": "code",
   "execution_count": 87,
   "metadata": {},
   "outputs": [],
   "source": [
    "dfFinal.drop(columns=['DATE_AFFECTATION','dateEffetPolice','date_Calcule','dateOuvertureDuSinistre','dateEcheancePolice'],inplace=True)"
   ]
  },
  {
   "cell_type": "code",
   "execution_count": 88,
   "metadata": {},
   "outputs": [],
   "source": [
    "X=dfFinal[dfFinal.Fraud==0].drop(columns=[\"classeBonusMalus\",\"dernierClassBonusMallus\",\"coefBonusMalus\",\"Fraud\",\"minE\",\"natureDuSinistre_mean\",\"annee_DATE_AFFECTATION\",\"jour_dateOuvertureDuSinistre\",\"mois_dateOuvertureDuSinistre\",\"annee_dateOuvertureDuSinistre\",\"jour_date_Calcule\",\"mois_date_Calcule\",\"annee_date_Calcule\",\"mois_DATE_AFFECTATION\",\"jour_DATE_AFFECTATION\",\"Duree\",\"police_id\",\"vehicule_id\",\"assure_id\",\"NbrSinistreM\",\"NbrSinistreC\",\"typeIntermediaire\",\"verouillageModifPolice\",\"CONTRAT_EN_COURS\",\"bonus\",\"sinistre_id\",\"porcentageCompagnieAdverse\",\"Calculer_Sinistre\",\"mois_dateEcheancePolice\",\"jour_dateEcheancePolice\",\"typeIntermediaire\",\"verouillageModifPolice\",\"CONTRAT_EN_COURS\",\"bonus\",\"sinistre_id\",\"porcentageCompagnieAdverse\",\"Calculer_Sinistre\",\"mois_dateEcheancePolice\",\"jour_dateEcheancePolice\",\"pourcentadeDeResponsabilite\"])"
   ]
  },
  {
   "cell_type": "code",
   "execution_count": 89,
   "metadata": {},
   "outputs": [],
   "source": [
    "Y=dfFinal[dfFinal.Fraud==0][\"classeBonusMalus\"]"
   ]
  },
  {
   "cell_type": "markdown",
   "metadata": {},
   "source": [
    "## Modele detection des fraudes"
   ]
  },
  {
   "cell_type": "code",
   "execution_count": 90,
   "metadata": {},
   "outputs": [
    {
     "data": {
      "image/png": "[encoded data removed]",
      "text/plain": [
       "<Figure size 432x288 with 1 Axes>"
      ]
     },
     "metadata": {
      "needs_background": "light"
     },
     "output_type": "display_data"
    }
   ],
   "source": [
    "import matplotlib.pyplot as plt \n",
    "import seaborn as sns\n",
    "sns.countplot(dfFinal['Fraud'],label=\"Count\")\n",
    "plt.show()"
   ]
  },
  {
   "cell_type": "code",
   "execution_count": 91,
   "metadata": {},
   "outputs": [],
   "source": [
    "def downsample(df, label_col_name):\n",
    "    # find the number of observations in the smallest group\n",
    "    nmin = df[label_col_name].value_counts().min()\n",
    "    return (df\n",
    "            # split the dataframe per group\n",
    "            .groupby(label_col_name)\n",
    "            # sample nmin observations from each group\n",
    "            .apply(lambda x: x.sample(nmin))\n",
    "            # recombine the dataframes \n",
    "            .reset_index(drop=True)\n",
    "            )"
   ]
  },
  {
   "cell_type": "code",
   "execution_count": 92,
   "metadata": {},
   "outputs": [
    {
     "data": {
      "image/png": "[encoded data removed]",
      "text/plain": [
       "<Figure size 432x288 with 1 Axes>"
      ]
     },
     "metadata": {
      "needs_background": "light"
     },
     "output_type": "display_data"
    }
   ],
   "source": [
    "dfUnderS=downsample(dfFinal,\"Fraud\")\n",
    "sns.countplot(dfUnderS[\"Fraud\"],label=\"Count\")\n",
    "plt.show()"
   ]
  },
  {
   "cell_type": "code",
   "execution_count": 93,
   "metadata": {},
   "outputs": [
    {
     "data": {
      "text/html": [
       "<div>\n",
       "<style scoped>\n",
       "    .dataframe tbody tr th:only-of-type {\n",
       "        vertical-align: middle;\n",
       "    }\n",
       "\n",
       "    .dataframe tbody tr th {\n",
       "        vertical-align: top;\n",
       "    }\n",
       "\n",
       "    .dataframe thead th {\n",
       "        text-align: right;\n",
       "    }\n",
       "</style>\n",
       "<table border=\"1\" class=\"dataframe\">\n",
       "  <thead>\n",
       "    <tr style=\"text-align: right;\">\n",
       "      <th></th>\n",
       "      <th>police_id</th>\n",
       "      <th>typeIntermediaire</th>\n",
       "      <th>NbrSinistre</th>\n",
       "      <th>NbrSinistreM</th>\n",
       "      <th>NbrSinistreC</th>\n",
       "      <th>verouillageModifPolice</th>\n",
       "      <th>vehicule_id</th>\n",
       "      <th>assure_id</th>\n",
       "      <th>classeBonusMalus</th>\n",
       "      <th>coefBonusMalus</th>\n",
       "      <th>CONTRAT_EN_COURS</th>\n",
       "      <th>bonus</th>\n",
       "      <th>dernierClassBonusMallus</th>\n",
       "      <th>puissanceFiscal</th>\n",
       "      <th>sinistre_id</th>\n",
       "      <th>pourcentadeDeResponsabilite</th>\n",
       "      <th>porcentageCompagnieAdverse</th>\n",
       "      <th>Calculer_Sinistre</th>\n",
       "      <th>Duree</th>\n",
       "      <th>minE</th>\n",
       "      <th>Fraud</th>\n",
       "      <th>naturePolice_mean</th>\n",
       "      <th>typePolice_mean</th>\n",
       "      <th>Etat_Police_mean</th>\n",
       "      <th>libUsage_mean</th>\n",
       "      <th>etatVehicule_mean</th>\n",
       "      <th>energie_mean</th>\n",
       "      <th>natureDuSinistre_mean</th>\n",
       "      <th>lieuDuSinistre_mean</th>\n",
       "      <th>identificationTiers_mean</th>\n",
       "      <th>annee_effet_police</th>\n",
       "      <th>mois_effet_police</th>\n",
       "      <th>jour_effet_police</th>\n",
       "      <th>annee_DATE_AFFECTATION</th>\n",
       "      <th>mois_DATE_AFFECTATION</th>\n",
       "      <th>jour_DATE_AFFECTATION</th>\n",
       "      <th>annee_date_Calcule</th>\n",
       "      <th>mois_date_Calcule</th>\n",
       "      <th>jour_date_Calcule</th>\n",
       "      <th>annee_dateOuvertureDuSinistre</th>\n",
       "      <th>mois_dateOuvertureDuSinistre</th>\n",
       "      <th>jour_dateOuvertureDuSinistre</th>\n",
       "      <th>mois_dateEcheancePolice</th>\n",
       "      <th>jour_dateEcheancePolice</th>\n",
       "    </tr>\n",
       "  </thead>\n",
       "  <tbody>\n",
       "    <tr>\n",
       "      <th>0</th>\n",
       "      <td>328745</td>\n",
       "      <td>1</td>\n",
       "      <td>1.0</td>\n",
       "      <td>1.0</td>\n",
       "      <td>0.0</td>\n",
       "      <td>0</td>\n",
       "      <td>282379</td>\n",
       "      <td>276115</td>\n",
       "      <td>9</td>\n",
       "      <td>250</td>\n",
       "      <td>1</td>\n",
       "      <td>0</td>\n",
       "      <td>1</td>\n",
       "      <td>5.0</td>\n",
       "      <td>59606.0</td>\n",
       "      <td>100.0</td>\n",
       "      <td>0.0</td>\n",
       "      <td>0.0</td>\n",
       "      <td>1076</td>\n",
       "      <td>1</td>\n",
       "      <td>0</td>\n",
       "      <td>3.521368</td>\n",
       "      <td>3.524364</td>\n",
       "      <td>3.409326</td>\n",
       "      <td>3.660317</td>\n",
       "      <td>3.519147</td>\n",
       "      <td>3.623369</td>\n",
       "      <td>3.770000</td>\n",
       "      <td>3.905523</td>\n",
       "      <td>3.630501</td>\n",
       "      <td>2016</td>\n",
       "      <td>10</td>\n",
       "      <td>20</td>\n",
       "      <td>2018</td>\n",
       "      <td>9</td>\n",
       "      <td>8</td>\n",
       "      <td>2019</td>\n",
       "      <td>10</td>\n",
       "      <td>1</td>\n",
       "      <td>2017</td>\n",
       "      <td>12</td>\n",
       "      <td>29</td>\n",
       "      <td>10</td>\n",
       "      <td>20</td>\n",
       "    </tr>\n",
       "    <tr>\n",
       "      <th>1</th>\n",
       "      <td>1737853</td>\n",
       "      <td>1</td>\n",
       "      <td>0.0</td>\n",
       "      <td>0.0</td>\n",
       "      <td>0.0</td>\n",
       "      <td>0</td>\n",
       "      <td>83823</td>\n",
       "      <td>77351</td>\n",
       "      <td>8</td>\n",
       "      <td>200</td>\n",
       "      <td>1</td>\n",
       "      <td>0</td>\n",
       "      <td>1</td>\n",
       "      <td>10.0</td>\n",
       "      <td>0.0</td>\n",
       "      <td>-1.0</td>\n",
       "      <td>-1.0</td>\n",
       "      <td>-1.0</td>\n",
       "      <td>0</td>\n",
       "      <td>1</td>\n",
       "      <td>0</td>\n",
       "      <td>3.521368</td>\n",
       "      <td>3.524364</td>\n",
       "      <td>4.108580</td>\n",
       "      <td>3.660317</td>\n",
       "      <td>3.519147</td>\n",
       "      <td>3.623369</td>\n",
       "      <td>3.403581</td>\n",
       "      <td>3.403614</td>\n",
       "      <td>3.403581</td>\n",
       "      <td>2017</td>\n",
       "      <td>4</td>\n",
       "      <td>22</td>\n",
       "      <td>2018</td>\n",
       "      <td>4</td>\n",
       "      <td>22</td>\n",
       "      <td>2017</td>\n",
       "      <td>4</td>\n",
       "      <td>22</td>\n",
       "      <td>0</td>\n",
       "      <td>0</td>\n",
       "      <td>0</td>\n",
       "      <td>4</td>\n",
       "      <td>22</td>\n",
       "    </tr>\n",
       "    <tr>\n",
       "      <th>2</th>\n",
       "      <td>2098390</td>\n",
       "      <td>2</td>\n",
       "      <td>0.0</td>\n",
       "      <td>0.0</td>\n",
       "      <td>0.0</td>\n",
       "      <td>0</td>\n",
       "      <td>684699</td>\n",
       "      <td>986621</td>\n",
       "      <td>8</td>\n",
       "      <td>200</td>\n",
       "      <td>1</td>\n",
       "      <td>0</td>\n",
       "      <td>1</td>\n",
       "      <td>5.0</td>\n",
       "      <td>0.0</td>\n",
       "      <td>-1.0</td>\n",
       "      <td>-1.0</td>\n",
       "      <td>-1.0</td>\n",
       "      <td>0</td>\n",
       "      <td>1</td>\n",
       "      <td>0</td>\n",
       "      <td>3.521368</td>\n",
       "      <td>3.524364</td>\n",
       "      <td>4.108580</td>\n",
       "      <td>3.660317</td>\n",
       "      <td>3.519147</td>\n",
       "      <td>3.623369</td>\n",
       "      <td>3.403581</td>\n",
       "      <td>3.403614</td>\n",
       "      <td>3.403581</td>\n",
       "      <td>2017</td>\n",
       "      <td>4</td>\n",
       "      <td>14</td>\n",
       "      <td>2017</td>\n",
       "      <td>4</td>\n",
       "      <td>14</td>\n",
       "      <td>2017</td>\n",
       "      <td>4</td>\n",
       "      <td>14</td>\n",
       "      <td>0</td>\n",
       "      <td>0</td>\n",
       "      <td>0</td>\n",
       "      <td>4</td>\n",
       "      <td>14</td>\n",
       "    </tr>\n",
       "    <tr>\n",
       "      <th>3</th>\n",
       "      <td>1444459</td>\n",
       "      <td>2</td>\n",
       "      <td>0.0</td>\n",
       "      <td>0.0</td>\n",
       "      <td>0.0</td>\n",
       "      <td>0</td>\n",
       "      <td>1109574</td>\n",
       "      <td>1076644</td>\n",
       "      <td>4</td>\n",
       "      <td>120</td>\n",
       "      <td>0</td>\n",
       "      <td>1</td>\n",
       "      <td>1</td>\n",
       "      <td>18.0</td>\n",
       "      <td>0.0</td>\n",
       "      <td>-1.0</td>\n",
       "      <td>-1.0</td>\n",
       "      <td>-1.0</td>\n",
       "      <td>2846</td>\n",
       "      <td>1</td>\n",
       "      <td>0</td>\n",
       "      <td>3.521368</td>\n",
       "      <td>3.524364</td>\n",
       "      <td>3.409326</td>\n",
       "      <td>3.127854</td>\n",
       "      <td>3.519147</td>\n",
       "      <td>3.397941</td>\n",
       "      <td>3.403581</td>\n",
       "      <td>3.403614</td>\n",
       "      <td>3.403581</td>\n",
       "      <td>2013</td>\n",
       "      <td>2</td>\n",
       "      <td>15</td>\n",
       "      <td>2020</td>\n",
       "      <td>1</td>\n",
       "      <td>1</td>\n",
       "      <td>2020</td>\n",
       "      <td>12</td>\n",
       "      <td>1</td>\n",
       "      <td>0</td>\n",
       "      <td>0</td>\n",
       "      <td>0</td>\n",
       "      <td>12</td>\n",
       "      <td>31</td>\n",
       "    </tr>\n",
       "    <tr>\n",
       "      <th>4</th>\n",
       "      <td>65600</td>\n",
       "      <td>1</td>\n",
       "      <td>0.0</td>\n",
       "      <td>0.0</td>\n",
       "      <td>0.0</td>\n",
       "      <td>0</td>\n",
       "      <td>58563</td>\n",
       "      <td>54417</td>\n",
       "      <td>3</td>\n",
       "      <td>100</td>\n",
       "      <td>1</td>\n",
       "      <td>0</td>\n",
       "      <td>1</td>\n",
       "      <td>44.0</td>\n",
       "      <td>0.0</td>\n",
       "      <td>-1.0</td>\n",
       "      <td>-1.0</td>\n",
       "      <td>-1.0</td>\n",
       "      <td>0</td>\n",
       "      <td>0</td>\n",
       "      <td>0</td>\n",
       "      <td>3.378710</td>\n",
       "      <td>3.524364</td>\n",
       "      <td>3.409326</td>\n",
       "      <td>3.581395</td>\n",
       "      <td>3.519147</td>\n",
       "      <td>3.397941</td>\n",
       "      <td>3.403581</td>\n",
       "      <td>3.403614</td>\n",
       "      <td>3.403581</td>\n",
       "      <td>2017</td>\n",
       "      <td>11</td>\n",
       "      <td>17</td>\n",
       "      <td>2017</td>\n",
       "      <td>11</td>\n",
       "      <td>17</td>\n",
       "      <td>2017</td>\n",
       "      <td>11</td>\n",
       "      <td>17</td>\n",
       "      <td>0</td>\n",
       "      <td>0</td>\n",
       "      <td>0</td>\n",
       "      <td>0</td>\n",
       "      <td>0</td>\n",
       "    </tr>\n",
       "  </tbody>\n",
       "</table>\n",
       "</div>"
      ],
      "text/plain": [
       "   police_id  typeIntermediaire  NbrSinistre  NbrSinistreM  NbrSinistreC  \\\n",
       "0     328745                  1          1.0           1.0           0.0   \n",
       "1    1737853                  1          0.0           0.0           0.0   \n",
       "2    2098390                  2          0.0           0.0           0.0   \n",
       "3    1444459                  2          0.0           0.0           0.0   \n",
       "4      65600                  1          0.0           0.0           0.0   \n",
       "\n",
       "   verouillageModifPolice  vehicule_id  assure_id  classeBonusMalus  \\\n",
       "0                       0       282379     276115                 9   \n",
       "1                       0        83823      77351                 8   \n",
       "2                       0       684699     986621                 8   \n",
       "3                       0      1109574    1076644                 4   \n",
       "4                       0        58563      54417                 3   \n",
       "\n",
       "   coefBonusMalus  CONTRAT_EN_COURS  bonus  dernierClassBonusMallus  \\\n",
       "0             250                 1      0                        1   \n",
       "1             200                 1      0                        1   \n",
       "2             200                 1      0                        1   \n",
       "3             120                 0      1                        1   \n",
       "4             100                 1      0                        1   \n",
       "\n",
       "   puissanceFiscal  sinistre_id  pourcentadeDeResponsabilite  \\\n",
       "0              5.0      59606.0                        100.0   \n",
       "1             10.0          0.0                         -1.0   \n",
       "2              5.0          0.0                         -1.0   \n",
       "3             18.0          0.0                         -1.0   \n",
       "4             44.0          0.0                         -1.0   \n",
       "\n",
       "   porcentageCompagnieAdverse  Calculer_Sinistre  Duree  minE  Fraud  \\\n",
       "0                         0.0                0.0   1076     1      0   \n",
       "1                        -1.0               -1.0      0     1      0   \n",
       "2                        -1.0               -1.0      0     1      0   \n",
       "3                        -1.0               -1.0   2846     1      0   \n",
       "4                        -1.0               -1.0      0     0      0   \n",
       "\n",
       "   naturePolice_mean  typePolice_mean  Etat_Police_mean  libUsage_mean  \\\n",
       "0           3.521368         3.524364          3.409326       3.660317   \n",
       "1           3.521368         3.524364          4.108580       3.660317   \n",
       "2           3.521368         3.524364          4.108580       3.660317   \n",
       "3           3.521368         3.524364          3.409326       3.127854   \n",
       "4           3.378710         3.524364          3.409326       3.581395   \n",
       "\n",
       "   etatVehicule_mean  energie_mean  natureDuSinistre_mean  \\\n",
       "0           3.519147      3.623369               3.770000   \n",
       "1           3.519147      3.623369               3.403581   \n",
       "2           3.519147      3.623369               3.403581   \n",
       "3           3.519147      3.397941               3.403581   \n",
       "4           3.519147      3.397941               3.403581   \n",
       "\n",
       "   lieuDuSinistre_mean  identificationTiers_mean  annee_effet_police  \\\n",
       "0             3.905523                  3.630501                2016   \n",
       "1             3.403614                  3.403581                2017   \n",
       "2             3.403614                  3.403581                2017   \n",
       "3             3.403614                  3.403581                2013   \n",
       "4             3.403614                  3.403581                2017   \n",
       "\n",
       "   mois_effet_police  jour_effet_police  annee_DATE_AFFECTATION  \\\n",
       "0                 10                 20                    2018   \n",
       "1                  4                 22                    2018   \n",
       "2                  4                 14                    2017   \n",
       "3                  2                 15                    2020   \n",
       "4                 11                 17                    2017   \n",
       "\n",
       "   mois_DATE_AFFECTATION  jour_DATE_AFFECTATION  annee_date_Calcule  \\\n",
       "0                      9                      8                2019   \n",
       "1                      4                     22                2017   \n",
       "2                      4                     14                2017   \n",
       "3                      1                      1                2020   \n",
       "4                     11                     17                2017   \n",
       "\n",
       "   mois_date_Calcule  jour_date_Calcule  annee_dateOuvertureDuSinistre  \\\n",
       "0                 10                  1                           2017   \n",
       "1                  4                 22                              0   \n",
       "2                  4                 14                              0   \n",
       "3                 12                  1                              0   \n",
       "4                 11                 17                              0   \n",
       "\n",
       "   mois_dateOuvertureDuSinistre  jour_dateOuvertureDuSinistre  \\\n",
       "0                            12                            29   \n",
       "1                             0                             0   \n",
       "2                             0                             0   \n",
       "3                             0                             0   \n",
       "4                             0                             0   \n",
       "\n",
       "   mois_dateEcheancePolice  jour_dateEcheancePolice  \n",
       "0                       10                       20  \n",
       "1                        4                       22  \n",
       "2                        4                       14  \n",
       "3                       12                       31  \n",
       "4                        0                        0  "
      ]
     },
     "execution_count": 93,
     "metadata": {},
     "output_type": "execute_result"
    }
   ],
   "source": [
    "dfUnderS[dfUnderS.Fraud==0].head()"
   ]
  },
  {
   "cell_type": "code",
   "execution_count": 94,
   "metadata": {},
   "outputs": [],
   "source": [
    "from sklearn.model_selection import train_test_split\n",
    "from sklearn.ensemble import RandomForestClassifier\n",
    "from sklearn.metrics import accuracy_score"
   ]
  },
  {
   "cell_type": "code",
   "execution_count": 95,
   "metadata": {},
   "outputs": [],
   "source": [
    "XF=dfUnderS.drop(columns=[\"Fraud\",\"CONTRAT_EN_COURS\",\"bonus\",\"verouillageModifPolice\",\"typeIntermediaire\",\"NbrSinistreM\",\"NbrSinistreC\",\"minE\",\"Duree\",\"Calculer_Sinistre\",\"pourcentadeDeResponsabilite\",\"porcentageCompagnieAdverse\",\"sinistre_id\",\"coefBonusMalus\",\"police_id\",\"vehicule_id\",\"assure_id\",\"dernierClassBonusMallus\"])\n",
    "YF=dfUnderS['Fraud']"
   ]
  },
  {
   "cell_type": "code",
   "execution_count": 96,
   "metadata": {},
   "outputs": [
    {
     "data": {
      "text/plain": [
       "((7060, 26), (1766, 26))"
      ]
     },
     "execution_count": 96,
     "metadata": {},
     "output_type": "execute_result"
    }
   ],
   "source": [
    "X_train, X_test, y_train, y_test = train_test_split(XF.values,YF.values, test_size = 0.2, random_state = 0)\n",
    "X_train.shape, X_test.shape"
   ]
  },
  {
   "cell_type": "code",
   "execution_count": 97,
   "metadata": {},
   "outputs": [
    {
     "name": "stdout",
     "output_type": "stream",
     "text": [
      "Accuracy test:  0.9371460928652322\n",
      "Accuracy train:  1.0\n"
     ]
    }
   ],
   "source": [
    "clf = RandomForestClassifier(n_estimators=100)\n",
    "clf.fit(X_train, y_train)\n",
    "y_pred = clf.predict(X_test)\n",
    "print('Accuracy test: ', accuracy_score(y_test, y_pred))\n",
    "print('Accuracy train: ',clf.score(X_train,y_train))"
   ]
  },
  {
   "cell_type": "code",
   "execution_count": 98,
   "metadata": {},
   "outputs": [
    {
     "data": {
      "image/png": "[encoded data removed]",
      "text/plain": [
       "<Figure size 432x288 with 2 Axes>"
      ]
     },
     "metadata": {
      "needs_background": "light"
     },
     "output_type": "display_data"
    }
   ],
   "source": [
    "from sklearn.metrics import plot_confusion_matrix\n",
    "plot_confusion_matrix(clf,X_test, y_test);"
   ]
  },
  {
   "cell_type": "markdown",
   "metadata": {},
   "source": [
    "- This model gives higher true positive and true negative values than false positive and false negative values, which shows the performance of this model."
   ]
  },
  {
   "cell_type": "code",
   "execution_count": 99,
   "metadata": {},
   "outputs": [
    {
     "name": "stdout",
     "output_type": "stream",
     "text": [
      "              precision    recall  f1-score   support\n",
      "\n",
      "           0       0.94      0.94      0.94       888\n",
      "           1       0.94      0.93      0.94       878\n",
      "\n",
      "    accuracy                           0.94      1766\n",
      "   macro avg       0.94      0.94      0.94      1766\n",
      "weighted avg       0.94      0.94      0.94      1766\n",
      "\n"
     ]
    }
   ],
   "source": [
    "from sklearn.metrics import classification_report\n",
    "print(classification_report(y_test, y_pred))"
   ]
  },
  {
   "cell_type": "code",
   "execution_count": 100,
   "metadata": {},
   "outputs": [
    {
     "name": "stdout",
     "output_type": "stream",
     "text": [
      "Accuracy:  0.9699886749716874\n",
      "Accuracy train:  0.9957507082152974\n"
     ]
    }
   ],
   "source": [
    "from xgboost import XGBClassifier\n",
    "\n",
    "xgb_clfdf = XGBClassifier()\n",
    "xgb_clfdf.fit(X_train, y_train)\n",
    "y_pred_XGB = xgb_clfdf.predict(X_test)\n",
    "print('Accuracy: ', accuracy_score(y_test, y_pred_XGB))\n",
    "print('Accuracy train: ',xgb_clfdf.score(X_train,y_train))"
   ]
  },
  {
   "cell_type": "code",
   "execution_count": 101,
   "metadata": {},
   "outputs": [
    {
     "data": {
      "image/png": "[encoded data removed]",
      "text/plain": [
       "<Figure size 432x288 with 2 Axes>"
      ]
     },
     "metadata": {
      "needs_background": "light"
     },
     "output_type": "display_data"
    }
   ],
   "source": [
    "from sklearn.metrics import confusion_matrix\n",
    "plot_confusion_matrix(xgb_clfdf,X_test, y_test);"
   ]
  },
  {
   "cell_type": "markdown",
   "metadata": {},
   "source": [
    "- This model gives higher true positive and true negative values than false positive and false negative values, which shows the performance of this model."
   ]
  },
  {
   "cell_type": "markdown",
   "metadata": {},
   "source": [
    "######  XGboost gives higher accuracy than Random Forest, so we chose it for fraud detection"
   ]
  },
  {
   "cell_type": "markdown",
   "metadata": {},
   "source": [
    "# Modelisation Classe BonusMalus"
   ]
  },
  {
   "cell_type": "code",
   "execution_count": 102,
   "metadata": {},
   "outputs": [],
   "source": [
    "from sklearn.model_selection import train_test_split\n",
    "from sklearn.ensemble import RandomForestClassifier\n",
    "from xgboost import XGBClassifier\n",
    "from sklearn.feature_selection import SelectFromModel\n",
    "from sklearn.metrics import accuracy_score"
   ]
  },
  {
   "cell_type": "code",
   "execution_count": 103,
   "metadata": {},
   "outputs": [
    {
     "data": {
      "text/plain": [
       "((3530, 13), (883, 13))"
      ]
     },
     "execution_count": 103,
     "metadata": {},
     "output_type": "execute_result"
    }
   ],
   "source": [
    "X_train, X_test, y_train, y_test = train_test_split(X.values,Y.values, test_size = 0.2, random_state = 0)\n",
    "X_train.shape, X_test.shape\n"
   ]
  },
  {
   "cell_type": "code",
   "execution_count": 104,
   "metadata": {},
   "outputs": [
    {
     "name": "stdout",
     "output_type": "stream",
     "text": [
      "Accuracy:  0.8708946772366931\n",
      "Accuracy train:  0.9963172804532577\n"
     ]
    }
   ],
   "source": [
    "clf = RandomForestClassifier()\n",
    "clf.fit(X_train, y_train)\n",
    "y_pred = clf.predict(X_test)\n",
    "print('Accuracy: ', accuracy_score(y_test, y_pred))\n",
    "print('Accuracy train: ',clf.score(X_train,y_train))"
   ]
  },
  {
   "cell_type": "code",
   "execution_count": 105,
   "metadata": {},
   "outputs": [
    {
     "data": {
      "image/png": "[encoded data removed]",
      "text/plain": [
       "<Figure size 432x288 with 2 Axes>"
      ]
     },
     "metadata": {
      "needs_background": "light"
     },
     "output_type": "display_data"
    }
   ],
   "source": [
    "plot_confusion_matrix(clf,X_test,y_test);"
   ]
  },
  {
   "cell_type": "markdown",
   "metadata": {},
   "source": [
    "* This model gives higher true positive and true negative values than false positive and false negative values, which shows the performance of this model."
   ]
  },
  {
   "cell_type": "code",
   "execution_count": 106,
   "metadata": {},
   "outputs": [],
   "source": [
    "from sklearn.model_selection import cross_val_score\n",
    "from sklearn.model_selection import cross_val_predict\n",
    "clf = RandomForestClassifier()\n",
    "score=cross_val_score(clf,X.values, Y.values,scoring='accuracy',cv=5)\n",
    "y_pred = cross_val_predict(clf, X.values, Y.values, cv=5)\n",
    "conf_mat = confusion_matrix(Y.values, y_pred)"
   ]
  },
  {
   "cell_type": "code",
   "execution_count": 107,
   "metadata": {},
   "outputs": [
    {
     "name": "stdout",
     "output_type": "stream",
     "text": [
      "Mean Accuracy:  0.8493180586692963\n"
     ]
    }
   ],
   "source": [
    "print(\"Mean Accuracy: \",score.mean())"
   ]
  },
  {
   "cell_type": "markdown",
   "metadata": {},
   "source": [
    "###### The train/test  set technic gives higher accuracy than the cross validation that’s why we kept the train/test set with the random forest in this classification "
   ]
  },
  {
   "cell_type": "code",
   "execution_count": 108,
   "metadata": {},
   "outputs": [],
   "source": [
    "xgb_clf = XGBClassifier()\n",
    "xgb_clf.fit(X_train, y_train)\n",
    "y_pred_XGB = xgb_clf.predict(X_test)\n",
    "y_pred_XGB;"
   ]
  },
  {
   "cell_type": "code",
   "execution_count": 109,
   "metadata": {},
   "outputs": [
    {
     "name": "stdout",
     "output_type": "stream",
     "text": [
      "Accuracy score (training): 0.991\n",
      "Accuracy score (validation): 0.882\n"
     ]
    }
   ],
   "source": [
    "print(\"Accuracy score (training): {0:.3f}\".format(xgb_clf.score(X_train, y_train)))\n",
    "print(\"Accuracy score (validation): {0:.3f}\".format(xgb_clf.score(X_test, y_test)))"
   ]
  },
  {
   "cell_type": "code",
   "execution_count": 110,
   "metadata": {},
   "outputs": [
    {
     "name": "stdout",
     "output_type": "stream",
     "text": [
      "[[128   6   1   1   0   0   0   1   0   0   0]\n",
      " [  3  60   1   0   0   0   3   1   0   0   0]\n",
      " [  3   2  41   1   1   1   0   3   0   0   0]\n",
      " [  1   0   1  44   3   0   0   1   0   0   0]\n",
      " [  0   1   1   7  57   3   2   1   0   0   0]\n",
      " [  0   0   0   2   1  80   5   4   0   0   0]\n",
      " [  0   0   2   0   0   4  25  20   0   0   0]\n",
      " [  0   0   1   1   3   2   6 238   0   0   0]\n",
      " [  0   0   0   0   0   0   1   1 102   0   0]\n",
      " [  0   0   0   0   0   0   1   0   0   3   0]\n",
      " [  0   0   0   0   0   0   0   0   1   0   1]]\n"
     ]
    }
   ],
   "source": [
    "from sklearn.metrics import confusion_matrix\n",
    "print(confusion_matrix(y_test, y_pred_XGB))"
   ]
  },
  {
   "cell_type": "code",
   "execution_count": 111,
   "metadata": {},
   "outputs": [
    {
     "data": {
      "text/plain": [
       "0.8608739532052911"
      ]
     },
     "execution_count": 111,
     "metadata": {},
     "output_type": "execute_result"
    }
   ],
   "source": [
    "classifier = XGBClassifier()\n",
    "score=cross_val_score(classifier,X.values, Y.values,scoring='accuracy',cv=5)\n",
    "score\n",
    "\n",
    "\n",
    "y_pred = cross_val_predict(classifier, X.values, Y.values, cv=5)\n",
    "conf_mat = confusion_matrix(Y.values, y_pred)\n",
    "score.mean()"
   ]
  },
  {
   "cell_type": "code",
   "execution_count": 112,
   "metadata": {},
   "outputs": [
    {
     "data": {
      "text/plain": [
       "array([[ 642,   19,    3,    0,    0,    1,    2,   12,    0,    0,    0],\n",
       "       [  24,  268,   15,    0,    2,    1,    8,    2,    1,    0,    0],\n",
       "       [  11,   10,  182,   14,    3,    0,   17,   12,    1,    0,    0],\n",
       "       [   0,    2,   11,  202,   11,    2,    4,   23,    2,    2,    0],\n",
       "       [   0,    1,    6,   21,  306,   16,    7,   16,    1,    1,    0],\n",
       "       [   0,    1,    0,    7,   28,  382,   23,   24,    2,    0,    0],\n",
       "       [   0,    5,    7,    2,    3,   36,  143,   93,    0,    0,    0],\n",
       "       [   5,    3,    1,    8,    6,   20,   43, 1143,    2,    0,    0],\n",
       "       [   0,    0,    0,    0,    0,    0,    1,    2,  501,    0,    0],\n",
       "       [   0,    0,    0,    0,    0,    0,    1,    1,    3,   26,    0],\n",
       "       [   1,    0,    0,    0,    0,    0,    0,    0,    1,    1,    4]],\n",
       "      dtype=int64)"
      ]
     },
     "execution_count": 112,
     "metadata": {},
     "output_type": "execute_result"
    }
   ],
   "source": [
    "conf_mat"
   ]
  },
  {
   "cell_type": "code",
   "execution_count": 113,
   "metadata": {},
   "outputs": [],
   "source": [
    "from sklearn.model_selection import RandomizedSearchCV, GridSearchCV\n",
    "import xgboost"
   ]
  },
  {
   "cell_type": "code",
   "execution_count": 114,
   "metadata": {},
   "outputs": [],
   "source": [
    "params={\n",
    " \"max_depth\"        : [ 3, 4, 5, 6, 8, 10, 12, 15],\n",
    " \"min_child_weight\" : [ 1, 3, 5, 7 ],\n",
    " \"gamma\"            : [ 0.0, 0.1, 0.2 , 0.3, 0.4 ,0.5,1],\n",
    " \"learning_rate\"    : [0.01,0.05, 0.10, 0.15, 0.20, 0.25, 0.30,0.5,0.75 ],\n",
    " \"colsample_bytree\" : [ 0.3, 0.4, 0.5 , 0.7 ]\n",
    "}\n",
    "classifier = XGBClassifier()"
   ]
  },
  {
   "cell_type": "code",
   "execution_count": 115,
   "metadata": {},
   "outputs": [],
   "source": [
    "random_search=RandomizedSearchCV(classifier,param_distributions=params,n_iter=5,scoring='accuracy',n_jobs=-1,cv=5,verbose=3)"
   ]
  },
  {
   "cell_type": "code",
   "execution_count": 116,
   "metadata": {},
   "outputs": [
    {
     "name": "stdout",
     "output_type": "stream",
     "text": [
      "Fitting 5 folds for each of 5 candidates, totalling 25 fits\n"
     ]
    },
    {
     "name": "stderr",
     "output_type": "stream",
     "text": [
      "[Parallel(n_jobs=-1)]: Using backend LokyBackend with 8 concurrent workers.\n",
      "[Parallel(n_jobs=-1)]: Done  19 out of  25 | elapsed:   27.6s remaining:    8.6s\n",
      "[Parallel(n_jobs=-1)]: Done  25 out of  25 | elapsed:   30.2s finished\n"
     ]
    },
    {
     "data": {
      "text/plain": [
       "RandomizedSearchCV(cv=5, error_score=nan,\n",
       "                   estimator=XGBClassifier(base_score=None, booster=None,\n",
       "                                           colsample_bylevel=None,\n",
       "                                           colsample_bynode=None,\n",
       "                                           colsample_bytree=None, gamma=None,\n",
       "                                           gpu_id=None, importance_type='gain',\n",
       "                                           interaction_constraints=None,\n",
       "                                           learning_rate=None,\n",
       "                                           max_delta_step=None, max_depth=None,\n",
       "                                           min_child_weight=None, missing=nan,\n",
       "                                           monotone_constraints=None,\n",
       "                                           n...\n",
       "                   iid='deprecated', n_iter=5, n_jobs=-1,\n",
       "                   param_distributions={'colsample_bytree': [0.3, 0.4, 0.5,\n",
       "                                                             0.7],\n",
       "                                        'gamma': [0.0, 0.1, 0.2, 0.3, 0.4, 0.5,\n",
       "                                                  1],\n",
       "                                        'learning_rate': [0.01, 0.05, 0.1, 0.15,\n",
       "                                                          0.2, 0.25, 0.3, 0.5,\n",
       "                                                          0.75],\n",
       "                                        'max_depth': [3, 4, 5, 6, 8, 10, 12,\n",
       "                                                      15],\n",
       "                                        'min_child_weight': [1, 3, 5, 7]},\n",
       "                   pre_dispatch='2*n_jobs', random_state=None, refit=True,\n",
       "                   return_train_score=False, scoring='accuracy', verbose=3)"
      ]
     },
     "execution_count": 116,
     "metadata": {},
     "output_type": "execute_result"
    }
   ],
   "source": [
    "random_search.fit(X.values, Y.values)"
   ]
  },
  {
   "cell_type": "code",
   "execution_count": 117,
   "metadata": {},
   "outputs": [],
   "source": [
    "classifier1=random_search.best_estimator_"
   ]
  },
  {
   "cell_type": "code",
   "execution_count": 118,
   "metadata": {},
   "outputs": [
    {
     "data": {
      "text/plain": [
       "array([0.82785957, 0.84711212, 0.87429219, 0.90022676, 0.87755102])"
      ]
     },
     "execution_count": 118,
     "metadata": {},
     "output_type": "execute_result"
    }
   ],
   "source": [
    "score=cross_val_score(classifier1,X.values, Y.values,cv=5)\n",
    "y_pred = cross_val_predict(classifier, X.values, Y.values, cv=5)\n",
    "conf_mat = confusion_matrix(Y.values, y_pred)\n",
    "score"
   ]
  },
  {
   "cell_type": "code",
   "execution_count": 119,
   "metadata": {},
   "outputs": [
    {
     "name": "stdout",
     "output_type": "stream",
     "text": [
      "Mean Accuracy:  0.8654083301874922\n"
     ]
    }
   ],
   "source": [
    "print(\"Mean Accuracy: \",score.mean())"
   ]
  },
  {
   "cell_type": "code",
   "execution_count": 120,
   "metadata": {},
   "outputs": [
    {
     "data": {
      "text/plain": [
       "array([[ 642,   19,    3,    0,    0,    1,    2,   12,    0,    0,    0],\n",
       "       [  24,  268,   15,    0,    2,    1,    8,    2,    1,    0,    0],\n",
       "       [  11,   10,  182,   14,    3,    0,   17,   12,    1,    0,    0],\n",
       "       [   0,    2,   11,  202,   11,    2,    4,   23,    2,    2,    0],\n",
       "       [   0,    1,    6,   21,  306,   16,    7,   16,    1,    1,    0],\n",
       "       [   0,    1,    0,    7,   28,  382,   23,   24,    2,    0,    0],\n",
       "       [   0,    5,    7,    2,    3,   36,  143,   93,    0,    0,    0],\n",
       "       [   5,    3,    1,    8,    6,   20,   43, 1143,    2,    0,    0],\n",
       "       [   0,    0,    0,    0,    0,    0,    1,    2,  501,    0,    0],\n",
       "       [   0,    0,    0,    0,    0,    0,    1,    1,    3,   26,    0],\n",
       "       [   1,    0,    0,    0,    0,    0,    0,    0,    1,    1,    4]],\n",
       "      dtype=int64)"
      ]
     },
     "execution_count": 120,
     "metadata": {},
     "output_type": "execute_result"
    }
   ],
   "source": [
    "conf_mat"
   ]
  },
  {
   "cell_type": "markdown",
   "metadata": {},
   "source": [
    "###### The train/test  set technic gives higher accuracy than the cross validation that’s why we kept the train/test set with the xgboost in this classification ."
   ]
  },
  {
   "cell_type": "markdown",
   "metadata": {},
   "source": [
    "#####  XGboost with train/test set technic gives higher accuracy than the others, so we chose it for the prediction Bonus Malus"
   ]
  },
  {
   "cell_type": "code",
   "execution_count": 121,
   "metadata": {},
   "outputs": [
    {
     "data": {
      "text/plain": [
       "(4413, 13)"
      ]
     },
     "execution_count": 121,
     "metadata": {},
     "output_type": "execute_result"
    }
   ],
   "source": [
    "df = X\n",
    "df.head()\n",
    "df.shape"
   ]
  },
  {
   "cell_type": "markdown",
   "metadata": {},
   "source": [
    "## Dash Detection des fraudes et Classification Bonus Malus"
   ]
  },
  {
   "cell_type": "code",
   "execution_count": 122,
   "metadata": {},
   "outputs": [
    {
     "name": "stderr",
     "output_type": "stream",
     "text": [
      "INFO: {'User-Agent': 'Mozilla/5.0 (compatible, MSIE 11, Windows NT 6.3; Trident/7.0; rv:11.0) like Gecko'}\n"
     ]
    }
   ],
   "source": [
    "import dash\n",
    "import base64\n",
    "\n",
    "import dash_core_components as dcc\n",
    "import dash_html_components as html\n",
    "\n",
    "from dash.exceptions import PreventUpdate\n",
    "from twitterscraper import query_tweets\n",
    "import datetime as dt1\n",
    "from datetime import datetime as dt\n",
    "import nltk\n",
    "from nltk import word_tokenize, sent_tokenize\n",
    "from nltk.stem import LancasterStemmer, WordNetLemmatizer\n",
    "from sklearn.utils import shuffle\n",
    "from nltk.corpus import stopwords\n",
    "from wordcloud import WordCloud, ImageColorGenerator\n",
    "import seaborn as sns\n",
    "from nltk.util import ngrams\n",
    "import re, string, unicodedata\n",
    "from nltk import pos_tag\n",
    "from nltk.corpus import stopwords\n",
    "from nltk.tokenize import WhitespaceTokenizer\n",
    "from nltk.stem import WordNetLemmatizer\n",
    "from textblob import TextBlob\n",
    "from nltk.corpus import wordnet\n",
    "from nltk.sentiment.vader import SentimentIntensityAnalyzer\n",
    "from nltk.sentiment.util import *\n",
    "from os import path"
   ]
  },
  {
   "cell_type": "code",
   "execution_count": 123,
   "metadata": {},
   "outputs": [],
   "source": [
    "from datetime import datetime as dt\n",
    "import dash\n",
    "from dash.dependencies import Input, Output\n",
    "import dash_html_components as html\n",
    "import dash_core_components as dcc\n",
    "import re"
   ]
  },
  {
   "cell_type": "code",
   "execution_count": 124,
   "metadata": {},
   "outputs": [],
   "source": [
    "import flask\n",
    "import glob\n",
    "import os"
   ]
  },
  {
   "cell_type": "code",
   "execution_count": 125,
   "metadata": {},
   "outputs": [],
   "source": [
    "def get_wordnet_pos(pos_tag):\n",
    "    if pos_tag.startswith('J'):\n",
    "        return wordnet.ADJ\n",
    "    elif pos_tag.startswith('V'):\n",
    "        return wordnet.VERB\n",
    "    elif pos_tag.startswith('N'):\n",
    "        return wordnet.NOUN\n",
    "    elif pos_tag.startswith('R'):\n",
    "        return wordnet.ADV\n",
    "    else:\n",
    "        return wordnet.NOUN\n",
    "    \n",
    "def clean_review(text):\n",
    "    # lower text\n",
    "    text = text.lower()\n",
    "    # tokenize text and remove puncutation\n",
    "    text = [word.strip(string.punctuation) for word in text.split(\" \")]\n",
    "    # remove words that contain numbers\n",
    "    text = [word for word in text if not any(c.isdigit() for c in word)]\n",
    "    # remove stop words\n",
    "    stop = stopwords.words('english')\n",
    "    text = [x for x in text if x not in stop]\n",
    "    # remove empty tokens\n",
    "    text = [t for t in text if len(t) > 0]\n",
    "    \n",
    "    wordtoRemove=['the Hyundai','new Hyundai','een','der','al','on','cartweet','an','da','und','twitter','pic','nueva apuesta','la nueva','take','them','What','year','via','en','el','nueva','apuesta','sedan is','these','la','de','but','ev','ha','the Volkswagen','un','EV','Man','que','in','le','or','em','hi','wa','thi','the']\n",
    "    #wordtoRemove=['twitter','pic','com','henry','made','show','Harrison','Tom','today','Trump','many','Truck','back','going','Mr','said','also','nothing','via','make','see','say','could','Doug','give','would','US','job','next','new','time','think', \"n't\", 'ca', 'Christine', 'Dr.' , '’','「もし顧客に、彼らの望むものを聞いていたら、彼らは『もっと速い馬が欲しい』と答えていただろう」 ヘンリー・フォード（ford motor 創業者）/'\n",
    "    #             ,'/n（ford？のラリー車の横で）「この野郎！ だから俺の言う通り走れって言っただろ！」（ドライバーを蹴る） 「ったくどうすんだ！ 見物人もいない所でハメやがって どうやって元に戻すんだ」：ナビゲーター/n¿cual edicion exclusiva de xboxone te gusta ma audi ford mustang ford gt lamborghini centenario que tengan un buen like video diy ford windstar freestar serpentine belt replacement/nford ka trend horizon bucket list ford ' ,'attack ford reveals return ranger bronco app junk …/nford explorer no?/ntypo dealerrater able get brand ford focus titanium help james ']\n",
    "    text = [WR for WR in text if WR not in wordtoRemove ]\n",
    "        \n",
    "    # pos tag text\n",
    "    pos_tags = pos_tag(text)\n",
    "    # lemmatize text\n",
    "    text = [WordNetLemmatizer().lemmatize(t[0], get_wordnet_pos(t[1])) for t in pos_tags]\n",
    "    # remove words with only one letter\n",
    "    text = [t for t in text if len(t) > 1]\n",
    "    \n",
    "   # join all\n",
    "    text = \" \".join(text)\n",
    "    return text \n",
    "    \n",
    "def analize_sentiment(text):  \n",
    "    analysis = TextBlob(clean_review(text))\n",
    "    if analysis.sentiment.polarity > 0:\n",
    "        return \"positive\"\n",
    "    elif analysis.sentiment.polarity ==0:\n",
    "        return \"neutral\"\n",
    "    elif analysis.sentiment.polarity < 0:\n",
    "        return \"negative\"\n",
    "\n",
    "def analize_sentiment_Wordcloud(text):  \n",
    "    analysis = TextBlob(clean_review(text))\n",
    "    if analysis.sentiment.polarity >= 0.2:\n",
    "        return \"positive\"\n",
    "    elif analysis.sentiment.polarity ==0:\n",
    "        return \"neutral\"\n",
    "    elif analysis.sentiment.polarity <= -0.2:\n",
    "        return \"negative\""
   ]
  },
  {
   "cell_type": "code",
   "execution_count": 126,
   "metadata": {},
   "outputs": [],
   "source": [
    "def Scrap_it(j1,m1,y1,j2,m2,y2,lim,key):\n",
    "    beginDate=dt1.date(y1,m1,j1)\n",
    "    endDate=dt1.date(y2,m2,j2)\n",
    "    limit=lim\n",
    "    lang='English'\n",
    "    tweets=query_tweets(key,begindate=beginDate,enddate=endDate,limit=limit,lang=lang)\n",
    "    return(tweets,key)"
   ]
  },
  {
   "cell_type": "code",
   "execution_count": 127,
   "metadata": {},
   "outputs": [],
   "source": [
    "def Work(key,tweets):\n",
    "    df = pd.DataFrame(t.__dict__ for t in tweets)\n",
    "    # remove these using regular expressions.\n",
    "    df['text'] = df['text'].apply(lambda x: ' '.join(re.sub(\"(@[A-Za-z0-9]+)|(\\w+:\\/\\/\\S+)|(#)|(.../nlife)\",\" \",x).split()))\n",
    "    # Récuperation des données qui on été rejeter pour pouvoir utiliser apres le worlcloud\n",
    "    textAvecUneSeulLettre = [t for t in df['text'] if len(t) == 1]\n",
    "    custom_stopwords = list(stopwords.words('english'))\n",
    "    custom_stopwords.extend(string.punctuation)\n",
    "    custom_stopwords.extend(\"(@[A-Za-z0-9]+)|(\\w+:\\/\\/\\S+)|(#)\") \n",
    "    custom_stopwords.extend(textAvecUneSeulLettre)\n",
    "    custom_stopwords.extend(('een','der','al','on','cartweet','an','da','und','twitter','pic','com','nueva apuesta','la nueva','take','them','What','year','via','en','el','nueva','apuesta','sedan','these','la','de','but','ev','ha','un','EV','Man','que','in','le','or','em','hi','wa','thi','the'))\n",
    "    df.text = df.text.astype(str)\n",
    "    df['Sentiment'] = np.array([ analize_sentiment(text) for text in df['text'] ])\n",
    "    df['Sentiment_Wordcloud'] = np.array([ analize_sentiment_Wordcloud(text) for text in df['text'] ])\n",
    "    \n",
    "    global PercentNeut\n",
    "    global PercentPos\n",
    "    global PercentNeg\n",
    "    global dict\n",
    "    global L\n",
    "    dict={}\n",
    "    L=[]\n",
    "    PercentNeut=[]\n",
    "    PercentPos=[]\n",
    "    PercentNeg=[]\n",
    "    \n",
    "    \n",
    "    tot=df.Sentiment.value_counts()[0]+df.Sentiment.value_counts()[1]+df.Sentiment.value_counts()[2]\n",
    "    dict[key]=[round((df.Sentiment.value_counts()[0]/tot)*100,2),round((df.Sentiment.value_counts()[1]/tot)*100,2),round((df.Sentiment.value_counts()[2]/tot)*100,2)]\n",
    "    L=list(dict.keys())\n",
    "    for i in L:\n",
    "        PercentNeut.append(dict[i][0])\n",
    "        PercentPos.append(dict[i][1])\n",
    "        PercentNeg.append(dict[i][2])\n",
    "    \n",
    "    cloudstr = \" \".join(tweet for tweet in df[(df['Sentiment_Wordcloud']=='positive') | (df['Sentiment_Wordcloud']=='negative')]['text'])\n",
    "    wordcloud = WordCloud(width=1024, height=768,background_color = \"white\", max_words=1000, stopwords=custom_stopwords).generate(cloudstr)\n",
    "    plt.figure(figsize=(20,10))\n",
    "    plt.imshow(wordcloud, interpolation='bilinear')\n",
    "    plt.axis(\"off\")\n",
    "    \n",
    "    currdir = path.dirname(\"C:/Users/LENOVO/PI_DATA_SCIENCE/src/\")\n",
    "    # save wordcloud\n",
    "    wordcloud.to_file(path.join(currdir, \"temp.png\"))\n",
    "    global image_filename1\n",
    "    global encoded_image1\n",
    "    image_filename1 = 'temp.png' # replace with your own image\n",
    "    encoded_image1 = base64.b64encode(open(image_filename1, 'rb').read())\n",
    "    \n",
    "    return()"
   ]
  },
  {
   "cell_type": "code",
   "execution_count": 128,
   "metadata": {},
   "outputs": [],
   "source": [
    "legend = html.P(\"\"\"Bleu : Pas de défault / Jaune : Défault\"\"\")"
   ]
  },
  {
   "cell_type": "code",
   "execution_count": 129,
   "metadata": {},
   "outputs": [],
   "source": [
    "import dash_bootstrap_components as dbc\n",
    "\n",
    "app = dash.Dash(external_stylesheets=[dbc.themes.BOOTSTRAP])\n",
    "\n",
    "image_filename = 'C:/Users/LENOVO/PI_DATA_SCIENCE/DATA/logo.jpg'\n",
    "encoded_image = base64.b64encode(open(image_filename, 'rb').read())\n",
    "# the style arguments for the sidebar. We use position:fixed and a fixed width\n",
    "SIDEBAR_STYLE = {\n",
    "\n",
    "    \"top\": 0,\n",
    "    \"left\": 0,\n",
    "    \"bottom\": 0,\n",
    "    \"width\": \"16rem\",\n",
    "    \"padding\": \"2rem 1rem\",\n",
    "    \"background-color\": \"#f8f9fa\",\n",
    "    \"position\": \"fixed\",\n",
    "    \"color\":\"#000\",\n",
    "}\n",
    "\n",
    "# the styles for the main content position it to the right of the sidebar and\n",
    "# add some padding.\n",
    "CONTENT_STYLE = {\n",
    "    \"margin-left\": \"18rem\",\n",
    "    \"margin-right\": \"2rem\",\n",
    "    \"padding\": \"2rem 1rem\",\n",
    "\n",
    "}\n",
    "\n",
    "sidebar = html.Div(\n",
    "    [\n",
    "        #html.H2(\"Plate\", className=\"display-4\"),\n",
    "        html.Img(src='data:image/png;base64,{}'.format(encoded_image.decode()),style={'height':'20%', 'width':'100%'}),\n",
    "        html.Hr(),\n",
    "        html.P(\n",
    "            \"Bienvenue dans notre plateforme \", className=\"lead\"\n",
    "        ),\n",
    "        dbc.Nav(\n",
    "            [\n",
    "                dbc.NavLink(\"Detection de Fraud\", href=\"/dashboard\", id=\"page-1-link\"),\n",
    "                dbc.NavLink(\"Prediction Class BonusMalus\", href=\"/page-2\", id=\"page-2-link\"),\n",
    "                dbc.NavLink(\"Analyse des sentiments\", href=\"/page-3\", id=\"page-3-link\"),\n",
    "                html.Hr(),\n",
    "                dbc.NavLink(\"Déconnexion\", href=\"/logout\", id=\"page-4-link\"),\n",
    "            ],\n",
    "            vertical=True,\n",
    "            pills=True,\n",
    "        ),\n",
    "    ],\n",
    "    style=SIDEBAR_STYLE,\n",
    ")\n",
    "\n",
    "content = html.Div(id='page-content' ,style=CONTENT_STYLE)\n",
    "\n",
    "\n",
    "\n",
    "app.layout = html.Div([dcc.Location(id=\"url\"), sidebar, content])\n",
    "app.config.suppress_callback_exceptions = True\n",
    "\n",
    "\n",
    "# this callback uses the current pathname to set the active state of the\n",
    "# corresponding nav link to true, allowing users to tell see page they are on\n",
    "@app.callback(\n",
    "    [Output(f\"page-{i}-link\", \"active\") for i in range(1, 4)],\n",
    "    [Input(\"url\", \"pathname\")],\n",
    ")\n",
    "def toggle_active_links(pathname):\n",
    "    if pathname == \"/\" or pathname == \"/dashboard\":\n",
    "        # Treat page 1 as the homepage / index\n",
    "        return True, False, False\n",
    "    return [pathname == f\"/page-{i}\" for i in range(1, 4)]\n",
    "\n",
    "\n",
    "@app.callback(Output(\"page-content\", \"children\"), [Input(\"url\", \"pathname\")])\n",
    "def render_page_content(pathname):\n",
    "    if pathname in [\"/\", \"/page-1\", \"/dashboard\"]:\n",
    "        dashBoard = dbc.Container([\n",
    "            html.Center([html.H1(['Detection de Fraud'] , className = 'display-4')]),\n",
    "            dbc.Row([\n",
    "            \n",
    "                ]),\n",
    "\n",
    "            html.Div([\n",
    "                html.Br(),      \n",
    "\n",
    "                dbc.Row([\n",
    "\n",
    "                    html.H6(['Remplir le formulaire : ']),\n",
    "                    html.Br(),\n",
    "                    html.Br(),\n",
    "                    ]),\n",
    "                dcc.Markdown('''Saisir nombre de sinistre'''),\n",
    "                dcc.Input(\n",
    "                    id=\"loan\",\n",
    "                    type='number',\n",
    "                    placeholder=\"LOAN\",\n",
    "                    value=0\n",
    "                ),\n",
    "\n",
    "                dcc.Markdown('''Saisir Class Bonus Malus'''),\n",
    "                dcc.Input(\n",
    "                    id=\"CBM\",\n",
    "                    type='number',\n",
    "                    placeholder=\"CBM\",\n",
    "                    value=0\n",
    "                ),\n",
    "                dcc.Markdown('''Saisir puissance fiscale'''),\n",
    "                dcc.Input(\n",
    "                    id=\"pf\",\n",
    "                    type='number',\n",
    "                    placeholder=\"PF\",\n",
    "                    value=0\n",
    "                ),\n",
    "                 dcc.Markdown('''Saisir nature police'''),\n",
    "                 dcc.Dropdown(\n",
    "                    id='np',\n",
    "                    options=[\n",
    "                        {'label': 'Reconductible', 'value': 'R'},\n",
    "                        {'label': 'Temporaire', 'value': 'T'}\n",
    "                        ],\n",
    "                        value='R'\n",
    "                ),\n",
    "                dcc.Markdown('''Saisir type police'''),\n",
    "                dcc.Dropdown(\n",
    "                    id='tp',\n",
    "                    options=[\n",
    "                        {'label': 'Individuelle', 'value': 'I'},\n",
    "                        {'label': 'Flotte', 'value': 'F'}\n",
    "                        ],\n",
    "                        value='I'\n",
    "                ),\n",
    "                dcc.Markdown('''Select etat police'''),\n",
    "                dcc.Dropdown(\n",
    "                    id='EtatPol',\n",
    "                    options=[\n",
    "\n",
    "\n",
    "                        {'label': 'V', 'value': 'V'},\n",
    "                        {'label': 'R', 'value': 'R'},\n",
    "                        {'label': 'S', 'value': 'S'}\n",
    "                        ],\n",
    "                        value='V'\n",
    "                ),\n",
    "                dcc.Markdown('''Saisir libelé Usage'''),\n",
    "                dcc.Dropdown(\n",
    "                    id=\"lu\",\n",
    "                    options=[\n",
    "                        {'label': 'Agricole1 véhicule dont le PTC < 3500 kg', 'value': 'Agricole1 véhicule dont le PTC < 3500 kg'},\n",
    "                        {'label': 'Auto-Ecole', 'value': 'Auto-Ecole'},\n",
    "                        {'label': 'Taxi', 'value': 'Taxi'},\n",
    "                        {'label': 'Privé et professionnel', 'value': 'Privé et professionnel'},\n",
    "                        {'label': 'Utilitaire 1 véhicule dont le PTC < 3500 kg (y compris usage voirie)', 'value': 'Utilitaire 1 véhicule dont le PTC < 3500 kg (y compris usage voirie)'},\n",
    "                        {'label': 'Utilitaire 2 véhicule dont le PTC > 3500 kg (y compris voirie)', 'value': 'Utilitaire 2 véhicule dont le PTC > 3500 kg (y compris voirie)'},\n",
    "                        {'label': 'Louage', 'value': 'Louage'},\n",
    "                        {'label': 'Transport Rural', 'value': 'Transport Rural'},\n",
    "                        {'label': 'Location', 'value': 'Location'},\n",
    "                        {'label': 'Engin de Chantiers', 'value': 'Engin de Chantiers'},\n",
    "                        {'label': 'autres usages (Ambulance / Corbillard / RC Garagiste / RC Trajet etc)', 'value': 'autres usages (Ambulance / Corbillard / RC Garagiste / RC Trajet etc)'},\n",
    "                        {'label': 'Agricole 2 véhicule dont le PTC > 3500 kg', 'value': 'Agricole 2 véhicule dont le PTC > 3500 kg'},\n",
    "                        {'label': 'Transport privé de personnes (personnel / enfants /membre d’association)', 'value': 'Transport privé de personnes (personnel / enfants /membre d’association)'},\n",
    "                        {'label': 'Agences de Voyage et Hôtels', 'value': 'Agences de Voyage et Hôtels'},\n",
    "                        {'label': 'Agricole Tracteur et Moissonneuse Batteuse', 'value': 'Agricole Tracteur et Moissonneuse Batteuse'},\n",
    "                        {'label': 'Transport public de voyageurs', 'value': 'Transport public de voyageurs'},\n",
    "                        {'label': '-', 'value': '-'},\n",
    "                        {'label': 'Transport public de marchandise (avec matière dangereuse et inflammable)', 'value': 'Transport public de marchandise (avec matière dangereuse et inflammable)'}\n",
    "                        ],\n",
    "                        value='Taxi'\n",
    "                    ),\n",
    "                dcc.Markdown('''Saisir l'etat de la vehicule'''),\n",
    "                dcc.Dropdown(\n",
    "                    id=\"ev\",\n",
    "                    options=[\n",
    "\n",
    "                        {'label': 'En circulation', 'value': 'C'},\n",
    "                        {'label': 'Epave', 'value': 'E'}\n",
    "                        ],\n",
    "                        value='V'\n",
    "                    ),\n",
    "                dcc.Markdown('''Saisir l'energie'''),\n",
    "                dcc.Dropdown(\n",
    "                    id=\"ene\",\n",
    "                    options=[\n",
    "\n",
    "                        {'label': 'ESSENCE', 'value': 'ESSENCE'},\n",
    "                        {'label': 'GASOIL', 'value': 'GASOIL'},\n",
    "                        {'label': 'Gaz', 'value': 'ESS-GAZ GPL'},\n",
    "                        ],\n",
    "                        value='ESSENCE'\n",
    "                ),\n",
    "                dcc.Markdown('''Saisir Nature de Sinistre'''),\n",
    "                dcc.Dropdown(\n",
    "                    id=\"NAS\",\n",
    "                    options=[\n",
    "\n",
    "                        {'label': '-', 'value': '-'},\n",
    "                        {'label': 'SINISTRE CORPOREL', 'value': 'C'},\n",
    "                        {'label': 'SINISTRE MATÉRIEL', 'value': 'M'},\n",
    "                        ],\n",
    "                        value='-'\n",
    "                ),\n",
    "                dcc.Markdown('''Saisir le lieu de sinistre'''),\n",
    "                dcc.Input(\n",
    "                    id=\"ls\",\n",
    "                    type='text',\n",
    "                    placeholder=\"LS\",\n",
    "                    value='Ariana'\n",
    "                ),\n",
    "                dcc.Markdown('''Identifier les tiers'''),\n",
    "                dcc.Dropdown(\n",
    "                    id=\"it\",\n",
    "                    options=[\n",
    "\n",
    "                        {'label': 'Véhicules', 'value': 'V'},\n",
    "                        {'label': 'Biens Immobiliers', 'value': 'I'},\n",
    "                        {'label': 'Passager', 'value': 'U'},\n",
    "                        {'label': 'Autres', 'value': 'Autres'}\n",
    "                        ],\n",
    "                        value='V'\n",
    "                ),\n",
    "                dcc.Markdown('''Saisir  l'effet police'''),\n",
    "                dcc.DatePickerSingle(\n",
    "                    id='ef',\n",
    "                    date=dt(1997, 5, 10)\n",
    "                ),\n",
    "                dcc.Markdown('''Saisir DATE_AFFECTATION police'''),\n",
    "                dcc.DatePickerSingle(\n",
    "                    id='AFEC',\n",
    "                    date=dt(1997, 5, 10)\n",
    "                ),\n",
    "                dcc.Markdown('''Saisir DATE_Calcul Class Bonus Malus '''),\n",
    "                dcc.DatePickerSingle(\n",
    "                    id='DCBM',\n",
    "                    date=dt(1997, 5, 10)\n",
    "                ),\n",
    "                dcc.Markdown('''Saisir DATE_OUVERTURE_SINISTRE  '''),\n",
    "                dcc.DatePickerSingle(\n",
    "                    id='DOUSI',\n",
    "                    date=dt(1997, 5, 10)\n",
    "                ),\n",
    "                dcc.Markdown('''Saisir DATE_ECHEANCE_POLICE '''),\n",
    "                dcc.DatePickerSingle(\n",
    "                    id='DEPO',\n",
    "                    date=dt(1997, 5, 10)\n",
    "                )\n",
    "                ]),\n",
    "            ##html.Button(id=\"submit-val\" , children =\"Analyze\" , n_clicks = 0, className = 'btn btn-outline-success'),\n",
    "            html.Div([ html.Center([ html.Button(id=\"submit-val\" , children =\"Analyser\" , n_clicks = 0, className = 'btn btn-outline-success')]\n",
    "            ),\n",
    "            html.H2(id='container-button-basic',children='press submit')\n",
    "            ])\n",
    "            ]),\n",
    "            \n",
    "        return dashBoard\n",
    "\n",
    "    elif pathname == \"/page-2\":\n",
    "        dashBoard = dbc.Container([\n",
    "            html.Center([html.H1(['Prediction Classe Bonus Malus'] , className = 'display-4')]),\n",
    "            dbc.Row([\n",
    "            \n",
    "                ]),\n",
    "\n",
    "            html.Div([\n",
    "                html.Br(),      \n",
    "\n",
    "                dbc.Row([\n",
    "\n",
    "                    html.H6(['Remplir le formulaire : ']),\n",
    "                    html.Br(),\n",
    "                    html.Br(),\n",
    "                    ]),\n",
    "                dcc.Markdown('''Saisir nombre de sinistre'''),\n",
    "                dcc.Input(\n",
    "                    id=\"loanG\",\n",
    "                    type='number',\n",
    "                    placeholder=\"LOAN\",\n",
    "                    value=0\n",
    "                ),\n",
    "        \n",
    "                dcc.Markdown('''Saisir puissance fiscale'''),\n",
    "                dcc.Input(\n",
    "                    id=\"pfG\",\n",
    "                    type='number',\n",
    "                    placeholder=\"PF\",\n",
    "                    value=0\n",
    "                ),\n",
    "                 dcc.Markdown('''Saisir nature police'''),\n",
    "                 dcc.Dropdown(\n",
    "                    id='npG',\n",
    "                    options=[\n",
    "                        {'label': 'Reconductible', 'value': 'R'},\n",
    "                        {'label': 'Temporaire', 'value': 'T'}\n",
    "                        ],\n",
    "                        value='S'\n",
    "                ),\n",
    "                dcc.Markdown('''Saisir type police'''),\n",
    "                dcc.Dropdown(\n",
    "                    id='tpG',\n",
    "                    options=[\n",
    "                        {'label': 'Individuelle', 'value': 'I'},\n",
    "                        {'label': 'Flotte', 'value': 'F'}\n",
    "                        ],\n",
    "                        value='Type Police'\n",
    "                ),\n",
    "                dcc.Markdown('''Select etat police'''),\n",
    "                dcc.Dropdown(\n",
    "                    id='EtatPolG',\n",
    "                    options=[\n",
    "\n",
    "\n",
    "                        {'label': 'V', 'value': 'V'},\n",
    "                        {'label': 'R', 'value': 'R'},\n",
    "                        {'label': 'S', 'value': 'S'}\n",
    "                        ],\n",
    "                        value='S'\n",
    "                ),\n",
    "                dcc.Markdown('''Saisir libelé Usage'''),\n",
    "                dcc.Dropdown(\n",
    "                    id=\"luG\",\n",
    "                    options=[\n",
    "                        {'label': 'Agricole1 véhicule dont le PTC < 3500 kg', 'value': 'Agricole1 véhicule dont le PTC < 3500 kg'},\n",
    "                        {'label': 'Auto-Ecole', 'value': 'Auto-Ecole'},\n",
    "                        {'label': 'Taxi', 'value': 'Taxi'},\n",
    "                        {'label': 'Privé et professionnel', 'value': 'Privé et professionnel'},\n",
    "                        {'label': 'Utilitaire 1 véhicule dont le PTC < 3500 kg (y compris usage voirie)', 'value': 'Utilitaire 1 véhicule dont le PTC < 3500 kg (y compris usage voirie)'},\n",
    "                        {'label': 'Utilitaire 2 véhicule dont le PTC > 3500 kg (y compris voirie)', 'value': 'Utilitaire 2 véhicule dont le PTC > 3500 kg (y compris voirie)'},\n",
    "                        {'label': 'Louage', 'value': 'Louage'},\n",
    "                        {'label': 'Transport Rural', 'value': 'Transport Rural'},\n",
    "                        {'label': 'Location', 'value': 'Location'},\n",
    "                        {'label': 'Engin de Chantiers', 'value': 'Engin de Chantiers'},\n",
    "                        {'label': 'autres usages (Ambulance / Corbillard / RC Garagiste / RC Trajet etc)', 'value': 'autres usages (Ambulance / Corbillard / RC Garagiste / RC Trajet etc)'},\n",
    "                        {'label': 'Agricole 2 véhicule dont le PTC > 3500 kg', 'value': 'Agricole 2 véhicule dont le PTC > 3500 kg'},\n",
    "                        {'label': 'Transport privé de personnes (personnel / enfants /membre d’association)', 'value': 'Transport privé de personnes (personnel / enfants /membre d’association)'},\n",
    "                        {'label': 'Agences de Voyage et Hôtels', 'value': 'Agences de Voyage et Hôtels'},\n",
    "                        {'label': 'Agricole Tracteur et Moissonneuse Batteuse', 'value': 'Agricole Tracteur et Moissonneuse Batteuse'},\n",
    "                        {'label': 'Transport public de voyageurs', 'value': 'Transport public de voyageurs'},\n",
    "                        {'label': '-', 'value': '-'},\n",
    "                        {'label': 'Transport public de marchandise (avec matière dangereuse et inflammable)', 'value': 'Transport public de marchandise (avec matière dangereuse et inflammable)'}\n",
    "                        ],\n",
    "                        value='V'\n",
    "                    ),\n",
    "                dcc.Markdown('''Saisir l'etat de la vehicule'''),\n",
    "                dcc.Dropdown(\n",
    "                    id=\"evG\",\n",
    "                    options=[\n",
    "\n",
    "                        {'label': 'En circulation', 'value': 'C'},\n",
    "                        {'label': 'Epave', 'value': 'E'}\n",
    "                        ],\n",
    "                        value='V'\n",
    "                    ),\n",
    "                dcc.Markdown('''Saisir l'energie'''),\n",
    "                dcc.Dropdown(\n",
    "                    id=\"eneG\",\n",
    "                    options=[\n",
    "\n",
    "                        {'label': 'ESSENCE', 'value': 'ESSENCE'},\n",
    "                        {'label': 'GASOIL', 'value': 'GASOIL'},\n",
    "                        {'label': 'Gaz', 'value': 'ESS-GAZ GPL'},\n",
    "                        ],\n",
    "                        value='M'\n",
    "                ),\n",
    "                dcc.Markdown('''Saisir le lieu de sinistre'''),\n",
    "                dcc.Input(\n",
    "                    id=\"lsG\",\n",
    "                    type='text',\n",
    "                    placeholder=\"LS\",\n",
    "                    value=''\n",
    "                ),\n",
    "                dcc.Markdown('''Identifier les tiers'''),\n",
    "                dcc.Dropdown(\n",
    "                    id=\"itG\",\n",
    "                    options=[\n",
    "\n",
    "                        {'label': 'Véhicules', 'value': 'V'},\n",
    "                        {'label': 'Biens Immobiliers', 'value': 'I'},\n",
    "                        {'label': 'Passager', 'value': 'U'},\n",
    "                        {'label': 'Autres', 'value': 'Autres'}\n",
    "                        ],\n",
    "                        value=''\n",
    "                ),\n",
    "                dcc.Markdown('''Saisir  l'effet police'''),\n",
    "                dcc.DatePickerSingle(\n",
    "                    id='efG',\n",
    "                    date=dt(1997, 5, 10)\n",
    "                )\n",
    "            ]),\n",
    "            ##html.Button(id=\"submit-valG\" , children =\"Analyze\" , n_clicks = 0, className = 'btn btn-outline-success'),\n",
    "             html.Div([ html.Center([ html.Button(id=\"submit-valG\" , children =\"Analyser\" , n_clicks = 0, className = 'btn btn-outline-success')]\n",
    "            ),\n",
    "            html.H2(id='container-button-basicG',children='press submit')\n",
    "            ])          \n",
    "           ])\n",
    "        return dashBoard\n",
    "    elif pathname == \"/page-3\":\n",
    "        dashBoard = dbc.Container([\n",
    "            dbc.Row([\n",
    "            \n",
    "                ]),\n",
    "\n",
    "            html.Div([\n",
    "                html.Center([html.H1(\"Analyse sentimentale selon la marque de voiture\")]),\n",
    "                    dcc.Markdown('''Saisir le nom de la marque'''),\n",
    "                    dcc.Input(\n",
    "                        id=\"marque\",\n",
    "                        type='text',\n",
    "                        placeholder=\"MARQUE\",\n",
    "                        value='Ford'\n",
    "                    ),\n",
    "                    dcc.Markdown('''Saisir la date de début'''),\n",
    "                        dcc.DatePickerSingle(\n",
    "                            id='ddb',\n",
    "                            date=dt(2019, 1, 1)\n",
    "                        ),\n",
    "                    dcc.Markdown('''Saisir la date de fin'''),\n",
    "                        dcc.DatePickerSingle(\n",
    "                            id='ddf',\n",
    "                            date=dt(2020, 1, 1)\n",
    "                        ),\n",
    "                    dcc.Markdown('''Saisir le nombre maximal de tweets'''),\n",
    "                    dcc.Input(\n",
    "                        id=\"limT\",\n",
    "                        type='number',\n",
    "                        placeholder=\"lim\",\n",
    "                        value=0\n",
    "                    )\n",
    "                ]),\n",
    "            #html.Button(id=\"submit-valF1\" , children =\"Analyser\" , n_clicks = 0, className = 'btn btn-outline-success'),\n",
    "            html.Div([ html.Center([ html.Button(id=\"submit-valF1\" , children =\"Analyser\" , n_clicks = 0, className = 'btn btn-outline-success')]),\n",
    "             html.Center([html.H2(id='container-button-basicF',children='Appuyez sur analyser puis attendez la fin du grattage!')]),\n",
    "            html.Button(id=\"submit-valF2\" , children =\"Afficher WordCloud & Graph\" , n_clicks = 0, className = 'btn btn-outline-success'),\n",
    "            html.H2(id='container-button-basicF2',children=''),\n",
    "            html.Img(\n",
    "                id='image',\n",
    "                style={\n",
    "                        'height': '100%',\n",
    "                        'width': '100%'\n",
    "                    }),\n",
    "            html.Div(id='graph')\n",
    "            ])\n",
    "                     ])\n",
    "        return dashBoard\n",
    "                \n",
    "    elif pathname == \"/logout\":\n",
    "        return html.P(\"Log out!\")\n",
    "    # If the user tries to reach a different page, return a 404 message\n",
    "    return dbc.Jumbotron(\n",
    "        [\n",
    "            html.H1(\"404: Not found\", className=\"text-danger\"),\n",
    "            html.Hr(),\n",
    "            html.P(f\"The pathname {pathname} was not recognised...\"),\n",
    "        ]\n",
    "    )"
   ]
  },
  {
   "cell_type": "code",
   "execution_count": 130,
   "metadata": {},
   "outputs": [],
   "source": [
    "@app.callback(\n",
    "dash.dependencies.Output('container-button-basic', 'children'),\n",
    "[dash.dependencies.Input('submit-val', 'n_clicks')],\n",
    "[dash.dependencies.State('loan' ,'value'),\n",
    "dash.dependencies.State('CBM','value'),\n",
    "dash.dependencies.State('pf','value'),\n",
    "dash.dependencies.State('np','value'),\n",
    "dash.dependencies.State('tp','value'),\n",
    "dash.dependencies.State('EtatPol','value'),\n",
    "dash.dependencies.State('lu','value'),\n",
    "dash.dependencies.State('ev','value'),\n",
    "dash.dependencies.State('ene','value'),\n",
    "dash.dependencies.State('NAS','value'), \n",
    "dash.dependencies.State('ls','value'),\n",
    "dash.dependencies.State('it','value'),\n",
    "dash.dependencies.State('ef','date'),\n",
    "dash.dependencies.State('AFEC','date'),\n",
    "dash.dependencies.State('DCBM','date'),\n",
    "dash.dependencies.State('DOUSI','date'),\n",
    "dash.dependencies.State('DEPO','date')])\n",
    "\n",
    "\n",
    "def update_output(n_clicks, v,v1,v2,v3,v4,v5,v6,v7,v8,v9,v10,v11,v12,v13,v14,v15,v16):\n",
    "    changed_id = [p['prop_id'] for p in dash.callback_context.triggered][0]\n",
    "    if 'submit-val' in changed_id:\n",
    "         ##DATE EFFET Police\n",
    "        date = dt.strptime(re.split('T| ', v12)[0], '%Y-%m-%d')\n",
    "        date=str(date)\n",
    "        date=date.split('-')\n",
    "        L = date[0].split(' ')\n",
    "        ##DATE_AFFECTATION Police\n",
    "        dateA = dt.strptime(re.split('T| ', v13)[0], '%Y-%m-%d')\n",
    "        dateA=str(dateA)\n",
    "        dateA=dateA.split('-')\n",
    "        L1 = dateA[0].split(' ')\n",
    "        ##DATE Calcul BonusMALUS\n",
    "        dateC = dt.strptime(re.split('T| ', v14)[0], '%Y-%m-%d')\n",
    "        dateC=str(dateC)\n",
    "        dateC=dateC.split('-')\n",
    "        L2 = dateC[0].split(' ')\n",
    "        ##DATE OUVERTURE_SINISTRE\n",
    "        dateO = dt.strptime(re.split('T| ', v15)[0], '%Y-%m-%d')\n",
    "        dateO=str(dateO)\n",
    "        dateO=dateO.split('-')\n",
    "        L3 = dateO[0].split(' ')\n",
    "        ##DATE_ECHEANCE_POLICE\n",
    "        dateE = dt.strptime(re.split('T| ', v16)[0], '%Y-%m-%d')\n",
    "        dateE=str(dateE)\n",
    "        dateE=dateE.split('-')\n",
    "        L4 = dateE[0].split(' ')\n",
    "\n",
    "\n",
    "        new = np.array([v,v1,v2,v3,v4,v5,v6,v7,v8,v9,v10,v11,int(date[0]),int(date[1]),int(L[0]),int(dateA[0]),int(dateA[1]),int(L1[0]),int(dateC[0]),int(dateC[1]),int(L2[0]),int(dateO[0]),int(dateO[1]),int(L3[0]),int(dateE[1]),int(L4[0])])\n",
    "        XF.iloc[0] = new\n",
    "\n",
    "        if XF['naturePolice_mean'].iloc[0] == 'Temporaire':\n",
    "            XF['naturePolice_mean'].iloc[0]=means0.get('T')\n",
    "        else:\n",
    "            XF['naturePolice_mean'].iloc[0]=means0.get('R')\n",
    "\n",
    "        if XF['Etat_Police_mean'].iloc[0] == 'V':\n",
    "            XF['Etat_Police_mean'].iloc[0]=means2.get('V')\n",
    "        elif  XF['Etat_Police_mean'].iloc[0] == 'R':\n",
    "            XF['Etat_Police_mean'].iloc[0]=means2.get('R')\n",
    "        else:\n",
    "            XF['Etat_Police_mean'].iloc[0]=means2.get('S')\n",
    "\n",
    "\n",
    "\n",
    "        if XF['typePolice_mean'].iloc[0] == 'Individuelle':\n",
    "            XF['typePolice_mean'].iloc[0]=means1.get('I')\n",
    "        else:\n",
    "            XF['typePolice_mean'].iloc[0]=means1.get('F')\n",
    "\n",
    "\n",
    "        if XF['libUsage_mean'].iloc[0] == 'Agricole1 véhicule dont le PTC < 3500 kg':\n",
    "            XF['libUsage_mean'].iloc[0]=means3.get('Agricole1 véhicule dont le PTC < 3500 kg')\n",
    "        elif  XF['libUsage_mean'].iloc[0] == 'Auto-Ecole':\n",
    "            XF['libUsage_mean'].iloc[0]=means3.get('Auto-Ecole')\n",
    "        elif XF['libUsage_mean'].iloc[0] == 'Taxi':\n",
    "            XF['libUsage_mean'].iloc[0]=means3.get('Taxi')\n",
    "        elif XF['libUsage_mean'].iloc[0] == 'Privé et professionnel':\n",
    "            XF['libUsage_mean'].iloc[0]=means3.get('Privé et professionnel')\n",
    "        elif XF['libUsage_mean'].iloc[0] == 'Utilitaire 1 véhicule dont le PTC < 3500 kg (y compris usage voirie)':\n",
    "            XF['libUsage_mean'].iloc[0]=means3.get('Utilitaire 1 véhicule dont le PTC < 3500 kg (y compris usage voirie)')\n",
    "        elif XF['libUsage_mean'].iloc[0] == 'Utilitaire 2 véhicule dont le PTC > 3500 kg (y compris voirie)':\n",
    "            XF['libUsage_mean'].iloc[0]=means3.get('Utilitaire 2 véhicule dont le PTC > 3500 kg (y compris voirie)')\n",
    "        elif XF['libUsage_mean'].iloc[0] == 'Louage':\n",
    "            XF['libUsage_mean'].iloc[0]=means3.get('Louage')\n",
    "        elif XF['libUsage_mean'].iloc[0] == 'Transport Rural':\n",
    "            XF['libUsage_mean'].iloc[0]=means3.get('Transport Rural')                    \n",
    "        elif XF['libUsage_mean'].iloc[0] == 'Location':\n",
    "            XF['libUsage_mean'].iloc[0]=means3.get('Location')    \n",
    "        elif XF['libUsage_mean'].iloc[0] == 'Engin de Chantiers':\n",
    "            XF['libUsage_mean'].iloc[0]=means3.get('Engin de Chantiers')    \n",
    "        elif XF['libUsage_mean'].iloc[0] == 'autres usages (Ambulance / Corbillard / RC Garagiste / RC Trajet etc)':\n",
    "            XF['libUsage_mean'].iloc[0]=means3.get('autres usages (Ambulance / Corbillard / RC Garagiste / RC Trajet etc)')\n",
    "        elif XF['libUsage_mean'].iloc[0] == 'Agricole 2 véhicule dont le PTC > 3500 kg':\n",
    "            XF['libUsage_mean'].iloc[0]=means3.get('Agricole 2 véhicule dont le PTC > 3500 kg')\n",
    "        elif XF['libUsage_mean'].iloc[0] == 'Transport privé de personnes (personnel / enfants /membre d’association)':\n",
    "            XF['libUsage_mean'].iloc[0]=means3.get('Transport privé de personnes (personnel / enfants /membre d’association)')\n",
    "        elif XF['libUsage_mean'].iloc[0] == 'Agences de Voyage et Hôtels':\n",
    "            XF['libUsage_mean'].iloc[0]=means3.get('Agences de Voyage et Hôtels')\n",
    "        elif XF['libUsage_mean'].iloc[0] == 'Agricole Tracteur et Moissonneuse Batteuse':\n",
    "            XF['libUsage_mean'].iloc[0]=means3.get('Agricole Tracteur et Moissonneuse Batteuse')\n",
    "        elif XF['libUsage_mean'].iloc[0] == 'Transport public de voyageurs':\n",
    "            XF['libUsage_mean'].iloc[0]=means3.get('Transport public de voyageurs')\n",
    "        elif XF['libUsage_mean'].iloc[0] == '-':\n",
    "            XF['libUsage_mean'].iloc[0]=means3.get('-')   \n",
    "        else:\n",
    "            XF['libUsage_mean'].iloc[0]=means3.get('Transport public de marchandise (avec matière dangereuse et inflammable)')\n",
    "\n",
    "        if XF['etatVehicule_mean'].iloc[0] == 'Epave':\n",
    "            XF['etatVehicule_mean'].iloc[0]=means4.get('E')\n",
    "        else:\n",
    "            XF['etatVehicule_mean'].iloc[0]=means4.get('V')\n",
    "\n",
    "        if XF['energie_mean'].iloc[0] == 'ESSENCE':\n",
    "            XF['energie_mean'].iloc[0]=means5.get('ESSENCE')\n",
    "        elif  XF['energie_mean'].iloc[0] == 'GASOIL':\n",
    "            XF['energie_mean'].iloc[0]=means5.get('GASOIL')\n",
    "        else:\n",
    "            XF['energie_mean'].iloc[0]=means5.get('Gaz')\n",
    "\n",
    "        if XF['natureDuSinistre_mean'].iloc[0] == '-':\n",
    "            XF['natureDuSinistre_mean'].iloc[0]=means6.get('-')\n",
    "        elif  XF['natureDuSinistre_mean'].iloc[0] == 'SINISTRE CORPOREL':\n",
    "            XF['natureDuSinistre_mean'].iloc[0]=means6.get('C')\n",
    "        else:\n",
    "            XF['natureDuSinistre_mean'].iloc[0]=means6.get('M')\n",
    "\n",
    "        if XF['lieuDuSinistre_mean'].iloc[0] == 'Ariana':\n",
    "            XF['lieuDuSinistre_mean'].iloc[0]=means7.get('Ariana')\n",
    "        else:\n",
    "            XF['lieuDuSinistre_mean'].iloc[0]=means7.get('TUNIS')\n",
    "\n",
    "        if XF['identificationTiers_mean'].iloc[0] == 'Autres':\n",
    "            XF['identificationTiers_mean'].iloc[0]=means8.get('Autres')\n",
    "        elif  XF['identificationTiers_mean'].iloc[0] == 'Véhicules':\n",
    "            XF['identificationTiers_mean'].iloc[0]=means8.get('V')\n",
    "        elif XF['identificationTiers_mean'].iloc[0] == 'Bien Immobiliers':\n",
    "            XF['identificationTiers_mean'].iloc[0]=means8.get('I')\n",
    "        else:\n",
    "            XF['identificationTiers_mean'].iloc[0]=means8.get('U')\n",
    "\n",
    "        rep=\"\"\n",
    "        y_pred=0\n",
    "        y_pred = xgb_clfdf.predict(XF.iloc[0].values.reshape(1,-1))\n",
    "        if y_pred==1:\n",
    "            rep = \"Frauduleux\"\n",
    "        else :\n",
    "            rep = \"Non Frauduleux\"\n",
    "\n",
    "\n",
    "        return 'Votre client est  {} , Merci pour votre confiance !'.format(\n",
    "            rep\n",
    "        )\n",
    "\n",
    "@app.callback(\n",
    "dash.dependencies.Output('container-button-basicG', 'children'),\n",
    "[dash.dependencies.Input('submit-valG', 'n_clicks')],\n",
    "[dash.dependencies.State('loanG' ,'value'),\n",
    "dash.dependencies.State('pfG','value'),\n",
    "dash.dependencies.State('npG','value'),\n",
    "dash.dependencies.State('tpG','value'),\n",
    "dash.dependencies.State('EtatPolG','value'),\n",
    "dash.dependencies.State('luG','value'),\n",
    "dash.dependencies.State('evG','value'),\n",
    "dash.dependencies.State('eneG','value'),\n",
    "dash.dependencies.State('lsG','value'),\n",
    "dash.dependencies.State('itG','value'),\n",
    "dash.dependencies.State('efG','date')])\n",
    "\n",
    "def update_outpute(n_clicks, v,v1,v2,v3,v4,v5,v6,v7,v8,v9,v10):\n",
    "    changed_id = [p['prop_id'] for p in dash.callback_context.triggered][0]\n",
    "    if 'submit-valG' in changed_id:\n",
    "        \n",
    "        date = dt.strptime(re.split('T| ', v10)[0], '%Y-%m-%d')\n",
    "        date=str(date)\n",
    "        date=date.split('-')\n",
    "        L = date[0].split(' ')\n",
    "        new = np.array([v,v1,v2,v3,v4,v5,v6,v7,v8,v9,int(date[0]),int(date[1]),int(L[0])])\n",
    "        df.iloc[0] = new\n",
    "        \n",
    "        if df['naturePolice_mean'].iloc[0] == 'T':\n",
    "            df['naturePolice_mean'].iloc[0]=means0.get('T')\n",
    "        else:\n",
    "            df['naturePolice_mean'].iloc[0]=means0.get('R')\n",
    "\n",
    "        if df['Etat_Police_mean'].iloc[0] == 'V':\n",
    "            df['Etat_Police_mean'].iloc[0]=means2.get('V')\n",
    "        elif  df['Etat_Police_mean'].iloc[0] == 'R':\n",
    "            df['Etat_Police_mean'].iloc[0]=means2.get('R')\n",
    "        else:\n",
    "            df['Etat_Police_mean'].iloc[0]=means2.get('S')\n",
    "        if df['typePolice_mean'].iloc[0] == 'I':\n",
    "            df['typePolice_mean'].iloc[0]=means1.get('I')\n",
    "        else:\n",
    "            df['typePolice_mean'].iloc[0]=means1.get('F')\n",
    "\n",
    "\n",
    "        if df['etatVehicule_mean'].iloc[0] == 'E':\n",
    "            df['etatVehicule_mean'].iloc[0]=means4.get('E')\n",
    "        else:\n",
    "            df['etatVehicule_mean'].iloc[0]=means4.get('V')\n",
    "\n",
    "\n",
    "        if df['energie_mean'].iloc[0] == 'ESSENCE':\n",
    "            df['energie_mean'].iloc[0]=means5.get('ESSENCE')\n",
    "        elif  df['energie_mean'].iloc[0] == 'GASOIL':\n",
    "            df['energie_mean'].iloc[0]=means5.get('GASOIL')\n",
    "        else:\n",
    "            df['energie_mean'].iloc[0]=means5.get('Gaz')\n",
    "\n",
    "\n",
    "        if df['identificationTiers_mean'].iloc[0] == 'Autres':\n",
    "            df['identificationTiers_mean'].iloc[0]=means8.get('Autres')\n",
    "        elif  df['identificationTiers_mean'].iloc[0] == 'V':\n",
    "            df['identificationTiers_mean'].iloc[0]=means8.get('V')\n",
    "        elif df['identificationTiers_mean'].iloc[0] == 'I':\n",
    "            df['identificationTiers_mean'].iloc[0]=means8.get('I')\n",
    "        else:\n",
    "            df['identificationTiers_mean'].iloc[0]=means8.get('U')\n",
    "\n",
    "        if df['libUsage_mean'].iloc[0] == 'Agricole1 véhicule dont le PTC < 3500 kg':\n",
    "            df['libUsage_mean'].iloc[0]=means3.get('Agricole1 véhicule dont le PTC < 3500 kg')\n",
    "        elif  df['libUsage_mean'].iloc[0] == 'Auto-Ecole':\n",
    "            df['libUsage_mean'].iloc[0]=means3.get('Auto-Ecole')\n",
    "        elif df['libUsage_mean'].iloc[0] == 'Taxi':\n",
    "            df['libUsage_mean'].iloc[0]=means3.get('Taxi')\n",
    "        elif df['libUsage_mean'].iloc[0] == 'Privé et professionnel':\n",
    "            df['libUsage_mean'].iloc[0]=means3.get('Privé et professionnel')\n",
    "        elif df['libUsage_mean'].iloc[0] == 'Utilitaire 1 véhicule dont le PTC < 3500 kg (y compris usage voirie)':\n",
    "            df['libUsage_mean'].iloc[0]=means3.get('Utilitaire 1 véhicule dont le PTC < 3500 kg (y compris usage voirie)')\n",
    "        elif df['libUsage_mean'].iloc[0] == 'Utilitaire 2 véhicule dont le PTC > 3500 kg (y compris voirie)':\n",
    "            df['libUsage_mean'].iloc[0]=means3.get('Utilitaire 2 véhicule dont le PTC > 3500 kg (y compris voirie)')\n",
    "        elif df['libUsage_mean'].iloc[0] == 'Louage':\n",
    "            df['libUsage_mean'].iloc[0]=means3.get('Louage')\n",
    "        elif df['libUsage_mean'].iloc[0] == 'Transport Rural':\n",
    "            df['libUsage_mean'].iloc[0]=means3.get('Transport Rural')                    \n",
    "        elif df['libUsage_mean'].iloc[0] == 'Location':\n",
    "            df['libUsage_mean'].iloc[0]=means3.get('Location')    \n",
    "        elif df['libUsage_mean'].iloc[0] == 'Engin de Chantiers':\n",
    "            df['libUsage_mean'].iloc[0]=means3.get('Engin de Chantiers')    \n",
    "        elif df['libUsage_mean'].iloc[0] == 'autres usages (Ambulance / Corbillard / RC Garagiste / RC Trajet etc)':\n",
    "            df['libUsage_mean'].iloc[0]=means3.get('autres usages (Ambulance / Corbillard / RC Garagiste / RC Trajet etc)')\n",
    "        elif df['libUsage_mean'].iloc[0] == 'Agricole 2 véhicule dont le PTC > 3500 kg':\n",
    "            df['libUsage_mean'].iloc[0]=means3.get('Agricole 2 véhicule dont le PTC > 3500 kg')\n",
    "        elif df['libUsage_mean'].iloc[0] == 'Transport privé de personnes (personnel / enfants /membre d’association)':\n",
    "            df['libUsage_mean'].iloc[0]=means3.get('Transport privé de personnes (personnel / enfants /membre d’association)')\n",
    "        elif df['libUsage_mean'].iloc[0] == 'Agences de Voyage et Hôtels':\n",
    "            df['libUsage_mean'].iloc[0]=means3.get('Agences de Voyage et Hôtels')\n",
    "        elif df['libUsage_mean'].iloc[0] == 'Agricole Tracteur et Moissonneuse Batteuse':\n",
    "            df['libUsage_mean'].iloc[0]=means3.get('Agricole Tracteur et Moissonneuse Batteuse')\n",
    "        elif df['libUsage_mean'].iloc[0] == 'Transport public de voyageurs':\n",
    "            df['libUsage_mean'].iloc[0]=means3.get('Transport public de voyageurs')\n",
    "        elif df['libUsage_mean'].iloc[0] == '-':\n",
    "            df['libUsage_mean'].iloc[0]=means3.get('-')   \n",
    "        else:\n",
    "            df['libUsage_mean'].iloc[0]=means3.get('Transport public de marchandise (avec matière dangereuse et inflammable)')\n",
    "\n",
    "        if df['lieuDuSinistre_mean'].iloc[0] == 'Ariana':\n",
    "            df['lieuDuSinistre_mean'].iloc[0]=means7.get('Ariana')\n",
    "        else:\n",
    "            df['lieuDuSinistre_mean'].iloc[0]=means7.get('TUNIS')   \n",
    "\n",
    "        y_pred_XGB=0\n",
    "        rep=0\n",
    "        y_pred_XGB = xgb_clf.predict(df.iloc[0].values.reshape(1,-1))\n",
    "        if y_pred_XGB==1:\n",
    "            rep = 1\n",
    "        elif y_pred_XGB==2:\n",
    "            rep = 2\n",
    "        elif y_pred_XGB==3:\n",
    "            rep = 3\n",
    "        elif y_pred_XGB==4:\n",
    "            rep = 4\n",
    "        elif y_pred_XGB==5:\n",
    "            rep = 5\n",
    "        elif y_pred_XGB==6:\n",
    "            rep = 6\n",
    "        elif y_pred_XGB==7:\n",
    "            rep = 7\n",
    "        elif y_pred_XGB==8:\n",
    "            rep = 8\n",
    "        elif y_pred_XGB==9:\n",
    "            rep = 9\n",
    "        elif y_pred_XGB==10:\n",
    "            rep = 10\n",
    "        else:\n",
    "            rep = 11\n",
    "         \n",
    "        return 'La Classe prédite est  {}  , Merci pour votre confiance !'.format(\n",
    "            rep\n",
    "        )\n",
    "\n",
    "@app.callback(\n",
    "dash.dependencies.Output('container-button-basicF', 'children'),\n",
    "[dash.dependencies.Input('submit-valF1', 'n_clicks')],\n",
    "[dash.dependencies.State('ddb', 'date'),\n",
    "dash.dependencies.State('ddf', 'date'),\n",
    "dash.dependencies.State('marque', 'value'),\n",
    "dash.dependencies.State('limT', 'value')])\n",
    "\n",
    "def update_output2(n_clicks,V1,V2,V3,V4):\n",
    "    #date debut\n",
    "    dated = dt.strptime(re.split('T| ', V1)[0], '%Y-%m-%d')\n",
    "    dated=str(dated)\n",
    "    dated=dated.split('-')\n",
    "    Liste1 = dated[2].split(' ')\n",
    "    #date fin\n",
    "    datef = dt.strptime(re.split('T| ', V2)[0], '%Y-%m-%d')\n",
    "    datef=str(datef)\n",
    "    datef=datef.split('-')\n",
    "    Liste2 = datef[2].split(' ')\n",
    "    #tweets,key=Scrap_it(Liste1[2],Liste1[1],Liste1[0],Liste2[2],Liste2[1],Liste2[0],V4,V3)\n",
    "    if not n_clicks:\n",
    "        raise PreventUpdate    \n",
    "    #tweets,key=Scrap_it(1,5,2015,1,5,2020,V4,V3)\n",
    "    tweets,key=Scrap_it(int(Liste1[0]),int(dated[1]),int(dated[0]),int(Liste2[0]),int(datef[1]),int(datef[0]),V4,V3)\n",
    "    Work(key,tweets)\n",
    "    return('Terminé!')\n",
    "\n",
    "@app.callback(\n",
    "    \n",
    "dash.dependencies.Output('image', 'src'),\n",
    "[dash.dependencies.Input('submit-valF2', 'n_clicks')])   \n",
    "\n",
    "def update_source(n_clicks):\n",
    "    if not n_clicks:\n",
    "        raise PreventUpdate\n",
    "    return('data:image/png;base64,{}'.format(encoded_image1.decode()))\n",
    "\n",
    "@app.callback(\n",
    "dash.dependencies.Output('graph', 'children'),\n",
    "[dash.dependencies.Input('submit-valF2', 'n_clicks')]) \n",
    "def update_graph(n_clicks):\n",
    "    if not n_clicks:\n",
    "        raise PreventUpdate\n",
    "    \n",
    "    return(dcc.Graph(\n",
    "    id='example-graph',\n",
    "    figure={\n",
    "        'data': [\n",
    "            {'x': L, 'y': PercentNeut, 'type': 'bar','name': 'Neutral'},\n",
    "            {'x': L, 'y': PercentPos, 'type': 'bar','name': 'Positive'},\n",
    "            {'x': L, 'y': PercentNeg, 'type': 'bar','name': 'Negative'}\n",
    "        ],\n",
    "        'layout': {\n",
    "            'title': 'Polarity Classification (in %)'\n",
    "        }\n",
    "     }\n",
    "     ))\n"
   ]
  },
  {
   "cell_type": "code",
   "execution_count": null,
   "metadata": {},
   "outputs": [
    {
     "name": "stdout",
     "output_type": "stream",
     "text": [
      " * Serving Flask app \"__main__\" (lazy loading)\n",
      " * Environment: production\n",
      "   WARNING: This is a development server. Do not use it in a production deployment.\n",
      "   Use a production WSGI server instead.\n",
      " * Debug mode: off\n"
     ]
    },
    {
     "name": "stderr",
     "output_type": "stream",
     "text": [
      " * Running on http://127.0.0.1:8051/ (Press CTRL+C to quit)\n",
      "127.0.0.1 - - [01/Jun/2020 12:37:50] \"\u001b[37mGET / HTTP/1.1\u001b[0m\" 200 -\n",
      "127.0.0.1 - - [01/Jun/2020 12:37:50] \"\u001b[37mGET /_dash-component-suites/dash_renderer/react@16.8.6.min.js?v=1.1.0&m=1590509114 HTTP/1.1\u001b[0m\" 200 -\n",
      "127.0.0.1 - - [01/Jun/2020 12:37:50] \"\u001b[37mGET /_dash-component-suites/dash_renderer/prop-types@15.7.2.min.js?v=1.1.0&m=1590509114 HTTP/1.1\u001b[0m\" 200 -\n",
      "127.0.0.1 - - [01/Jun/2020 12:37:50] \"\u001b[37mGET /_dash-component-suites/dash_core_components/highlight.pack.js?v=1.2.0&m=1590509119 HTTP/1.1\u001b[0m\" 200 -\n",
      "127.0.0.1 - - [01/Jun/2020 12:37:50] \"\u001b[37mGET /_dash-component-suites/dash_renderer/react-dom@16.8.6.min.js?v=1.1.0&m=1590509114 HTTP/1.1\u001b[0m\" 200 -\n",
      "127.0.0.1 - - [01/Jun/2020 12:37:50] \"\u001b[37mGET /_dash-component-suites/dash_html_components/dash_html_components.min.js?v=1.0.1&m=1590509112 HTTP/1.1\u001b[0m\" 200 -\n",
      "127.0.0.1 - - [01/Jun/2020 12:37:50] \"\u001b[37mGET /_dash-component-suites/dash_bootstrap_components/_components/dash_bootstrap_components.min.js?v=0.8.1&m=1590509999 HTTP/1.1\u001b[0m\" 200 -\n",
      "127.0.0.1 - - [01/Jun/2020 12:37:50] \"\u001b[37mGET /_dash-component-suites/dash_renderer/dash_renderer.min.js?v=1.1.0&m=1590509114 HTTP/1.1\u001b[0m\" 200 -\n",
      "127.0.0.1 - - [01/Jun/2020 12:37:50] \"\u001b[37mGET /_dash-component-suites/dash_core_components/dash_core_components.min.js?v=1.2.0&m=1590509119 HTTP/1.1\u001b[0m\" 200 -\n",
      "127.0.0.1 - - [01/Jun/2020 12:37:50] \"\u001b[37mGET /_dash-component-suites/dash_core_components/plotly-1.49.4.min.js?v=1.2.0&m=1590509119 HTTP/1.1\u001b[0m\" 200 -\n",
      "127.0.0.1 - - [01/Jun/2020 12:37:51] \"\u001b[37mGET /_dash-dependencies HTTP/1.1\u001b[0m\" 200 -\n",
      "127.0.0.1 - - [01/Jun/2020 12:37:51] \"\u001b[37mGET /_dash-layout HTTP/1.1\u001b[0m\" 200 -\n",
      "127.0.0.1 - - [01/Jun/2020 12:37:51] \"\u001b[37mPOST /_dash-update-component HTTP/1.1\u001b[0m\" 200 -\n",
      "127.0.0.1 - - [01/Jun/2020 12:37:51] \"\u001b[37mPOST /_dash-update-component HTTP/1.1\u001b[0m\" 200 -\n",
      "127.0.0.1 - - [01/Jun/2020 12:37:51] \"\u001b[37mPOST /_dash-update-component HTTP/1.1\u001b[0m\" 200 -\n",
      "127.0.0.1 - - [01/Jun/2020 12:37:51] \"\u001b[37mPOST /_dash-update-component HTTP/1.1\u001b[0m\" 200 -\n",
      "127.0.0.1 - - [01/Jun/2020 12:37:51] \"\u001b[37mPOST /_dash-update-component HTTP/1.1\u001b[0m\" 200 -\n",
      "127.0.0.1 - - [01/Jun/2020 12:37:56] \"\u001b[37mPOST /_dash-update-component HTTP/1.1\u001b[0m\" 200 -\n",
      "127.0.0.1 - - [01/Jun/2020 12:37:56] \"\u001b[37mPOST /_dash-update-component HTTP/1.1\u001b[0m\" 200 -\n",
      "127.0.0.1 - - [01/Jun/2020 12:37:56] \"\u001b[37mPOST /_dash-update-component HTTP/1.1\u001b[0m\" 200 -\n",
      "127.0.0.1 - - [01/Jun/2020 12:37:57] \"\u001b[37mPOST /_dash-update-component HTTP/1.1\u001b[0m\" 200 -\n",
      "127.0.0.1 - - [01/Jun/2020 12:37:57] \"\u001b[37mPOST /_dash-update-component HTTP/1.1\u001b[0m\" 200 -\n",
      "127.0.0.1 - - [01/Jun/2020 12:37:57] \"\u001b[37mPOST /_dash-update-component HTTP/1.1\u001b[0m\" 204 -\n",
      "127.0.0.1 - - [01/Jun/2020 12:37:57] \"\u001b[37mPOST /_dash-update-component HTTP/1.1\u001b[0m\" 204 -\n",
      "127.0.0.1 - - [01/Jun/2020 12:37:57] \"\u001b[37mPOST /_dash-update-component HTTP/1.1\u001b[0m\" 204 -\n",
      "127.0.0.1 - - [01/Jun/2020 12:37:59] \"\u001b[37mPOST /_dash-update-component HTTP/1.1\u001b[0m\" 200 -\n",
      "127.0.0.1 - - [01/Jun/2020 12:37:59] \"\u001b[37mPOST /_dash-update-component HTTP/1.1\u001b[0m\" 200 -\n",
      "127.0.0.1 - - [01/Jun/2020 12:37:59] \"\u001b[37mPOST /_dash-update-component HTTP/1.1\u001b[0m\" 200 -\n",
      "127.0.0.1 - - [01/Jun/2020 12:38:32] \"\u001b[37mPOST /_dash-update-component HTTP/1.1\u001b[0m\" 200 -\n"
     ]
    }
   ],
   "source": [
    "app.run_server(port=8051)"
   ]
  },
  {
   "cell_type": "code",
   "execution_count": null,
   "metadata": {},
   "outputs": [],
   "source": []
  },
  {
   "cell_type": "code",
   "execution_count": null,
   "metadata": {},
   "outputs": [],
   "source": []
  },
  {
   "cell_type": "code",
   "execution_count": null,
   "metadata": {},
   "outputs": [],
   "source": []
  },
  {
   "cell_type": "code",
   "execution_count": null,
   "metadata": {},
   "outputs": [],
   "source": []
  },
  {
   "cell_type": "code",
   "execution_count": null,
   "metadata": {},
   "outputs": [],
   "source": []
  },
  {
   "cell_type": "code",
   "execution_count": null,
   "metadata": {},
   "outputs": [],
   "source": []
  },
  {
   "cell_type": "code",
   "execution_count": null,
   "metadata": {},
   "outputs": [],
   "source": []
  },
  {
   "cell_type": "code",
   "execution_count": null,
   "metadata": {},
   "outputs": [],
   "source": []
  },
  {
   "cell_type": "code",
   "execution_count": null,
   "metadata": {},
   "outputs": [],
   "source": []
  },
  {
   "cell_type": "code",
   "execution_count": null,
   "metadata": {},
   "outputs": [],
   "source": []
  },
  {
   "cell_type": "code",
   "execution_count": null,
   "metadata": {},
   "outputs": [],
   "source": []
  },
  {
   "cell_type": "code",
   "execution_count": null,
   "metadata": {},
   "outputs": [],
   "source": []
  },
  {
   "cell_type": "code",
   "execution_count": null,
   "metadata": {},
   "outputs": [],
   "source": []
  },
  {
   "cell_type": "code",
   "execution_count": null,
   "metadata": {},
   "outputs": [],
   "source": []
  },
  {
   "cell_type": "code",
   "execution_count": null,
   "metadata": {},
   "outputs": [],
   "source": []
  },
  {
   "cell_type": "code",
   "execution_count": null,
   "metadata": {},
   "outputs": [],
   "source": []
  },
  {
   "cell_type": "code",
   "execution_count": null,
   "metadata": {},
   "outputs": [],
   "source": []
  },
  {
   "cell_type": "code",
   "execution_count": null,
   "metadata": {},
   "outputs": [],
   "source": []
  },
  {
   "cell_type": "code",
   "execution_count": null,
   "metadata": {},
   "outputs": [],
   "source": []
  },
  {
   "cell_type": "code",
   "execution_count": null,
   "metadata": {},
   "outputs": [],
   "source": []
  },
  {
   "cell_type": "code",
   "execution_count": null,
   "metadata": {},
   "outputs": [],
   "source": []
  },
  {
   "cell_type": "code",
   "execution_count": null,
   "metadata": {},
   "outputs": [],
   "source": []
  },
  {
   "cell_type": "code",
   "execution_count": null,
   "metadata": {},
   "outputs": [],
   "source": []
  },
  {
   "cell_type": "code",
   "execution_count": null,
   "metadata": {},
   "outputs": [],
   "source": []
  },
  {
   "cell_type": "code",
   "execution_count": null,
   "metadata": {},
   "outputs": [],
   "source": []
  },
  {
   "cell_type": "code",
   "execution_count": null,
   "metadata": {},
   "outputs": [],
   "source": []
  },
  {
   "cell_type": "code",
   "execution_count": null,
   "metadata": {},
   "outputs": [],
   "source": []
  },
  {
   "cell_type": "code",
   "execution_count": null,
   "metadata": {},
   "outputs": [],
   "source": []
  },
  {
   "cell_type": "code",
   "execution_count": null,
   "metadata": {},
   "outputs": [],
   "source": []
  },
  {
   "cell_type": "code",
   "execution_count": null,
   "metadata": {},
   "outputs": [],
   "source": []
  },
  {
   "cell_type": "code",
   "execution_count": null,
   "metadata": {},
   "outputs": [],
   "source": []
  },
  {
   "cell_type": "code",
   "execution_count": null,
   "metadata": {},
   "outputs": [],
   "source": []
  },
  {
   "cell_type": "code",
   "execution_count": null,
   "metadata": {},
   "outputs": [],
   "source": []
  },
  {
   "cell_type": "code",
   "execution_count": null,
   "metadata": {},
   "outputs": [],
   "source": []
  },
  {
   "cell_type": "code",
   "execution_count": null,
   "metadata": {},
   "outputs": [],
   "source": []
  },
  {
   "cell_type": "code",
   "execution_count": null,
   "metadata": {},
   "outputs": [],
   "source": []
  },
  {
   "cell_type": "code",
   "execution_count": null,
   "metadata": {},
   "outputs": [],
   "source": []
  },
  {
   "cell_type": "code",
   "execution_count": null,
   "metadata": {},
   "outputs": [],
   "source": []
  }
 ],
 "metadata": {
  "kernelspec": {
   "display_name": "Python 3",
   "language": "python",
   "name": "python3"
  },
  "language_info": {
   "codemirror_mode": {
    "name": "ipython",
    "version": 3
   },
   "file_extension": ".py",
   "mimetype": "text/x-python",
   "name": "python",
   "nbconvert_exporter": "python",
   "pygments_lexer": "ipython3",
   "version": "3.7.3"
  }
 },
 "nbformat": 4,
 "nbformat_minor": 4
}
