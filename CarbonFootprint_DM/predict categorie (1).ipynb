{
 "cells": [
  {
   "cell_type": "code",
   "execution_count": 1,
   "id": "7c4162bc",
   "metadata": {},
   "outputs": [
    {
     "name": "stderr",
     "output_type": "stream",
     "text": [
      "<ipython-input-1-b3d3bdcee481>:7: UserWarning:\n",
      "\n",
      "\n",
      "The dash_core_components package is deprecated. Please replace\n",
      "`import dash_core_components as dcc` with `from dash import dcc`\n",
      "\n",
      "<ipython-input-1-b3d3bdcee481>:8: UserWarning:\n",
      "\n",
      "\n",
      "The dash_html_components package is deprecated. Please replace\n",
      "`import dash_html_components as html` with `from dash import html`\n",
      "\n"
     ]
    }
   ],
   "source": [
    "import numpy as np\n",
    "import pandas as pd\n",
    "import matplotlib.pyplot as plt\n",
    "import plotly.offline as pyo\n",
    "import plotly.graph_objs as go\n",
    "import dash\n",
    "import dash_core_components as dcc\n",
    "import dash_html_components as html\n",
    "import seaborn as sns\n",
    "from sklearn.cluster import KMeans\n",
    "from scipy.cluster.hierarchy import dendrogram, linkage,fcluster\n",
    "from sklearn.neighbors import KNeighborsClassifier\n",
    "from sklearn.metrics import confusion_matrix, classification_report\n",
    "from sklearn.tree import DecisionTreeClassifier\n",
    "from sklearn.ensemble import RandomForestClassifier\n",
    "from sklearn.model_selection import train_test_split\n",
    "from sklearn.impute import SimpleImputer\n",
    "from sklearn.compose import ColumnTransformer\n",
    "from sklearn.preprocessing import MinMaxScaler, StandardScaler, RobustScaler, OneHotEncoder\n",
    "from sklearn.pipeline import Pipeline\n",
    "from sklearn.metrics import roc_curve, auc, adjusted_rand_score\n",
    "from sklearn.decomposition import PCA, TruncatedSVD\n",
    "from sklearn import svm\n",
    "from scipy.stats import pearsonr, spearmanr\n"
   ]
  },
  {
   "cell_type": "code",
   "execution_count": 2,
   "id": "039462f6",
   "metadata": {},
   "outputs": [],
   "source": [
    "import pandas as pd\n",
    "\n",
    "# Read the CSV files\n",
    "commodity = pd.read_csv('commodity_f.csv',sep = ',')"
   ]
  },
  {
   "cell_type": "code",
   "execution_count": 3,
   "id": "5d3b2752",
   "metadata": {},
   "outputs": [
    {
     "data": {
      "text/html": [
       "<div>\n",
       "<style scoped>\n",
       "    .dataframe tbody tr th:only-of-type {\n",
       "        vertical-align: middle;\n",
       "    }\n",
       "\n",
       "    .dataframe tbody tr th {\n",
       "        vertical-align: top;\n",
       "    }\n",
       "\n",
       "    .dataframe thead th {\n",
       "        text-align: right;\n",
       "    }\n",
       "</style>\n",
       "<table border=\"1\" class=\"dataframe\">\n",
       "  <thead>\n",
       "    <tr style=\"text-align: right;\">\n",
       "      <th></th>\n",
       "      <th>Country</th>\n",
       "      <th>commodity</th>\n",
       "      <th>flow</th>\n",
       "      <th>trade_usd</th>\n",
       "      <th>quantity_name</th>\n",
       "      <th>quantity</th>\n",
       "      <th>category</th>\n",
       "      <th>Carbon Footprint</th>\n",
       "    </tr>\n",
       "  </thead>\n",
       "  <tbody>\n",
       "    <tr>\n",
       "      <th>0</th>\n",
       "      <td>Afghanistan</td>\n",
       "      <td>Sheep, live</td>\n",
       "      <td>Export</td>\n",
       "      <td>6088.000</td>\n",
       "      <td>Number of items</td>\n",
       "      <td>51.00</td>\n",
       "      <td>01_live_animals</td>\n",
       "      <td>0.18</td>\n",
       "    </tr>\n",
       "    <tr>\n",
       "      <th>1</th>\n",
       "      <td>Afghanistan</td>\n",
       "      <td>Goats, live</td>\n",
       "      <td>Export</td>\n",
       "      <td>3958.000</td>\n",
       "      <td>Number of items</td>\n",
       "      <td>53.00</td>\n",
       "      <td>01_live_animals</td>\n",
       "      <td>0.18</td>\n",
       "    </tr>\n",
       "    <tr>\n",
       "      <th>2</th>\n",
       "      <td>Albania</td>\n",
       "      <td>Bovine animals, live, except pure-bred breeding</td>\n",
       "      <td>Import</td>\n",
       "      <td>2414533.000</td>\n",
       "      <td>Number of items</td>\n",
       "      <td>6853.00</td>\n",
       "      <td>01_live_animals</td>\n",
       "      <td>0.87</td>\n",
       "    </tr>\n",
       "    <tr>\n",
       "      <th>3</th>\n",
       "      <td>Albania</td>\n",
       "      <td>Swine, live except pure-bred breeding &gt; 50 kg</td>\n",
       "      <td>Import</td>\n",
       "      <td>7648728.875</td>\n",
       "      <td>Number of items</td>\n",
       "      <td>96040.00</td>\n",
       "      <td>01_live_animals</td>\n",
       "      <td>0.87</td>\n",
       "    </tr>\n",
       "    <tr>\n",
       "      <th>4</th>\n",
       "      <td>Albania</td>\n",
       "      <td>Fowls, live domestic &lt; 185 grams</td>\n",
       "      <td>Import</td>\n",
       "      <td>2671732.000</td>\n",
       "      <td>Number of items</td>\n",
       "      <td>4895775.75</td>\n",
       "      <td>01_live_animals</td>\n",
       "      <td>0.87</td>\n",
       "    </tr>\n",
       "    <tr>\n",
       "      <th>...</th>\n",
       "      <td>...</td>\n",
       "      <td>...</td>\n",
       "      <td>...</td>\n",
       "      <td>...</td>\n",
       "      <td>...</td>\n",
       "      <td>...</td>\n",
       "      <td>...</td>\n",
       "      <td>...</td>\n",
       "    </tr>\n",
       "    <tr>\n",
       "      <th>37403</th>\n",
       "      <td>Madagascar</td>\n",
       "      <td>Seaweeds and other algae,</td>\n",
       "      <td>Export</td>\n",
       "      <td>1014203.000</td>\n",
       "      <td>Weight in kilograms</td>\n",
       "      <td>1687717.00</td>\n",
       "      <td>12_oil_seed_oleagic_fruits_grain_seed_fruit_et...</td>\n",
       "      <td>0.07</td>\n",
       "    </tr>\n",
       "    <tr>\n",
       "      <th>37404</th>\n",
       "      <td>Madagascar</td>\n",
       "      <td>Vegetable products nes for human consumption</td>\n",
       "      <td>Import</td>\n",
       "      <td>4137.000</td>\n",
       "      <td>Weight in kilograms</td>\n",
       "      <td>1369.00</td>\n",
       "      <td>12_oil_seed_oleagic_fruits_grain_seed_fruit_et...</td>\n",
       "      <td>0.07</td>\n",
       "    </tr>\n",
       "    <tr>\n",
       "      <th>37405</th>\n",
       "      <td>Madagascar</td>\n",
       "      <td>Cereal straw &amp; husks, unprepared</td>\n",
       "      <td>Export</td>\n",
       "      <td>11.000</td>\n",
       "      <td>Weight in kilograms</td>\n",
       "      <td>4.00</td>\n",
       "      <td>12_oil_seed_oleagic_fruits_grain_seed_fruit_et...</td>\n",
       "      <td>0.07</td>\n",
       "    </tr>\n",
       "    <tr>\n",
       "      <th>37406</th>\n",
       "      <td>Madagascar</td>\n",
       "      <td>Lucerne (alfalfa) meal and pellets</td>\n",
       "      <td>Import</td>\n",
       "      <td>1720.000</td>\n",
       "      <td>Weight in kilograms</td>\n",
       "      <td>2000.00</td>\n",
       "      <td>12_oil_seed_oleagic_fruits_grain_seed_fruit_et...</td>\n",
       "      <td>0.07</td>\n",
       "    </tr>\n",
       "    <tr>\n",
       "      <th>37407</th>\n",
       "      <td>Madagascar</td>\n",
       "      <td>Other fodder and forage products, roots, etc.</td>\n",
       "      <td>Import</td>\n",
       "      <td>22021.000</td>\n",
       "      <td>Weight in kilograms</td>\n",
       "      <td>66080.00</td>\n",
       "      <td>12_oil_seed_oleagic_fruits_grain_seed_fruit_et...</td>\n",
       "      <td>0.07</td>\n",
       "    </tr>\n",
       "  </tbody>\n",
       "</table>\n",
       "<p>37408 rows × 8 columns</p>\n",
       "</div>"
      ],
      "text/plain": [
       "           Country                                        commodity    flow  \\\n",
       "0      Afghanistan                                      Sheep, live  Export   \n",
       "1      Afghanistan                                      Goats, live  Export   \n",
       "2          Albania  Bovine animals, live, except pure-bred breeding  Import   \n",
       "3          Albania    Swine, live except pure-bred breeding > 50 kg  Import   \n",
       "4          Albania                 Fowls, live domestic < 185 grams  Import   \n",
       "...            ...                                              ...     ...   \n",
       "37403   Madagascar                        Seaweeds and other algae,  Export   \n",
       "37404   Madagascar     Vegetable products nes for human consumption  Import   \n",
       "37405   Madagascar                 Cereal straw & husks, unprepared  Export   \n",
       "37406   Madagascar               Lucerne (alfalfa) meal and pellets  Import   \n",
       "37407   Madagascar    Other fodder and forage products, roots, etc.  Import   \n",
       "\n",
       "         trade_usd        quantity_name    quantity  \\\n",
       "0         6088.000      Number of items       51.00   \n",
       "1         3958.000      Number of items       53.00   \n",
       "2      2414533.000      Number of items     6853.00   \n",
       "3      7648728.875      Number of items    96040.00   \n",
       "4      2671732.000      Number of items  4895775.75   \n",
       "...            ...                  ...         ...   \n",
       "37403  1014203.000  Weight in kilograms  1687717.00   \n",
       "37404     4137.000  Weight in kilograms     1369.00   \n",
       "37405       11.000  Weight in kilograms        4.00   \n",
       "37406     1720.000  Weight in kilograms     2000.00   \n",
       "37407    22021.000  Weight in kilograms    66080.00   \n",
       "\n",
       "                                                category  Carbon Footprint  \n",
       "0                                        01_live_animals              0.18  \n",
       "1                                        01_live_animals              0.18  \n",
       "2                                        01_live_animals              0.87  \n",
       "3                                        01_live_animals              0.87  \n",
       "4                                        01_live_animals              0.87  \n",
       "...                                                  ...               ...  \n",
       "37403  12_oil_seed_oleagic_fruits_grain_seed_fruit_et...              0.07  \n",
       "37404  12_oil_seed_oleagic_fruits_grain_seed_fruit_et...              0.07  \n",
       "37405  12_oil_seed_oleagic_fruits_grain_seed_fruit_et...              0.07  \n",
       "37406  12_oil_seed_oleagic_fruits_grain_seed_fruit_et...              0.07  \n",
       "37407  12_oil_seed_oleagic_fruits_grain_seed_fruit_et...              0.07  \n",
       "\n",
       "[37408 rows x 8 columns]"
      ]
     },
     "execution_count": 3,
     "metadata": {},
     "output_type": "execute_result"
    }
   ],
   "source": [
    "commodity"
   ]
  },
  {
   "cell_type": "code",
   "execution_count": 4,
   "id": "b3f8ac71",
   "metadata": {},
   "outputs": [
    {
     "data": {
      "text/plain": [
       "Country              object\n",
       "commodity            object\n",
       "flow                 object\n",
       "trade_usd           float64\n",
       "quantity_name        object\n",
       "quantity            float64\n",
       "category             object\n",
       "Carbon Footprint    float64\n",
       "dtype: object"
      ]
     },
     "execution_count": 4,
     "metadata": {},
     "output_type": "execute_result"
    }
   ],
   "source": [
    "commodity.dtypes"
   ]
  },
  {
   "cell_type": "code",
   "execution_count": 5,
   "id": "9e9d030a",
   "metadata": {},
   "outputs": [],
   "source": [
    "from sklearn.preprocessing import LabelEncoder\n",
    "\n",
    "encoder = LabelEncoder()\n",
    "commodity['flow'] = encoder.fit_transform(commodity['flow'])\n",
    "commodity['quantity_name'] = encoder.fit_transform(commodity['quantity_name'])"
   ]
  },
  {
   "cell_type": "code",
   "execution_count": 6,
   "id": "47cad32c",
   "metadata": {},
   "outputs": [],
   "source": [
    "# Séparer les features et la variable cible\n",
    "X = commodity[['flow', 'trade_usd', 'quantity_name', 'quantity', 'Carbon Footprint']]\n",
    "y = commodity['category']"
   ]
  },
  {
   "cell_type": "code",
   "execution_count": 7,
   "id": "7f6b4fa1",
   "metadata": {},
   "outputs": [
    {
     "data": {
      "text/plain": [
       "Country              object\n",
       "commodity            object\n",
       "flow                  int32\n",
       "trade_usd           float64\n",
       "quantity_name         int32\n",
       "quantity            float64\n",
       "category             object\n",
       "Carbon Footprint    float64\n",
       "dtype: object"
      ]
     },
     "execution_count": 7,
     "metadata": {},
     "output_type": "execute_result"
    }
   ],
   "source": [
    "commodity.dtypes"
   ]
  },
  {
   "cell_type": "code",
   "execution_count": 8,
   "id": "afe5abad",
   "metadata": {},
   "outputs": [
    {
     "data": {
      "text/plain": [
       "Country              object\n",
       "commodity            object\n",
       "flow                  int32\n",
       "trade_usd           float64\n",
       "quantity_name         int32\n",
       "quantity            float64\n",
       "category             object\n",
       "Carbon Footprint    float64\n",
       "dtype: object"
      ]
     },
     "execution_count": 8,
     "metadata": {},
     "output_type": "execute_result"
    }
   ],
   "source": [
    "commodity.dtypes"
   ]
  },
  {
   "cell_type": "code",
   "execution_count": 9,
   "id": "d95d18ef",
   "metadata": {},
   "outputs": [],
   "source": [
    "commodity= commodity.drop(columns=['Country', 'commodity'])"
   ]
  },
  {
   "cell_type": "code",
   "execution_count": 11,
   "id": "4b39cd56",
   "metadata": {},
   "outputs": [
    {
     "name": "stdout",
     "output_type": "stream",
     "text": [
      "Précision : 23.30%\n"
     ]
    }
   ],
   "source": [
    "\n",
    "from sklearn.metrics import accuracy_score\n",
    "# Diviser les données en ensembles d'entraînement et de test\n",
    "X_train, X_test, y_train, y_test = train_test_split(X, y, test_size=0.2)\n",
    "\n",
    "# Créer un modèle d'arbre de décision\n",
    "decision_tree = DecisionTreeClassifier()\n",
    "\n",
    "# Entraîner le modèle sur les données d'entraînement\n",
    "decision_tree.fit(X_train, y_train)\n",
    "\n",
    "# Faire des prédictions sur les données de test\n",
    "y_pred_tree = decision_tree.predict(X_test)\n",
    "\n",
    "# Calculer la précision du modèle\n",
    "accuracy = accuracy_score(y_test, y_pred_tree)\n",
    "print(\"Précision : %.2f%%\" % (accuracy * 100.0))"
   ]
  },
  {
   "cell_type": "code",
   "execution_count": 12,
   "id": "8db82961",
   "metadata": {},
   "outputs": [],
   "source": [
    "com_svm=commodity"
   ]
  },
  {
   "cell_type": "code",
   "execution_count": 13,
   "id": "07e968a8",
   "metadata": {},
   "outputs": [],
   "source": [
    "import seaborn as sb\n",
    "import numpy as np\n",
    "\n",
    "features =[ 'flow', 'trade_usd', 'quantity_name', 'quantity', 'Carbon Footprint']\n",
    "\n",
    "def impute(com_svm, feature):\n",
    "    q1 = np.percentile(com_svm[feature] , 25)\n",
    "    q3 = np.percentile(com_svm[feature] , 75)\n",
    "    iqr = q3 - q1 \n",
    "    lower = q1 - 1.5 * iqr\n",
    "    upper = q3 + 1.5 * iqr\n",
    "    com_svm.loc[com_svm[feature] < lower, feature] = lower\n",
    "    com_svm.loc[com_svm[feature] > upper, feature] = upper\n",
    "\n",
    "for feature in features:\n",
    "    impute(com_svm, feature)"
   ]
  },
  {
   "cell_type": "code",
   "execution_count": 14,
   "id": "48f7ddd9",
   "metadata": {},
   "outputs": [],
   "source": [
    "# Séparer la variable cible des variables d'entrée\n",
    "X1 = com_svm.drop('category', axis=1)\n",
    "y1 = com_svm['category']"
   ]
  },
  {
   "cell_type": "code",
   "execution_count": 15,
   "id": "d0a9312d",
   "metadata": {},
   "outputs": [
    {
     "data": {
      "text/html": [
       "<div>\n",
       "<style scoped>\n",
       "    .dataframe tbody tr th:only-of-type {\n",
       "        vertical-align: middle;\n",
       "    }\n",
       "\n",
       "    .dataframe tbody tr th {\n",
       "        vertical-align: top;\n",
       "    }\n",
       "\n",
       "    .dataframe thead th {\n",
       "        text-align: right;\n",
       "    }\n",
       "</style>\n",
       "<table border=\"1\" class=\"dataframe\">\n",
       "  <thead>\n",
       "    <tr style=\"text-align: right;\">\n",
       "      <th></th>\n",
       "      <th>flow</th>\n",
       "      <th>trade_usd</th>\n",
       "      <th>quantity_name</th>\n",
       "      <th>quantity</th>\n",
       "      <th>Carbon Footprint</th>\n",
       "    </tr>\n",
       "  </thead>\n",
       "  <tbody>\n",
       "    <tr>\n",
       "      <th>0</th>\n",
       "      <td>0.0</td>\n",
       "      <td>6088.000</td>\n",
       "      <td>2.0</td>\n",
       "      <td>51.00</td>\n",
       "      <td>0.18</td>\n",
       "    </tr>\n",
       "    <tr>\n",
       "      <th>1</th>\n",
       "      <td>0.0</td>\n",
       "      <td>3958.000</td>\n",
       "      <td>2.0</td>\n",
       "      <td>53.00</td>\n",
       "      <td>0.18</td>\n",
       "    </tr>\n",
       "    <tr>\n",
       "      <th>2</th>\n",
       "      <td>1.0</td>\n",
       "      <td>2414533.000</td>\n",
       "      <td>2.0</td>\n",
       "      <td>6853.00</td>\n",
       "      <td>0.87</td>\n",
       "    </tr>\n",
       "    <tr>\n",
       "      <th>3</th>\n",
       "      <td>1.0</td>\n",
       "      <td>7648728.875</td>\n",
       "      <td>2.0</td>\n",
       "      <td>96040.00</td>\n",
       "      <td>0.87</td>\n",
       "    </tr>\n",
       "    <tr>\n",
       "      <th>4</th>\n",
       "      <td>1.0</td>\n",
       "      <td>2671732.000</td>\n",
       "      <td>2.0</td>\n",
       "      <td>4895775.75</td>\n",
       "      <td>0.87</td>\n",
       "    </tr>\n",
       "    <tr>\n",
       "      <th>...</th>\n",
       "      <td>...</td>\n",
       "      <td>...</td>\n",
       "      <td>...</td>\n",
       "      <td>...</td>\n",
       "      <td>...</td>\n",
       "    </tr>\n",
       "    <tr>\n",
       "      <th>37403</th>\n",
       "      <td>0.0</td>\n",
       "      <td>1014203.000</td>\n",
       "      <td>2.0</td>\n",
       "      <td>1687717.00</td>\n",
       "      <td>0.07</td>\n",
       "    </tr>\n",
       "    <tr>\n",
       "      <th>37404</th>\n",
       "      <td>1.0</td>\n",
       "      <td>4137.000</td>\n",
       "      <td>2.0</td>\n",
       "      <td>1369.00</td>\n",
       "      <td>0.07</td>\n",
       "    </tr>\n",
       "    <tr>\n",
       "      <th>37405</th>\n",
       "      <td>0.0</td>\n",
       "      <td>11.000</td>\n",
       "      <td>2.0</td>\n",
       "      <td>4.00</td>\n",
       "      <td>0.07</td>\n",
       "    </tr>\n",
       "    <tr>\n",
       "      <th>37406</th>\n",
       "      <td>1.0</td>\n",
       "      <td>1720.000</td>\n",
       "      <td>2.0</td>\n",
       "      <td>2000.00</td>\n",
       "      <td>0.07</td>\n",
       "    </tr>\n",
       "    <tr>\n",
       "      <th>37407</th>\n",
       "      <td>1.0</td>\n",
       "      <td>22021.000</td>\n",
       "      <td>2.0</td>\n",
       "      <td>66080.00</td>\n",
       "      <td>0.07</td>\n",
       "    </tr>\n",
       "  </tbody>\n",
       "</table>\n",
       "<p>37408 rows × 5 columns</p>\n",
       "</div>"
      ],
      "text/plain": [
       "       flow    trade_usd  quantity_name    quantity  Carbon Footprint\n",
       "0       0.0     6088.000            2.0       51.00              0.18\n",
       "1       0.0     3958.000            2.0       53.00              0.18\n",
       "2       1.0  2414533.000            2.0     6853.00              0.87\n",
       "3       1.0  7648728.875            2.0    96040.00              0.87\n",
       "4       1.0  2671732.000            2.0  4895775.75              0.87\n",
       "...     ...          ...            ...         ...               ...\n",
       "37403   0.0  1014203.000            2.0  1687717.00              0.07\n",
       "37404   1.0     4137.000            2.0     1369.00              0.07\n",
       "37405   0.0       11.000            2.0        4.00              0.07\n",
       "37406   1.0     1720.000            2.0     2000.00              0.07\n",
       "37407   1.0    22021.000            2.0    66080.00              0.07\n",
       "\n",
       "[37408 rows x 5 columns]"
      ]
     },
     "execution_count": 15,
     "metadata": {},
     "output_type": "execute_result"
    }
   ],
   "source": [
    "X1"
   ]
  },
  {
   "cell_type": "code",
   "execution_count": null,
   "id": "154bbb1a",
   "metadata": {},
   "outputs": [],
   "source": []
  },
  {
   "cell_type": "code",
   "execution_count": 16,
   "id": "7723a956",
   "metadata": {},
   "outputs": [
    {
     "name": "stdout",
     "output_type": "stream",
     "text": [
      "Accuracy : 26.60%\n"
     ]
    }
   ],
   "source": [
    "from sklearn.ensemble import RandomForestClassifier\n",
    "from sklearn.metrics import accuracy_score\n",
    "\n",
    "# Créer un objet RandomForestClassifier\n",
    "random_forest = RandomForestClassifier(n_estimators=100, random_state=42)\n",
    "\n",
    "# Entraîner le modèle\n",
    "random_forest.fit(X_train, y_train)\n",
    "\n",
    "# Faire des prédictions sur l'ensemble de test\n",
    "y_pred_forest = random_forest.predict(X_test)\n",
    "\n",
    "# Calculer l'accuracy du modèle\n",
    "accuracy = accuracy_score(y_test, y_pred_forest)\n",
    "print(\"Accuracy : {:.2f}%\".format(accuracy*100))"
   ]
  },
  {
   "cell_type": "code",
   "execution_count": 17,
   "id": "ca8b7472",
   "metadata": {},
   "outputs": [
    {
     "name": "stderr",
     "output_type": "stream",
     "text": [
      "C:\\Users\\zeffz\\anaconda3\\lib\\site-packages\\sklearn\\neighbors\\_classification.py:211: FutureWarning:\n",
      "\n",
      "Unlike other reduction functions (e.g. `skew`, `kurtosis`), the default behavior of `mode` typically preserves the axis it acts along. In SciPy 1.11.0, this behavior will change: the default value of `keepdims` will become False, the `axis` over which the statistic is taken will be eliminated, and the value None will no longer be accepted. Set `keepdims` to True or False to avoid this warning.\n",
      "\n"
     ]
    },
    {
     "name": "stdout",
     "output_type": "stream",
     "text": [
      "Accuracy : 18.99%\n"
     ]
    }
   ],
   "source": [
    "from sklearn.neighbors import KNeighborsClassifier\n",
    "from sklearn.metrics import accuracy_score\n",
    "\n",
    "# Créer un objet KNeighborsClassifier\n",
    "knn = KNeighborsClassifier(n_neighbors=5)\n",
    "\n",
    "# Entraîner le modèle\n",
    "knn.fit(X_train, y_train)\n",
    "\n",
    "# Faire des prédictions sur l'ensemble de test\n",
    "y_pred_knn = knn.predict(X_test)\n",
    "\n",
    "# Calculer l'accuracy du modèle\n",
    "accuracy = accuracy_score(y_test, y_pred_knn)\n",
    "print(\"Accuracy : {:.2f}%\".format(accuracy*100))"
   ]
  },
  {
   "cell_type": "code",
   "execution_count": null,
   "id": "6980ec6d",
   "metadata": {},
   "outputs": [],
   "source": [
    "y"
   ]
  },
  {
   "cell_type": "code",
   "execution_count": 18,
   "id": "8cbe1b80",
   "metadata": {},
   "outputs": [
    {
     "data": {
      "text/plain": [
       "flow                float64\n",
       "trade_usd           float64\n",
       "quantity_name       float64\n",
       "quantity            float64\n",
       "category             object\n",
       "Carbon Footprint    float64\n",
       "dtype: object"
      ]
     },
     "execution_count": 18,
     "metadata": {},
     "output_type": "execute_result"
    }
   ],
   "source": [
    "com_svm.dtypes"
   ]
  },
  {
   "cell_type": "code",
   "execution_count": 30,
   "id": "93c177f5",
   "metadata": {},
   "outputs": [
    {
     "name": "stdout",
     "output_type": "stream",
     "text": [
      "La prédiction du modèle de l'arbre de décision pour la nouvelle observation est: ['01_live_animals']\n"
     ]
    },
    {
     "name": "stderr",
     "output_type": "stream",
     "text": [
      "C:\\Users\\zeffz\\anaconda3\\lib\\site-packages\\sklearn\\neighbors\\_classification.py:211: FutureWarning:\n",
      "\n",
      "Unlike other reduction functions (e.g. `skew`, `kurtosis`), the default behavior of `mode` typically preserves the axis it acts along. In SciPy 1.11.0, this behavior will change: the default value of `keepdims` will become False, the `axis` over which the statistic is taken will be eliminated, and the value None will no longer be accepted. Set `keepdims` to True or False to avoid this warning.\n",
      "\n"
     ]
    }
   ],
   "source": [
    "# Supposons que vous avez une nouvelle observation représentée par les features suivants :\n",
    "new_observation = [[0.0, 6088.000, 2.0,51.00,0.18]]\n",
    "\n",
    "# Faire une prédiction avec le modèle de l'arbre de décision entraîné\n",
    "predicted_categorie = knn.predict(new_observation)\n",
    "\n",
    "# Afficher la prédiction\n",
    "print(\"La prédiction du modèle de l'arbre de décision pour la nouvelle observation est:\", predicted_categorie) "
   ]
  },
  {
   "cell_type": "code",
   "execution_count": 25,
   "id": "e82649e6",
   "metadata": {},
   "outputs": [],
   "source": [
    "import pickle\n",
    "\n",
    "# Save the trained model to a file\n",
    "filename = 'commodity-categorie.pkl'\n",
    "with open(filename, 'wb') as file:\n",
    "    \n",
    "    pickle.dump(random_forest, file)"
   ]
  },
  {
   "cell_type": "code",
   "execution_count": null,
   "id": "ae3d4a6d",
   "metadata": {},
   "outputs": [],
   "source": []
  }
 ],
 "metadata": {
  "kernelspec": {
   "display_name": "Python 3",
   "language": "python",
   "name": "python3"
  },
  "language_info": {
   "codemirror_mode": {
    "name": "ipython",
    "version": 3
   },
   "file_extension": ".py",
   "mimetype": "text/x-python",
   "name": "python",
   "nbconvert_exporter": "python",
   "pygments_lexer": "ipython3",
   "version": "3.8.8"
  }
 },
 "nbformat": 4,
 "nbformat_minor": 5
}
